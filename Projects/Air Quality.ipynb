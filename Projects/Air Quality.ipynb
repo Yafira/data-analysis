{
 "cells": [
  {
   "cell_type": "markdown",
   "metadata": {},
   "source": [
    "# Final Project: Air Quality"
   ]
  },
  {
   "cell_type": "markdown",
   "metadata": {},
   "source": [
    "This dataset contains information on New York City air quality surveillance data.\n",
    "\n",
    "Data Provided by: Department of Health and Mental Hygiene (DOHMH)\n",
    "\n",
    "Source: NYC OpenData (https://data.cityofnewyork.us/Environment/Air-Quality/c3uy-2p5r)"
   ]
  },
  {
   "cell_type": "code",
   "execution_count": 1,
   "metadata": {},
   "outputs": [],
   "source": [
    "import numpy as np\n",
    "import pandas as pd\n",
    "import matplotlib.pyplot as plt\n",
    "import seaborn as sns\n",
    "%matplotlib inline"
   ]
  },
  {
   "cell_type": "markdown",
   "metadata": {},
   "source": [
    "# Overall understanding of the data"
   ]
  },
  {
   "cell_type": "code",
   "execution_count": 2,
   "metadata": {},
   "outputs": [],
   "source": [
    "# Load the data as a pandas DataFrame\n",
    "df = pd.read_csv(\"Data/airquality/air-quality.csv\", delimiter=\",\")"
   ]
  },
  {
   "cell_type": "markdown",
   "metadata": {},
   "source": [
    "## Display:\n",
    "- The first 5 rows of the dataset\n",
    "- Number of instances\n",
    "- Number of features\n",
    "- Feature Names\n",
    "- Data type of each feature\n",
    "- Number of missing values for each feature"
   ]
  },
  {
   "cell_type": "code",
   "execution_count": 3,
   "metadata": {},
   "outputs": [
    {
     "data": {
      "text/html": [
       "<div>\n",
       "<style scoped>\n",
       "    .dataframe tbody tr th:only-of-type {\n",
       "        vertical-align: middle;\n",
       "    }\n",
       "\n",
       "    .dataframe tbody tr th {\n",
       "        vertical-align: top;\n",
       "    }\n",
       "\n",
       "    .dataframe thead th {\n",
       "        text-align: right;\n",
       "    }\n",
       "</style>\n",
       "<table border=\"1\" class=\"dataframe\">\n",
       "  <thead>\n",
       "    <tr style=\"text-align: right;\">\n",
       "      <th></th>\n",
       "      <th>indicator_data_id</th>\n",
       "      <th>indicator_id</th>\n",
       "      <th>name</th>\n",
       "      <th>Measure</th>\n",
       "      <th>geo_type_name</th>\n",
       "      <th>geo_entity_id</th>\n",
       "      <th>geo_entity_name</th>\n",
       "      <th>year_description</th>\n",
       "      <th>data_valuemessage</th>\n",
       "    </tr>\n",
       "  </thead>\n",
       "  <tbody>\n",
       "    <tr>\n",
       "      <th>0</th>\n",
       "      <td>130728</td>\n",
       "      <td>646</td>\n",
       "      <td>Air Toxics Concentrations- Average Benzene Con...</td>\n",
       "      <td>Average Concentration</td>\n",
       "      <td>Borough</td>\n",
       "      <td>1</td>\n",
       "      <td>Bronx</td>\n",
       "      <td>2005</td>\n",
       "      <td>2.8</td>\n",
       "    </tr>\n",
       "    <tr>\n",
       "      <th>1</th>\n",
       "      <td>130729</td>\n",
       "      <td>646</td>\n",
       "      <td>Air Toxics Concentrations- Average Benzene Con...</td>\n",
       "      <td>Average Concentration</td>\n",
       "      <td>Borough</td>\n",
       "      <td>2</td>\n",
       "      <td>Brooklyn</td>\n",
       "      <td>2005</td>\n",
       "      <td>2.8</td>\n",
       "    </tr>\n",
       "    <tr>\n",
       "      <th>2</th>\n",
       "      <td>130730</td>\n",
       "      <td>646</td>\n",
       "      <td>Air Toxics Concentrations- Average Benzene Con...</td>\n",
       "      <td>Average Concentration</td>\n",
       "      <td>Borough</td>\n",
       "      <td>3</td>\n",
       "      <td>Manhattan</td>\n",
       "      <td>2005</td>\n",
       "      <td>4.7</td>\n",
       "    </tr>\n",
       "    <tr>\n",
       "      <th>3</th>\n",
       "      <td>130731</td>\n",
       "      <td>646</td>\n",
       "      <td>Air Toxics Concentrations- Average Benzene Con...</td>\n",
       "      <td>Average Concentration</td>\n",
       "      <td>Borough</td>\n",
       "      <td>4</td>\n",
       "      <td>Queens</td>\n",
       "      <td>2005</td>\n",
       "      <td>1.9</td>\n",
       "    </tr>\n",
       "    <tr>\n",
       "      <th>4</th>\n",
       "      <td>130732</td>\n",
       "      <td>646</td>\n",
       "      <td>Air Toxics Concentrations- Average Benzene Con...</td>\n",
       "      <td>Average Concentration</td>\n",
       "      <td>Borough</td>\n",
       "      <td>5</td>\n",
       "      <td>Staten Island</td>\n",
       "      <td>2005</td>\n",
       "      <td>1.6</td>\n",
       "    </tr>\n",
       "  </tbody>\n",
       "</table>\n",
       "</div>"
      ],
      "text/plain": [
       "   indicator_data_id  indicator_id  \\\n",
       "0             130728           646   \n",
       "1             130729           646   \n",
       "2             130730           646   \n",
       "3             130731           646   \n",
       "4             130732           646   \n",
       "\n",
       "                                                name                Measure  \\\n",
       "0  Air Toxics Concentrations- Average Benzene Con...  Average Concentration   \n",
       "1  Air Toxics Concentrations- Average Benzene Con...  Average Concentration   \n",
       "2  Air Toxics Concentrations- Average Benzene Con...  Average Concentration   \n",
       "3  Air Toxics Concentrations- Average Benzene Con...  Average Concentration   \n",
       "4  Air Toxics Concentrations- Average Benzene Con...  Average Concentration   \n",
       "\n",
       "  geo_type_name  geo_entity_id geo_entity_name year_description  \\\n",
       "0       Borough              1           Bronx             2005   \n",
       "1       Borough              2        Brooklyn             2005   \n",
       "2       Borough              3       Manhattan             2005   \n",
       "3       Borough              4          Queens             2005   \n",
       "4       Borough              5   Staten Island             2005   \n",
       "\n",
       "   data_valuemessage  \n",
       "0                2.8  \n",
       "1                2.8  \n",
       "2                4.7  \n",
       "3                1.9  \n",
       "4                1.6  "
      ]
     },
     "execution_count": 3,
     "metadata": {},
     "output_type": "execute_result"
    }
   ],
   "source": [
    "# first 5 rows of the dataset\n",
    "df.head()"
   ]
  },
  {
   "cell_type": "code",
   "execution_count": 4,
   "metadata": {},
   "outputs": [
    {
     "name": "stdout",
     "output_type": "stream",
     "text": [
      "Shape: (2769, 9)\n"
     ]
    }
   ],
   "source": [
    "# Number of instances = 2769\n",
    "# Number of features = 9\n",
    "print(\"Shape:\", df.shape)"
   ]
  },
  {
   "cell_type": "code",
   "execution_count": 5,
   "metadata": {},
   "outputs": [
    {
     "name": "stdout",
     "output_type": "stream",
     "text": [
      "Feature names: indicator_data_id, indicator_id, name, Measure, geo_type_name, geo_entity_id, geo_entity_name, year_description, data_valuemessage\n"
     ]
    }
   ],
   "source": [
    "# Feature names\n",
    "print(\"Feature names:\", \", \".join(df.columns))"
   ]
  },
  {
   "cell_type": "code",
   "execution_count": 6,
   "metadata": {},
   "outputs": [
    {
     "data": {
      "text/plain": [
       "indicator_data_id     0\n",
       "indicator_id          0\n",
       "name                  0\n",
       "Measure               0\n",
       "geo_type_name         0\n",
       "geo_entity_id         0\n",
       "geo_entity_name       0\n",
       "year_description      0\n",
       "data_valuemessage    33\n",
       "dtype: int64"
      ]
     },
     "execution_count": 6,
     "metadata": {},
     "output_type": "execute_result"
    }
   ],
   "source": [
    "# Number of missing values for each feature\n",
    "\n",
    "# np.sum(data.isnull(), axis=0)\n",
    "pd.isnull(df).sum()"
   ]
  },
  {
   "cell_type": "markdown",
   "metadata": {},
   "source": [
    "## Check if the data types are correctly identified:"
   ]
  },
  {
   "cell_type": "code",
   "execution_count": 7,
   "metadata": {},
   "outputs": [
    {
     "name": "stdout",
     "output_type": "stream",
     "text": [
      "Data types: indicator_data_id      int64\n",
      "indicator_id           int64\n",
      "name                  object\n",
      "Measure               object\n",
      "geo_type_name         object\n",
      "geo_entity_id          int64\n",
      "geo_entity_name       object\n",
      "year_description      object\n",
      "data_valuemessage    float64\n",
      "dtype: object\n"
     ]
    }
   ],
   "source": [
    "# Data type of each feature\n",
    "print(\"Data types:\", df.dtypes)"
   ]
  },
  {
   "cell_type": "code",
   "execution_count": 8,
   "metadata": {},
   "outputs": [
    {
     "name": "stdout",
     "output_type": "stream",
     "text": [
      "type\n",
      " indicator_data_id    float64\n",
      "indicator_id           int64\n",
      "name                  object\n",
      "Measure               object\n",
      "geo_type_name         object\n",
      "geo_entity_id          int64\n",
      "geo_entity_name       object\n",
      "year_description      object\n",
      "data_valuemessage    float64\n",
      "dtype: object\n"
     ]
    }
   ],
   "source": [
    "# Change the data type of Id to float\n",
    "df[\"indicator_data_id\"] = df[\"indicator_data_id\"].astype(float)\n",
    "print(\"type\\n\", df.dtypes)"
   ]
  },
  {
   "cell_type": "markdown",
   "metadata": {},
   "source": [
    "## Handle missing values:"
   ]
  },
  {
   "cell_type": "code",
   "execution_count": 9,
   "metadata": {
    "scrolled": true
   },
   "outputs": [
    {
     "data": {
      "text/html": [
       "<div>\n",
       "<style scoped>\n",
       "    .dataframe tbody tr th:only-of-type {\n",
       "        vertical-align: middle;\n",
       "    }\n",
       "\n",
       "    .dataframe tbody tr th {\n",
       "        vertical-align: top;\n",
       "    }\n",
       "\n",
       "    .dataframe thead th {\n",
       "        text-align: right;\n",
       "    }\n",
       "</style>\n",
       "<table border=\"1\" class=\"dataframe\">\n",
       "  <thead>\n",
       "    <tr style=\"text-align: right;\">\n",
       "      <th></th>\n",
       "      <th>indicator_data_id</th>\n",
       "      <th>indicator_id</th>\n",
       "      <th>name</th>\n",
       "      <th>Measure</th>\n",
       "      <th>geo_type_name</th>\n",
       "      <th>geo_entity_id</th>\n",
       "      <th>geo_entity_name</th>\n",
       "      <th>year_description</th>\n",
       "      <th>data_valuemessage</th>\n",
       "    </tr>\n",
       "  </thead>\n",
       "  <tbody>\n",
       "    <tr>\n",
       "      <th>0</th>\n",
       "      <td>130728.0</td>\n",
       "      <td>646</td>\n",
       "      <td>Air Toxics Concentrations- Average Benzene Con...</td>\n",
       "      <td>Average Concentration</td>\n",
       "      <td>Borough</td>\n",
       "      <td>1</td>\n",
       "      <td>Bronx</td>\n",
       "      <td>2005</td>\n",
       "      <td>2.8</td>\n",
       "    </tr>\n",
       "    <tr>\n",
       "      <th>1</th>\n",
       "      <td>130729.0</td>\n",
       "      <td>646</td>\n",
       "      <td>Air Toxics Concentrations- Average Benzene Con...</td>\n",
       "      <td>Average Concentration</td>\n",
       "      <td>Borough</td>\n",
       "      <td>2</td>\n",
       "      <td>Brooklyn</td>\n",
       "      <td>2005</td>\n",
       "      <td>2.8</td>\n",
       "    </tr>\n",
       "    <tr>\n",
       "      <th>2</th>\n",
       "      <td>130730.0</td>\n",
       "      <td>646</td>\n",
       "      <td>Air Toxics Concentrations- Average Benzene Con...</td>\n",
       "      <td>Average Concentration</td>\n",
       "      <td>Borough</td>\n",
       "      <td>3</td>\n",
       "      <td>Manhattan</td>\n",
       "      <td>2005</td>\n",
       "      <td>4.7</td>\n",
       "    </tr>\n",
       "    <tr>\n",
       "      <th>3</th>\n",
       "      <td>130731.0</td>\n",
       "      <td>646</td>\n",
       "      <td>Air Toxics Concentrations- Average Benzene Con...</td>\n",
       "      <td>Average Concentration</td>\n",
       "      <td>Borough</td>\n",
       "      <td>4</td>\n",
       "      <td>Queens</td>\n",
       "      <td>2005</td>\n",
       "      <td>1.9</td>\n",
       "    </tr>\n",
       "    <tr>\n",
       "      <th>4</th>\n",
       "      <td>130732.0</td>\n",
       "      <td>646</td>\n",
       "      <td>Air Toxics Concentrations- Average Benzene Con...</td>\n",
       "      <td>Average Concentration</td>\n",
       "      <td>Borough</td>\n",
       "      <td>5</td>\n",
       "      <td>Staten Island</td>\n",
       "      <td>2005</td>\n",
       "      <td>1.6</td>\n",
       "    </tr>\n",
       "    <tr>\n",
       "      <th>5</th>\n",
       "      <td>130727.0</td>\n",
       "      <td>646</td>\n",
       "      <td>Air Toxics Concentrations- Average Benzene Con...</td>\n",
       "      <td>Average Concentration</td>\n",
       "      <td>Citywide</td>\n",
       "      <td>1</td>\n",
       "      <td>New York City</td>\n",
       "      <td>2005</td>\n",
       "      <td>2.9</td>\n",
       "    </tr>\n",
       "    <tr>\n",
       "      <th>6</th>\n",
       "      <td>130685.0</td>\n",
       "      <td>646</td>\n",
       "      <td>Air Toxics Concentrations- Average Benzene Con...</td>\n",
       "      <td>Average Concentration</td>\n",
       "      <td>UHF42</td>\n",
       "      <td>101</td>\n",
       "      <td>Kingsbridge - Riverdale</td>\n",
       "      <td>2005</td>\n",
       "      <td>2.9</td>\n",
       "    </tr>\n",
       "    <tr>\n",
       "      <th>7</th>\n",
       "      <td>130686.0</td>\n",
       "      <td>646</td>\n",
       "      <td>Air Toxics Concentrations- Average Benzene Con...</td>\n",
       "      <td>Average Concentration</td>\n",
       "      <td>UHF42</td>\n",
       "      <td>102</td>\n",
       "      <td>Northeast Bronx</td>\n",
       "      <td>2005</td>\n",
       "      <td>2.8</td>\n",
       "    </tr>\n",
       "    <tr>\n",
       "      <th>8</th>\n",
       "      <td>130687.0</td>\n",
       "      <td>646</td>\n",
       "      <td>Air Toxics Concentrations- Average Benzene Con...</td>\n",
       "      <td>Average Concentration</td>\n",
       "      <td>UHF42</td>\n",
       "      <td>103</td>\n",
       "      <td>Fordham - Bronx Pk</td>\n",
       "      <td>2005</td>\n",
       "      <td>2.7</td>\n",
       "    </tr>\n",
       "    <tr>\n",
       "      <th>9</th>\n",
       "      <td>130688.0</td>\n",
       "      <td>646</td>\n",
       "      <td>Air Toxics Concentrations- Average Benzene Con...</td>\n",
       "      <td>Average Concentration</td>\n",
       "      <td>UHF42</td>\n",
       "      <td>104</td>\n",
       "      <td>Pelham - Throgs Neck</td>\n",
       "      <td>2005</td>\n",
       "      <td>2.7</td>\n",
       "    </tr>\n",
       "    <tr>\n",
       "      <th>10</th>\n",
       "      <td>130689.0</td>\n",
       "      <td>646</td>\n",
       "      <td>Air Toxics Concentrations- Average Benzene Con...</td>\n",
       "      <td>Average Concentration</td>\n",
       "      <td>UHF42</td>\n",
       "      <td>105</td>\n",
       "      <td>Crotona -Tremont</td>\n",
       "      <td>2005</td>\n",
       "      <td>3.0</td>\n",
       "    </tr>\n",
       "    <tr>\n",
       "      <th>11</th>\n",
       "      <td>130690.0</td>\n",
       "      <td>646</td>\n",
       "      <td>Air Toxics Concentrations- Average Benzene Con...</td>\n",
       "      <td>Average Concentration</td>\n",
       "      <td>UHF42</td>\n",
       "      <td>106</td>\n",
       "      <td>High Bridge - Morrisania</td>\n",
       "      <td>2005</td>\n",
       "      <td>3.0</td>\n",
       "    </tr>\n",
       "    <tr>\n",
       "      <th>12</th>\n",
       "      <td>130691.0</td>\n",
       "      <td>646</td>\n",
       "      <td>Air Toxics Concentrations- Average Benzene Con...</td>\n",
       "      <td>Average Concentration</td>\n",
       "      <td>UHF42</td>\n",
       "      <td>107</td>\n",
       "      <td>Hunts Point - Mott Haven</td>\n",
       "      <td>2005</td>\n",
       "      <td>2.8</td>\n",
       "    </tr>\n",
       "    <tr>\n",
       "      <th>13</th>\n",
       "      <td>130692.0</td>\n",
       "      <td>646</td>\n",
       "      <td>Air Toxics Concentrations- Average Benzene Con...</td>\n",
       "      <td>Average Concentration</td>\n",
       "      <td>UHF42</td>\n",
       "      <td>201</td>\n",
       "      <td>Greenpoint</td>\n",
       "      <td>2005</td>\n",
       "      <td>3.7</td>\n",
       "    </tr>\n",
       "    <tr>\n",
       "      <th>14</th>\n",
       "      <td>130693.0</td>\n",
       "      <td>646</td>\n",
       "      <td>Air Toxics Concentrations- Average Benzene Con...</td>\n",
       "      <td>Average Concentration</td>\n",
       "      <td>UHF42</td>\n",
       "      <td>202</td>\n",
       "      <td>Downtown - Heights - Slope</td>\n",
       "      <td>2005</td>\n",
       "      <td>3.7</td>\n",
       "    </tr>\n",
       "    <tr>\n",
       "      <th>15</th>\n",
       "      <td>130694.0</td>\n",
       "      <td>646</td>\n",
       "      <td>Air Toxics Concentrations- Average Benzene Con...</td>\n",
       "      <td>Average Concentration</td>\n",
       "      <td>UHF42</td>\n",
       "      <td>203</td>\n",
       "      <td>Bedford Stuyvesant - Crown Heights</td>\n",
       "      <td>2005</td>\n",
       "      <td>2.5</td>\n",
       "    </tr>\n",
       "    <tr>\n",
       "      <th>16</th>\n",
       "      <td>130695.0</td>\n",
       "      <td>646</td>\n",
       "      <td>Air Toxics Concentrations- Average Benzene Con...</td>\n",
       "      <td>Average Concentration</td>\n",
       "      <td>UHF42</td>\n",
       "      <td>204</td>\n",
       "      <td>East New York</td>\n",
       "      <td>2005</td>\n",
       "      <td>2.3</td>\n",
       "    </tr>\n",
       "    <tr>\n",
       "      <th>17</th>\n",
       "      <td>130696.0</td>\n",
       "      <td>646</td>\n",
       "      <td>Air Toxics Concentrations- Average Benzene Con...</td>\n",
       "      <td>Average Concentration</td>\n",
       "      <td>UHF42</td>\n",
       "      <td>205</td>\n",
       "      <td>Sunset Park</td>\n",
       "      <td>2005</td>\n",
       "      <td>3.2</td>\n",
       "    </tr>\n",
       "    <tr>\n",
       "      <th>18</th>\n",
       "      <td>130697.0</td>\n",
       "      <td>646</td>\n",
       "      <td>Air Toxics Concentrations- Average Benzene Con...</td>\n",
       "      <td>Average Concentration</td>\n",
       "      <td>UHF42</td>\n",
       "      <td>206</td>\n",
       "      <td>Borough Park</td>\n",
       "      <td>2005</td>\n",
       "      <td>2.5</td>\n",
       "    </tr>\n",
       "    <tr>\n",
       "      <th>19</th>\n",
       "      <td>130698.0</td>\n",
       "      <td>646</td>\n",
       "      <td>Air Toxics Concentrations- Average Benzene Con...</td>\n",
       "      <td>Average Concentration</td>\n",
       "      <td>UHF42</td>\n",
       "      <td>207</td>\n",
       "      <td>East Flatbush - Flatbush</td>\n",
       "      <td>2005</td>\n",
       "      <td>2.3</td>\n",
       "    </tr>\n",
       "    <tr>\n",
       "      <th>20</th>\n",
       "      <td>130699.0</td>\n",
       "      <td>646</td>\n",
       "      <td>Air Toxics Concentrations- Average Benzene Con...</td>\n",
       "      <td>Average Concentration</td>\n",
       "      <td>UHF42</td>\n",
       "      <td>208</td>\n",
       "      <td>Canarsie - Flatlands</td>\n",
       "      <td>2005</td>\n",
       "      <td>2.4</td>\n",
       "    </tr>\n",
       "    <tr>\n",
       "      <th>21</th>\n",
       "      <td>130700.0</td>\n",
       "      <td>646</td>\n",
       "      <td>Air Toxics Concentrations- Average Benzene Con...</td>\n",
       "      <td>Average Concentration</td>\n",
       "      <td>UHF42</td>\n",
       "      <td>209</td>\n",
       "      <td>Bensonhurst - Bay Ridge</td>\n",
       "      <td>2005</td>\n",
       "      <td>2.8</td>\n",
       "    </tr>\n",
       "    <tr>\n",
       "      <th>22</th>\n",
       "      <td>130701.0</td>\n",
       "      <td>646</td>\n",
       "      <td>Air Toxics Concentrations- Average Benzene Con...</td>\n",
       "      <td>Average Concentration</td>\n",
       "      <td>UHF42</td>\n",
       "      <td>210</td>\n",
       "      <td>Coney Island - Sheepshead Bay</td>\n",
       "      <td>2005</td>\n",
       "      <td>2.4</td>\n",
       "    </tr>\n",
       "    <tr>\n",
       "      <th>23</th>\n",
       "      <td>130702.0</td>\n",
       "      <td>646</td>\n",
       "      <td>Air Toxics Concentrations- Average Benzene Con...</td>\n",
       "      <td>Average Concentration</td>\n",
       "      <td>UHF42</td>\n",
       "      <td>211</td>\n",
       "      <td>Williamsburg - Bushwick</td>\n",
       "      <td>2005</td>\n",
       "      <td>2.8</td>\n",
       "    </tr>\n",
       "    <tr>\n",
       "      <th>24</th>\n",
       "      <td>130703.0</td>\n",
       "      <td>646</td>\n",
       "      <td>Air Toxics Concentrations- Average Benzene Con...</td>\n",
       "      <td>Average Concentration</td>\n",
       "      <td>UHF42</td>\n",
       "      <td>301</td>\n",
       "      <td>Washington Heights</td>\n",
       "      <td>2005</td>\n",
       "      <td>4.1</td>\n",
       "    </tr>\n",
       "    <tr>\n",
       "      <th>25</th>\n",
       "      <td>130704.0</td>\n",
       "      <td>646</td>\n",
       "      <td>Air Toxics Concentrations- Average Benzene Con...</td>\n",
       "      <td>Average Concentration</td>\n",
       "      <td>UHF42</td>\n",
       "      <td>302</td>\n",
       "      <td>Central Harlem - Morningside Heights</td>\n",
       "      <td>2005</td>\n",
       "      <td>3.9</td>\n",
       "    </tr>\n",
       "    <tr>\n",
       "      <th>26</th>\n",
       "      <td>130705.0</td>\n",
       "      <td>646</td>\n",
       "      <td>Air Toxics Concentrations- Average Benzene Con...</td>\n",
       "      <td>Average Concentration</td>\n",
       "      <td>UHF42</td>\n",
       "      <td>303</td>\n",
       "      <td>East Harlem</td>\n",
       "      <td>2005</td>\n",
       "      <td>4.2</td>\n",
       "    </tr>\n",
       "    <tr>\n",
       "      <th>27</th>\n",
       "      <td>130706.0</td>\n",
       "      <td>646</td>\n",
       "      <td>Air Toxics Concentrations- Average Benzene Con...</td>\n",
       "      <td>Average Concentration</td>\n",
       "      <td>UHF42</td>\n",
       "      <td>304</td>\n",
       "      <td>Upper West Side</td>\n",
       "      <td>2005</td>\n",
       "      <td>3.9</td>\n",
       "    </tr>\n",
       "    <tr>\n",
       "      <th>28</th>\n",
       "      <td>130707.0</td>\n",
       "      <td>646</td>\n",
       "      <td>Air Toxics Concentrations- Average Benzene Con...</td>\n",
       "      <td>Average Concentration</td>\n",
       "      <td>UHF42</td>\n",
       "      <td>305</td>\n",
       "      <td>Upper East Side</td>\n",
       "      <td>2005</td>\n",
       "      <td>4.5</td>\n",
       "    </tr>\n",
       "    <tr>\n",
       "      <th>29</th>\n",
       "      <td>130708.0</td>\n",
       "      <td>646</td>\n",
       "      <td>Air Toxics Concentrations- Average Benzene Con...</td>\n",
       "      <td>Average Concentration</td>\n",
       "      <td>UHF42</td>\n",
       "      <td>306</td>\n",
       "      <td>Chelsea - Clinton</td>\n",
       "      <td>2005</td>\n",
       "      <td>4.9</td>\n",
       "    </tr>\n",
       "    <tr>\n",
       "      <th>...</th>\n",
       "      <td>...</td>\n",
       "      <td>...</td>\n",
       "      <td>...</td>\n",
       "      <td>...</td>\n",
       "      <td>...</td>\n",
       "      <td>...</td>\n",
       "      <td>...</td>\n",
       "      <td>...</td>\n",
       "      <td>...</td>\n",
       "    </tr>\n",
       "    <tr>\n",
       "      <th>2739</th>\n",
       "      <td>151731.0</td>\n",
       "      <td>645</td>\n",
       "      <td>Traffic Density- Annual Vehicle Miles Traveled...</td>\n",
       "      <td>Per 100 km2</td>\n",
       "      <td>UHF42</td>\n",
       "      <td>206</td>\n",
       "      <td>Borough Park</td>\n",
       "      <td>2005</td>\n",
       "      <td>1.1</td>\n",
       "    </tr>\n",
       "    <tr>\n",
       "      <th>2740</th>\n",
       "      <td>151732.0</td>\n",
       "      <td>645</td>\n",
       "      <td>Traffic Density- Annual Vehicle Miles Traveled...</td>\n",
       "      <td>Per 100 km2</td>\n",
       "      <td>UHF42</td>\n",
       "      <td>207</td>\n",
       "      <td>East Flatbush - Flatbush</td>\n",
       "      <td>2005</td>\n",
       "      <td>0.9</td>\n",
       "    </tr>\n",
       "    <tr>\n",
       "      <th>2741</th>\n",
       "      <td>151733.0</td>\n",
       "      <td>645</td>\n",
       "      <td>Traffic Density- Annual Vehicle Miles Traveled...</td>\n",
       "      <td>Per 100 km2</td>\n",
       "      <td>UHF42</td>\n",
       "      <td>208</td>\n",
       "      <td>Canarsie - Flatlands</td>\n",
       "      <td>2005</td>\n",
       "      <td>0.4</td>\n",
       "    </tr>\n",
       "    <tr>\n",
       "      <th>2742</th>\n",
       "      <td>151734.0</td>\n",
       "      <td>645</td>\n",
       "      <td>Traffic Density- Annual Vehicle Miles Traveled...</td>\n",
       "      <td>Per 100 km2</td>\n",
       "      <td>UHF42</td>\n",
       "      <td>209</td>\n",
       "      <td>Bensonhurst - Bay Ridge</td>\n",
       "      <td>2005</td>\n",
       "      <td>1.0</td>\n",
       "    </tr>\n",
       "    <tr>\n",
       "      <th>2743</th>\n",
       "      <td>151735.0</td>\n",
       "      <td>645</td>\n",
       "      <td>Traffic Density- Annual Vehicle Miles Traveled...</td>\n",
       "      <td>Per 100 km2</td>\n",
       "      <td>UHF42</td>\n",
       "      <td>210</td>\n",
       "      <td>Coney Island - Sheepshead Bay</td>\n",
       "      <td>2005</td>\n",
       "      <td>0.6</td>\n",
       "    </tr>\n",
       "    <tr>\n",
       "      <th>2744</th>\n",
       "      <td>151736.0</td>\n",
       "      <td>645</td>\n",
       "      <td>Traffic Density- Annual Vehicle Miles Traveled...</td>\n",
       "      <td>Per 100 km2</td>\n",
       "      <td>UHF42</td>\n",
       "      <td>211</td>\n",
       "      <td>Williamsburg - Bushwick</td>\n",
       "      <td>2005</td>\n",
       "      <td>0.5</td>\n",
       "    </tr>\n",
       "    <tr>\n",
       "      <th>2745</th>\n",
       "      <td>151737.0</td>\n",
       "      <td>645</td>\n",
       "      <td>Traffic Density- Annual Vehicle Miles Traveled...</td>\n",
       "      <td>Per 100 km2</td>\n",
       "      <td>UHF42</td>\n",
       "      <td>301</td>\n",
       "      <td>Washington Heights</td>\n",
       "      <td>2005</td>\n",
       "      <td>1.6</td>\n",
       "    </tr>\n",
       "    <tr>\n",
       "      <th>2746</th>\n",
       "      <td>151738.0</td>\n",
       "      <td>645</td>\n",
       "      <td>Traffic Density- Annual Vehicle Miles Traveled...</td>\n",
       "      <td>Per 100 km2</td>\n",
       "      <td>UHF42</td>\n",
       "      <td>302</td>\n",
       "      <td>Central Harlem - Morningside Heights</td>\n",
       "      <td>2005</td>\n",
       "      <td>0.9</td>\n",
       "    </tr>\n",
       "    <tr>\n",
       "      <th>2747</th>\n",
       "      <td>151739.0</td>\n",
       "      <td>645</td>\n",
       "      <td>Traffic Density- Annual Vehicle Miles Traveled...</td>\n",
       "      <td>Per 100 km2</td>\n",
       "      <td>UHF42</td>\n",
       "      <td>303</td>\n",
       "      <td>East Harlem</td>\n",
       "      <td>2005</td>\n",
       "      <td>2.1</td>\n",
       "    </tr>\n",
       "    <tr>\n",
       "      <th>2748</th>\n",
       "      <td>151740.0</td>\n",
       "      <td>645</td>\n",
       "      <td>Traffic Density- Annual Vehicle Miles Traveled...</td>\n",
       "      <td>Per 100 km2</td>\n",
       "      <td>UHF42</td>\n",
       "      <td>304</td>\n",
       "      <td>Upper West Side</td>\n",
       "      <td>2005</td>\n",
       "      <td>1.9</td>\n",
       "    </tr>\n",
       "    <tr>\n",
       "      <th>2749</th>\n",
       "      <td>151741.0</td>\n",
       "      <td>645</td>\n",
       "      <td>Traffic Density- Annual Vehicle Miles Traveled...</td>\n",
       "      <td>Per 100 km2</td>\n",
       "      <td>UHF42</td>\n",
       "      <td>305</td>\n",
       "      <td>Upper East Side</td>\n",
       "      <td>2005</td>\n",
       "      <td>2.9</td>\n",
       "    </tr>\n",
       "    <tr>\n",
       "      <th>2750</th>\n",
       "      <td>151742.0</td>\n",
       "      <td>645</td>\n",
       "      <td>Traffic Density- Annual Vehicle Miles Traveled...</td>\n",
       "      <td>Per 100 km2</td>\n",
       "      <td>UHF42</td>\n",
       "      <td>306</td>\n",
       "      <td>Chelsea - Clinton</td>\n",
       "      <td>2005</td>\n",
       "      <td>3.4</td>\n",
       "    </tr>\n",
       "    <tr>\n",
       "      <th>2751</th>\n",
       "      <td>151743.0</td>\n",
       "      <td>645</td>\n",
       "      <td>Traffic Density- Annual Vehicle Miles Traveled...</td>\n",
       "      <td>Per 100 km2</td>\n",
       "      <td>UHF42</td>\n",
       "      <td>307</td>\n",
       "      <td>Gramercy Park - Murray Hill</td>\n",
       "      <td>2005</td>\n",
       "      <td>4.4</td>\n",
       "    </tr>\n",
       "    <tr>\n",
       "      <th>2752</th>\n",
       "      <td>151744.0</td>\n",
       "      <td>645</td>\n",
       "      <td>Traffic Density- Annual Vehicle Miles Traveled...</td>\n",
       "      <td>Per 100 km2</td>\n",
       "      <td>UHF42</td>\n",
       "      <td>308</td>\n",
       "      <td>Greenwich Village - SoHo</td>\n",
       "      <td>2005</td>\n",
       "      <td>3.8</td>\n",
       "    </tr>\n",
       "    <tr>\n",
       "      <th>2753</th>\n",
       "      <td>151745.0</td>\n",
       "      <td>645</td>\n",
       "      <td>Traffic Density- Annual Vehicle Miles Traveled...</td>\n",
       "      <td>Per 100 km2</td>\n",
       "      <td>UHF42</td>\n",
       "      <td>309</td>\n",
       "      <td>Union Square - Lower East Side</td>\n",
       "      <td>2005</td>\n",
       "      <td>3.2</td>\n",
       "    </tr>\n",
       "    <tr>\n",
       "      <th>2754</th>\n",
       "      <td>151746.0</td>\n",
       "      <td>645</td>\n",
       "      <td>Traffic Density- Annual Vehicle Miles Traveled...</td>\n",
       "      <td>Per 100 km2</td>\n",
       "      <td>UHF42</td>\n",
       "      <td>310</td>\n",
       "      <td>Lower Manhattan</td>\n",
       "      <td>2005</td>\n",
       "      <td>1.6</td>\n",
       "    </tr>\n",
       "    <tr>\n",
       "      <th>2755</th>\n",
       "      <td>151747.0</td>\n",
       "      <td>645</td>\n",
       "      <td>Traffic Density- Annual Vehicle Miles Traveled...</td>\n",
       "      <td>Per 100 km2</td>\n",
       "      <td>UHF42</td>\n",
       "      <td>401</td>\n",
       "      <td>Long Island City - Astoria</td>\n",
       "      <td>2005</td>\n",
       "      <td>1.2</td>\n",
       "    </tr>\n",
       "    <tr>\n",
       "      <th>2756</th>\n",
       "      <td>151748.0</td>\n",
       "      <td>645</td>\n",
       "      <td>Traffic Density- Annual Vehicle Miles Traveled...</td>\n",
       "      <td>Per 100 km2</td>\n",
       "      <td>UHF42</td>\n",
       "      <td>402</td>\n",
       "      <td>West Queens</td>\n",
       "      <td>2005</td>\n",
       "      <td>2.0</td>\n",
       "    </tr>\n",
       "    <tr>\n",
       "      <th>2757</th>\n",
       "      <td>151749.0</td>\n",
       "      <td>645</td>\n",
       "      <td>Traffic Density- Annual Vehicle Miles Traveled...</td>\n",
       "      <td>Per 100 km2</td>\n",
       "      <td>UHF42</td>\n",
       "      <td>403</td>\n",
       "      <td>Flushing - Clearview</td>\n",
       "      <td>2005</td>\n",
       "      <td>1.2</td>\n",
       "    </tr>\n",
       "    <tr>\n",
       "      <th>2758</th>\n",
       "      <td>151750.0</td>\n",
       "      <td>645</td>\n",
       "      <td>Traffic Density- Annual Vehicle Miles Traveled...</td>\n",
       "      <td>Per 100 km2</td>\n",
       "      <td>UHF42</td>\n",
       "      <td>404</td>\n",
       "      <td>Bayside - Little Neck</td>\n",
       "      <td>2005</td>\n",
       "      <td>2.0</td>\n",
       "    </tr>\n",
       "    <tr>\n",
       "      <th>2759</th>\n",
       "      <td>151751.0</td>\n",
       "      <td>645</td>\n",
       "      <td>Traffic Density- Annual Vehicle Miles Traveled...</td>\n",
       "      <td>Per 100 km2</td>\n",
       "      <td>UHF42</td>\n",
       "      <td>405</td>\n",
       "      <td>Ridgewood - Forest Hills</td>\n",
       "      <td>2005</td>\n",
       "      <td>1.0</td>\n",
       "    </tr>\n",
       "    <tr>\n",
       "      <th>2760</th>\n",
       "      <td>151752.0</td>\n",
       "      <td>645</td>\n",
       "      <td>Traffic Density- Annual Vehicle Miles Traveled...</td>\n",
       "      <td>Per 100 km2</td>\n",
       "      <td>UHF42</td>\n",
       "      <td>406</td>\n",
       "      <td>Fresh Meadows</td>\n",
       "      <td>2005</td>\n",
       "      <td>2.1</td>\n",
       "    </tr>\n",
       "    <tr>\n",
       "      <th>2761</th>\n",
       "      <td>151753.0</td>\n",
       "      <td>645</td>\n",
       "      <td>Traffic Density- Annual Vehicle Miles Traveled...</td>\n",
       "      <td>Per 100 km2</td>\n",
       "      <td>UHF42</td>\n",
       "      <td>407</td>\n",
       "      <td>Southwest Queens</td>\n",
       "      <td>2005</td>\n",
       "      <td>1.4</td>\n",
       "    </tr>\n",
       "    <tr>\n",
       "      <th>2762</th>\n",
       "      <td>151754.0</td>\n",
       "      <td>645</td>\n",
       "      <td>Traffic Density- Annual Vehicle Miles Traveled...</td>\n",
       "      <td>Per 100 km2</td>\n",
       "      <td>UHF42</td>\n",
       "      <td>408</td>\n",
       "      <td>Jamaica</td>\n",
       "      <td>2005</td>\n",
       "      <td>0.6</td>\n",
       "    </tr>\n",
       "    <tr>\n",
       "      <th>2763</th>\n",
       "      <td>151755.0</td>\n",
       "      <td>645</td>\n",
       "      <td>Traffic Density- Annual Vehicle Miles Traveled...</td>\n",
       "      <td>Per 100 km2</td>\n",
       "      <td>UHF42</td>\n",
       "      <td>409</td>\n",
       "      <td>Southeast Queens</td>\n",
       "      <td>2005</td>\n",
       "      <td>0.5</td>\n",
       "    </tr>\n",
       "    <tr>\n",
       "      <th>2764</th>\n",
       "      <td>151756.0</td>\n",
       "      <td>645</td>\n",
       "      <td>Traffic Density- Annual Vehicle Miles Traveled...</td>\n",
       "      <td>Per 100 km2</td>\n",
       "      <td>UHF42</td>\n",
       "      <td>410</td>\n",
       "      <td>Rockaways</td>\n",
       "      <td>2005</td>\n",
       "      <td>0.2</td>\n",
       "    </tr>\n",
       "    <tr>\n",
       "      <th>2765</th>\n",
       "      <td>151757.0</td>\n",
       "      <td>645</td>\n",
       "      <td>Traffic Density- Annual Vehicle Miles Traveled...</td>\n",
       "      <td>Per 100 km2</td>\n",
       "      <td>UHF42</td>\n",
       "      <td>501</td>\n",
       "      <td>Port Richmond</td>\n",
       "      <td>2005</td>\n",
       "      <td>0.3</td>\n",
       "    </tr>\n",
       "    <tr>\n",
       "      <th>2766</th>\n",
       "      <td>151758.0</td>\n",
       "      <td>645</td>\n",
       "      <td>Traffic Density- Annual Vehicle Miles Traveled...</td>\n",
       "      <td>Per 100 km2</td>\n",
       "      <td>UHF42</td>\n",
       "      <td>502</td>\n",
       "      <td>Stapleton - St. George</td>\n",
       "      <td>2005</td>\n",
       "      <td>0.8</td>\n",
       "    </tr>\n",
       "    <tr>\n",
       "      <th>2767</th>\n",
       "      <td>151759.0</td>\n",
       "      <td>645</td>\n",
       "      <td>Traffic Density- Annual Vehicle Miles Traveled...</td>\n",
       "      <td>Per 100 km2</td>\n",
       "      <td>UHF42</td>\n",
       "      <td>503</td>\n",
       "      <td>Willowbrook</td>\n",
       "      <td>2005</td>\n",
       "      <td>0.8</td>\n",
       "    </tr>\n",
       "    <tr>\n",
       "      <th>2768</th>\n",
       "      <td>151760.0</td>\n",
       "      <td>645</td>\n",
       "      <td>Traffic Density- Annual Vehicle Miles Traveled...</td>\n",
       "      <td>Per 100 km2</td>\n",
       "      <td>UHF42</td>\n",
       "      <td>504</td>\n",
       "      <td>South Beach - Tottenville</td>\n",
       "      <td>2005</td>\n",
       "      <td>0.3</td>\n",
       "    </tr>\n",
       "  </tbody>\n",
       "</table>\n",
       "<p>2769 rows × 9 columns</p>\n",
       "</div>"
      ],
      "text/plain": [
       "      indicator_data_id  indicator_id  \\\n",
       "0              130728.0           646   \n",
       "1              130729.0           646   \n",
       "2              130730.0           646   \n",
       "3              130731.0           646   \n",
       "4              130732.0           646   \n",
       "5              130727.0           646   \n",
       "6              130685.0           646   \n",
       "7              130686.0           646   \n",
       "8              130687.0           646   \n",
       "9              130688.0           646   \n",
       "10             130689.0           646   \n",
       "11             130690.0           646   \n",
       "12             130691.0           646   \n",
       "13             130692.0           646   \n",
       "14             130693.0           646   \n",
       "15             130694.0           646   \n",
       "16             130695.0           646   \n",
       "17             130696.0           646   \n",
       "18             130697.0           646   \n",
       "19             130698.0           646   \n",
       "20             130699.0           646   \n",
       "21             130700.0           646   \n",
       "22             130701.0           646   \n",
       "23             130702.0           646   \n",
       "24             130703.0           646   \n",
       "25             130704.0           646   \n",
       "26             130705.0           646   \n",
       "27             130706.0           646   \n",
       "28             130707.0           646   \n",
       "29             130708.0           646   \n",
       "...                 ...           ...   \n",
       "2739           151731.0           645   \n",
       "2740           151732.0           645   \n",
       "2741           151733.0           645   \n",
       "2742           151734.0           645   \n",
       "2743           151735.0           645   \n",
       "2744           151736.0           645   \n",
       "2745           151737.0           645   \n",
       "2746           151738.0           645   \n",
       "2747           151739.0           645   \n",
       "2748           151740.0           645   \n",
       "2749           151741.0           645   \n",
       "2750           151742.0           645   \n",
       "2751           151743.0           645   \n",
       "2752           151744.0           645   \n",
       "2753           151745.0           645   \n",
       "2754           151746.0           645   \n",
       "2755           151747.0           645   \n",
       "2756           151748.0           645   \n",
       "2757           151749.0           645   \n",
       "2758           151750.0           645   \n",
       "2759           151751.0           645   \n",
       "2760           151752.0           645   \n",
       "2761           151753.0           645   \n",
       "2762           151754.0           645   \n",
       "2763           151755.0           645   \n",
       "2764           151756.0           645   \n",
       "2765           151757.0           645   \n",
       "2766           151758.0           645   \n",
       "2767           151759.0           645   \n",
       "2768           151760.0           645   \n",
       "\n",
       "                                                   name  \\\n",
       "0     Air Toxics Concentrations- Average Benzene Con...   \n",
       "1     Air Toxics Concentrations- Average Benzene Con...   \n",
       "2     Air Toxics Concentrations- Average Benzene Con...   \n",
       "3     Air Toxics Concentrations- Average Benzene Con...   \n",
       "4     Air Toxics Concentrations- Average Benzene Con...   \n",
       "5     Air Toxics Concentrations- Average Benzene Con...   \n",
       "6     Air Toxics Concentrations- Average Benzene Con...   \n",
       "7     Air Toxics Concentrations- Average Benzene Con...   \n",
       "8     Air Toxics Concentrations- Average Benzene Con...   \n",
       "9     Air Toxics Concentrations- Average Benzene Con...   \n",
       "10    Air Toxics Concentrations- Average Benzene Con...   \n",
       "11    Air Toxics Concentrations- Average Benzene Con...   \n",
       "12    Air Toxics Concentrations- Average Benzene Con...   \n",
       "13    Air Toxics Concentrations- Average Benzene Con...   \n",
       "14    Air Toxics Concentrations- Average Benzene Con...   \n",
       "15    Air Toxics Concentrations- Average Benzene Con...   \n",
       "16    Air Toxics Concentrations- Average Benzene Con...   \n",
       "17    Air Toxics Concentrations- Average Benzene Con...   \n",
       "18    Air Toxics Concentrations- Average Benzene Con...   \n",
       "19    Air Toxics Concentrations- Average Benzene Con...   \n",
       "20    Air Toxics Concentrations- Average Benzene Con...   \n",
       "21    Air Toxics Concentrations- Average Benzene Con...   \n",
       "22    Air Toxics Concentrations- Average Benzene Con...   \n",
       "23    Air Toxics Concentrations- Average Benzene Con...   \n",
       "24    Air Toxics Concentrations- Average Benzene Con...   \n",
       "25    Air Toxics Concentrations- Average Benzene Con...   \n",
       "26    Air Toxics Concentrations- Average Benzene Con...   \n",
       "27    Air Toxics Concentrations- Average Benzene Con...   \n",
       "28    Air Toxics Concentrations- Average Benzene Con...   \n",
       "29    Air Toxics Concentrations- Average Benzene Con...   \n",
       "...                                                 ...   \n",
       "2739  Traffic Density- Annual Vehicle Miles Traveled...   \n",
       "2740  Traffic Density- Annual Vehicle Miles Traveled...   \n",
       "2741  Traffic Density- Annual Vehicle Miles Traveled...   \n",
       "2742  Traffic Density- Annual Vehicle Miles Traveled...   \n",
       "2743  Traffic Density- Annual Vehicle Miles Traveled...   \n",
       "2744  Traffic Density- Annual Vehicle Miles Traveled...   \n",
       "2745  Traffic Density- Annual Vehicle Miles Traveled...   \n",
       "2746  Traffic Density- Annual Vehicle Miles Traveled...   \n",
       "2747  Traffic Density- Annual Vehicle Miles Traveled...   \n",
       "2748  Traffic Density- Annual Vehicle Miles Traveled...   \n",
       "2749  Traffic Density- Annual Vehicle Miles Traveled...   \n",
       "2750  Traffic Density- Annual Vehicle Miles Traveled...   \n",
       "2751  Traffic Density- Annual Vehicle Miles Traveled...   \n",
       "2752  Traffic Density- Annual Vehicle Miles Traveled...   \n",
       "2753  Traffic Density- Annual Vehicle Miles Traveled...   \n",
       "2754  Traffic Density- Annual Vehicle Miles Traveled...   \n",
       "2755  Traffic Density- Annual Vehicle Miles Traveled...   \n",
       "2756  Traffic Density- Annual Vehicle Miles Traveled...   \n",
       "2757  Traffic Density- Annual Vehicle Miles Traveled...   \n",
       "2758  Traffic Density- Annual Vehicle Miles Traveled...   \n",
       "2759  Traffic Density- Annual Vehicle Miles Traveled...   \n",
       "2760  Traffic Density- Annual Vehicle Miles Traveled...   \n",
       "2761  Traffic Density- Annual Vehicle Miles Traveled...   \n",
       "2762  Traffic Density- Annual Vehicle Miles Traveled...   \n",
       "2763  Traffic Density- Annual Vehicle Miles Traveled...   \n",
       "2764  Traffic Density- Annual Vehicle Miles Traveled...   \n",
       "2765  Traffic Density- Annual Vehicle Miles Traveled...   \n",
       "2766  Traffic Density- Annual Vehicle Miles Traveled...   \n",
       "2767  Traffic Density- Annual Vehicle Miles Traveled...   \n",
       "2768  Traffic Density- Annual Vehicle Miles Traveled...   \n",
       "\n",
       "                    Measure geo_type_name  geo_entity_id  \\\n",
       "0     Average Concentration       Borough              1   \n",
       "1     Average Concentration       Borough              2   \n",
       "2     Average Concentration       Borough              3   \n",
       "3     Average Concentration       Borough              4   \n",
       "4     Average Concentration       Borough              5   \n",
       "5     Average Concentration      Citywide              1   \n",
       "6     Average Concentration         UHF42            101   \n",
       "7     Average Concentration         UHF42            102   \n",
       "8     Average Concentration         UHF42            103   \n",
       "9     Average Concentration         UHF42            104   \n",
       "10    Average Concentration         UHF42            105   \n",
       "11    Average Concentration         UHF42            106   \n",
       "12    Average Concentration         UHF42            107   \n",
       "13    Average Concentration         UHF42            201   \n",
       "14    Average Concentration         UHF42            202   \n",
       "15    Average Concentration         UHF42            203   \n",
       "16    Average Concentration         UHF42            204   \n",
       "17    Average Concentration         UHF42            205   \n",
       "18    Average Concentration         UHF42            206   \n",
       "19    Average Concentration         UHF42            207   \n",
       "20    Average Concentration         UHF42            208   \n",
       "21    Average Concentration         UHF42            209   \n",
       "22    Average Concentration         UHF42            210   \n",
       "23    Average Concentration         UHF42            211   \n",
       "24    Average Concentration         UHF42            301   \n",
       "25    Average Concentration         UHF42            302   \n",
       "26    Average Concentration         UHF42            303   \n",
       "27    Average Concentration         UHF42            304   \n",
       "28    Average Concentration         UHF42            305   \n",
       "29    Average Concentration         UHF42            306   \n",
       "...                     ...           ...            ...   \n",
       "2739            Per 100 km2         UHF42            206   \n",
       "2740            Per 100 km2         UHF42            207   \n",
       "2741            Per 100 km2         UHF42            208   \n",
       "2742            Per 100 km2         UHF42            209   \n",
       "2743            Per 100 km2         UHF42            210   \n",
       "2744            Per 100 km2         UHF42            211   \n",
       "2745            Per 100 km2         UHF42            301   \n",
       "2746            Per 100 km2         UHF42            302   \n",
       "2747            Per 100 km2         UHF42            303   \n",
       "2748            Per 100 km2         UHF42            304   \n",
       "2749            Per 100 km2         UHF42            305   \n",
       "2750            Per 100 km2         UHF42            306   \n",
       "2751            Per 100 km2         UHF42            307   \n",
       "2752            Per 100 km2         UHF42            308   \n",
       "2753            Per 100 km2         UHF42            309   \n",
       "2754            Per 100 km2         UHF42            310   \n",
       "2755            Per 100 km2         UHF42            401   \n",
       "2756            Per 100 km2         UHF42            402   \n",
       "2757            Per 100 km2         UHF42            403   \n",
       "2758            Per 100 km2         UHF42            404   \n",
       "2759            Per 100 km2         UHF42            405   \n",
       "2760            Per 100 km2         UHF42            406   \n",
       "2761            Per 100 km2         UHF42            407   \n",
       "2762            Per 100 km2         UHF42            408   \n",
       "2763            Per 100 km2         UHF42            409   \n",
       "2764            Per 100 km2         UHF42            410   \n",
       "2765            Per 100 km2         UHF42            501   \n",
       "2766            Per 100 km2         UHF42            502   \n",
       "2767            Per 100 km2         UHF42            503   \n",
       "2768            Per 100 km2         UHF42            504   \n",
       "\n",
       "                           geo_entity_name year_description  data_valuemessage  \n",
       "0                                    Bronx             2005                2.8  \n",
       "1                                 Brooklyn             2005                2.8  \n",
       "2                                Manhattan             2005                4.7  \n",
       "3                                   Queens             2005                1.9  \n",
       "4                            Staten Island             2005                1.6  \n",
       "5                            New York City             2005                2.9  \n",
       "6                  Kingsbridge - Riverdale             2005                2.9  \n",
       "7                          Northeast Bronx             2005                2.8  \n",
       "8                       Fordham - Bronx Pk             2005                2.7  \n",
       "9                     Pelham - Throgs Neck             2005                2.7  \n",
       "10                        Crotona -Tremont             2005                3.0  \n",
       "11                High Bridge - Morrisania             2005                3.0  \n",
       "12                Hunts Point - Mott Haven             2005                2.8  \n",
       "13                              Greenpoint             2005                3.7  \n",
       "14              Downtown - Heights - Slope             2005                3.7  \n",
       "15      Bedford Stuyvesant - Crown Heights             2005                2.5  \n",
       "16                           East New York             2005                2.3  \n",
       "17                             Sunset Park             2005                3.2  \n",
       "18                            Borough Park             2005                2.5  \n",
       "19                East Flatbush - Flatbush             2005                2.3  \n",
       "20                    Canarsie - Flatlands             2005                2.4  \n",
       "21                 Bensonhurst - Bay Ridge             2005                2.8  \n",
       "22           Coney Island - Sheepshead Bay             2005                2.4  \n",
       "23                 Williamsburg - Bushwick             2005                2.8  \n",
       "24                      Washington Heights             2005                4.1  \n",
       "25    Central Harlem - Morningside Heights             2005                3.9  \n",
       "26                             East Harlem             2005                4.2  \n",
       "27                         Upper West Side             2005                3.9  \n",
       "28                         Upper East Side             2005                4.5  \n",
       "29                       Chelsea - Clinton             2005                4.9  \n",
       "...                                    ...              ...                ...  \n",
       "2739                          Borough Park             2005                1.1  \n",
       "2740              East Flatbush - Flatbush             2005                0.9  \n",
       "2741                  Canarsie - Flatlands             2005                0.4  \n",
       "2742               Bensonhurst - Bay Ridge             2005                1.0  \n",
       "2743         Coney Island - Sheepshead Bay             2005                0.6  \n",
       "2744               Williamsburg - Bushwick             2005                0.5  \n",
       "2745                    Washington Heights             2005                1.6  \n",
       "2746  Central Harlem - Morningside Heights             2005                0.9  \n",
       "2747                           East Harlem             2005                2.1  \n",
       "2748                       Upper West Side             2005                1.9  \n",
       "2749                       Upper East Side             2005                2.9  \n",
       "2750                     Chelsea - Clinton             2005                3.4  \n",
       "2751           Gramercy Park - Murray Hill             2005                4.4  \n",
       "2752              Greenwich Village - SoHo             2005                3.8  \n",
       "2753        Union Square - Lower East Side             2005                3.2  \n",
       "2754                       Lower Manhattan             2005                1.6  \n",
       "2755            Long Island City - Astoria             2005                1.2  \n",
       "2756                           West Queens             2005                2.0  \n",
       "2757                  Flushing - Clearview             2005                1.2  \n",
       "2758                 Bayside - Little Neck             2005                2.0  \n",
       "2759              Ridgewood - Forest Hills             2005                1.0  \n",
       "2760                         Fresh Meadows             2005                2.1  \n",
       "2761                      Southwest Queens             2005                1.4  \n",
       "2762                               Jamaica             2005                0.6  \n",
       "2763                      Southeast Queens             2005                0.5  \n",
       "2764                             Rockaways             2005                0.2  \n",
       "2765                         Port Richmond             2005                0.3  \n",
       "2766                Stapleton - St. George             2005                0.8  \n",
       "2767                           Willowbrook             2005                0.8  \n",
       "2768             South Beach - Tottenville             2005                0.3  \n",
       "\n",
       "[2769 rows x 9 columns]"
      ]
     },
     "execution_count": 9,
     "metadata": {},
     "output_type": "execute_result"
    }
   ],
   "source": [
    "df"
   ]
  },
  {
   "cell_type": "code",
   "execution_count": 10,
   "metadata": {},
   "outputs": [
    {
     "data": {
      "text/html": [
       "<div>\n",
       "<style scoped>\n",
       "    .dataframe tbody tr th:only-of-type {\n",
       "        vertical-align: middle;\n",
       "    }\n",
       "\n",
       "    .dataframe tbody tr th {\n",
       "        vertical-align: top;\n",
       "    }\n",
       "\n",
       "    .dataframe thead th {\n",
       "        text-align: right;\n",
       "    }\n",
       "</style>\n",
       "<table border=\"1\" class=\"dataframe\">\n",
       "  <thead>\n",
       "    <tr style=\"text-align: right;\">\n",
       "      <th></th>\n",
       "      <th>indicator_data_id</th>\n",
       "      <th>indicator_id</th>\n",
       "      <th>name</th>\n",
       "      <th>Measure</th>\n",
       "      <th>geo_type_name</th>\n",
       "      <th>geo_entity_id</th>\n",
       "      <th>geo_entity_name</th>\n",
       "      <th>year_description</th>\n",
       "      <th>data_valuemessage</th>\n",
       "    </tr>\n",
       "  </thead>\n",
       "  <tbody>\n",
       "    <tr>\n",
       "      <th>0</th>\n",
       "      <td>130728.0</td>\n",
       "      <td>646</td>\n",
       "      <td>Air Toxics Concentrations- Average Benzene Con...</td>\n",
       "      <td>Average Concentration</td>\n",
       "      <td>Borough</td>\n",
       "      <td>1</td>\n",
       "      <td>Bronx</td>\n",
       "      <td>2005</td>\n",
       "      <td>2.8</td>\n",
       "    </tr>\n",
       "    <tr>\n",
       "      <th>1</th>\n",
       "      <td>130729.0</td>\n",
       "      <td>646</td>\n",
       "      <td>Air Toxics Concentrations- Average Benzene Con...</td>\n",
       "      <td>Average Concentration</td>\n",
       "      <td>Borough</td>\n",
       "      <td>2</td>\n",
       "      <td>Brooklyn</td>\n",
       "      <td>2005</td>\n",
       "      <td>2.8</td>\n",
       "    </tr>\n",
       "    <tr>\n",
       "      <th>2</th>\n",
       "      <td>130730.0</td>\n",
       "      <td>646</td>\n",
       "      <td>Air Toxics Concentrations- Average Benzene Con...</td>\n",
       "      <td>Average Concentration</td>\n",
       "      <td>Borough</td>\n",
       "      <td>3</td>\n",
       "      <td>Manhattan</td>\n",
       "      <td>2005</td>\n",
       "      <td>4.7</td>\n",
       "    </tr>\n",
       "    <tr>\n",
       "      <th>3</th>\n",
       "      <td>130731.0</td>\n",
       "      <td>646</td>\n",
       "      <td>Air Toxics Concentrations- Average Benzene Con...</td>\n",
       "      <td>Average Concentration</td>\n",
       "      <td>Borough</td>\n",
       "      <td>4</td>\n",
       "      <td>Queens</td>\n",
       "      <td>2005</td>\n",
       "      <td>1.9</td>\n",
       "    </tr>\n",
       "    <tr>\n",
       "      <th>4</th>\n",
       "      <td>130732.0</td>\n",
       "      <td>646</td>\n",
       "      <td>Air Toxics Concentrations- Average Benzene Con...</td>\n",
       "      <td>Average Concentration</td>\n",
       "      <td>Borough</td>\n",
       "      <td>5</td>\n",
       "      <td>Staten Island</td>\n",
       "      <td>2005</td>\n",
       "      <td>1.6</td>\n",
       "    </tr>\n",
       "    <tr>\n",
       "      <th>5</th>\n",
       "      <td>130727.0</td>\n",
       "      <td>646</td>\n",
       "      <td>Air Toxics Concentrations- Average Benzene Con...</td>\n",
       "      <td>Average Concentration</td>\n",
       "      <td>Citywide</td>\n",
       "      <td>1</td>\n",
       "      <td>New York City</td>\n",
       "      <td>2005</td>\n",
       "      <td>2.9</td>\n",
       "    </tr>\n",
       "    <tr>\n",
       "      <th>6</th>\n",
       "      <td>130685.0</td>\n",
       "      <td>646</td>\n",
       "      <td>Air Toxics Concentrations- Average Benzene Con...</td>\n",
       "      <td>Average Concentration</td>\n",
       "      <td>UHF42</td>\n",
       "      <td>101</td>\n",
       "      <td>Kingsbridge - Riverdale</td>\n",
       "      <td>2005</td>\n",
       "      <td>2.9</td>\n",
       "    </tr>\n",
       "    <tr>\n",
       "      <th>7</th>\n",
       "      <td>130686.0</td>\n",
       "      <td>646</td>\n",
       "      <td>Air Toxics Concentrations- Average Benzene Con...</td>\n",
       "      <td>Average Concentration</td>\n",
       "      <td>UHF42</td>\n",
       "      <td>102</td>\n",
       "      <td>Northeast Bronx</td>\n",
       "      <td>2005</td>\n",
       "      <td>2.8</td>\n",
       "    </tr>\n",
       "    <tr>\n",
       "      <th>8</th>\n",
       "      <td>130687.0</td>\n",
       "      <td>646</td>\n",
       "      <td>Air Toxics Concentrations- Average Benzene Con...</td>\n",
       "      <td>Average Concentration</td>\n",
       "      <td>UHF42</td>\n",
       "      <td>103</td>\n",
       "      <td>Fordham - Bronx Pk</td>\n",
       "      <td>2005</td>\n",
       "      <td>2.7</td>\n",
       "    </tr>\n",
       "    <tr>\n",
       "      <th>9</th>\n",
       "      <td>130688.0</td>\n",
       "      <td>646</td>\n",
       "      <td>Air Toxics Concentrations- Average Benzene Con...</td>\n",
       "      <td>Average Concentration</td>\n",
       "      <td>UHF42</td>\n",
       "      <td>104</td>\n",
       "      <td>Pelham - Throgs Neck</td>\n",
       "      <td>2005</td>\n",
       "      <td>2.7</td>\n",
       "    </tr>\n",
       "    <tr>\n",
       "      <th>10</th>\n",
       "      <td>130689.0</td>\n",
       "      <td>646</td>\n",
       "      <td>Air Toxics Concentrations- Average Benzene Con...</td>\n",
       "      <td>Average Concentration</td>\n",
       "      <td>UHF42</td>\n",
       "      <td>105</td>\n",
       "      <td>Crotona -Tremont</td>\n",
       "      <td>2005</td>\n",
       "      <td>3.0</td>\n",
       "    </tr>\n",
       "    <tr>\n",
       "      <th>11</th>\n",
       "      <td>130690.0</td>\n",
       "      <td>646</td>\n",
       "      <td>Air Toxics Concentrations- Average Benzene Con...</td>\n",
       "      <td>Average Concentration</td>\n",
       "      <td>UHF42</td>\n",
       "      <td>106</td>\n",
       "      <td>High Bridge - Morrisania</td>\n",
       "      <td>2005</td>\n",
       "      <td>3.0</td>\n",
       "    </tr>\n",
       "    <tr>\n",
       "      <th>12</th>\n",
       "      <td>130691.0</td>\n",
       "      <td>646</td>\n",
       "      <td>Air Toxics Concentrations- Average Benzene Con...</td>\n",
       "      <td>Average Concentration</td>\n",
       "      <td>UHF42</td>\n",
       "      <td>107</td>\n",
       "      <td>Hunts Point - Mott Haven</td>\n",
       "      <td>2005</td>\n",
       "      <td>2.8</td>\n",
       "    </tr>\n",
       "    <tr>\n",
       "      <th>13</th>\n",
       "      <td>130692.0</td>\n",
       "      <td>646</td>\n",
       "      <td>Air Toxics Concentrations- Average Benzene Con...</td>\n",
       "      <td>Average Concentration</td>\n",
       "      <td>UHF42</td>\n",
       "      <td>201</td>\n",
       "      <td>Greenpoint</td>\n",
       "      <td>2005</td>\n",
       "      <td>3.7</td>\n",
       "    </tr>\n",
       "    <tr>\n",
       "      <th>14</th>\n",
       "      <td>130693.0</td>\n",
       "      <td>646</td>\n",
       "      <td>Air Toxics Concentrations- Average Benzene Con...</td>\n",
       "      <td>Average Concentration</td>\n",
       "      <td>UHF42</td>\n",
       "      <td>202</td>\n",
       "      <td>Downtown - Heights - Slope</td>\n",
       "      <td>2005</td>\n",
       "      <td>3.7</td>\n",
       "    </tr>\n",
       "    <tr>\n",
       "      <th>15</th>\n",
       "      <td>130694.0</td>\n",
       "      <td>646</td>\n",
       "      <td>Air Toxics Concentrations- Average Benzene Con...</td>\n",
       "      <td>Average Concentration</td>\n",
       "      <td>UHF42</td>\n",
       "      <td>203</td>\n",
       "      <td>Bedford Stuyvesant - Crown Heights</td>\n",
       "      <td>2005</td>\n",
       "      <td>2.5</td>\n",
       "    </tr>\n",
       "    <tr>\n",
       "      <th>16</th>\n",
       "      <td>130695.0</td>\n",
       "      <td>646</td>\n",
       "      <td>Air Toxics Concentrations- Average Benzene Con...</td>\n",
       "      <td>Average Concentration</td>\n",
       "      <td>UHF42</td>\n",
       "      <td>204</td>\n",
       "      <td>East New York</td>\n",
       "      <td>2005</td>\n",
       "      <td>2.3</td>\n",
       "    </tr>\n",
       "    <tr>\n",
       "      <th>17</th>\n",
       "      <td>130696.0</td>\n",
       "      <td>646</td>\n",
       "      <td>Air Toxics Concentrations- Average Benzene Con...</td>\n",
       "      <td>Average Concentration</td>\n",
       "      <td>UHF42</td>\n",
       "      <td>205</td>\n",
       "      <td>Sunset Park</td>\n",
       "      <td>2005</td>\n",
       "      <td>3.2</td>\n",
       "    </tr>\n",
       "    <tr>\n",
       "      <th>18</th>\n",
       "      <td>130697.0</td>\n",
       "      <td>646</td>\n",
       "      <td>Air Toxics Concentrations- Average Benzene Con...</td>\n",
       "      <td>Average Concentration</td>\n",
       "      <td>UHF42</td>\n",
       "      <td>206</td>\n",
       "      <td>Borough Park</td>\n",
       "      <td>2005</td>\n",
       "      <td>2.5</td>\n",
       "    </tr>\n",
       "    <tr>\n",
       "      <th>19</th>\n",
       "      <td>130698.0</td>\n",
       "      <td>646</td>\n",
       "      <td>Air Toxics Concentrations- Average Benzene Con...</td>\n",
       "      <td>Average Concentration</td>\n",
       "      <td>UHF42</td>\n",
       "      <td>207</td>\n",
       "      <td>East Flatbush - Flatbush</td>\n",
       "      <td>2005</td>\n",
       "      <td>2.3</td>\n",
       "    </tr>\n",
       "    <tr>\n",
       "      <th>20</th>\n",
       "      <td>130699.0</td>\n",
       "      <td>646</td>\n",
       "      <td>Air Toxics Concentrations- Average Benzene Con...</td>\n",
       "      <td>Average Concentration</td>\n",
       "      <td>UHF42</td>\n",
       "      <td>208</td>\n",
       "      <td>Canarsie - Flatlands</td>\n",
       "      <td>2005</td>\n",
       "      <td>2.4</td>\n",
       "    </tr>\n",
       "    <tr>\n",
       "      <th>21</th>\n",
       "      <td>130700.0</td>\n",
       "      <td>646</td>\n",
       "      <td>Air Toxics Concentrations- Average Benzene Con...</td>\n",
       "      <td>Average Concentration</td>\n",
       "      <td>UHF42</td>\n",
       "      <td>209</td>\n",
       "      <td>Bensonhurst - Bay Ridge</td>\n",
       "      <td>2005</td>\n",
       "      <td>2.8</td>\n",
       "    </tr>\n",
       "    <tr>\n",
       "      <th>22</th>\n",
       "      <td>130701.0</td>\n",
       "      <td>646</td>\n",
       "      <td>Air Toxics Concentrations- Average Benzene Con...</td>\n",
       "      <td>Average Concentration</td>\n",
       "      <td>UHF42</td>\n",
       "      <td>210</td>\n",
       "      <td>Coney Island - Sheepshead Bay</td>\n",
       "      <td>2005</td>\n",
       "      <td>2.4</td>\n",
       "    </tr>\n",
       "    <tr>\n",
       "      <th>23</th>\n",
       "      <td>130702.0</td>\n",
       "      <td>646</td>\n",
       "      <td>Air Toxics Concentrations- Average Benzene Con...</td>\n",
       "      <td>Average Concentration</td>\n",
       "      <td>UHF42</td>\n",
       "      <td>211</td>\n",
       "      <td>Williamsburg - Bushwick</td>\n",
       "      <td>2005</td>\n",
       "      <td>2.8</td>\n",
       "    </tr>\n",
       "    <tr>\n",
       "      <th>24</th>\n",
       "      <td>130703.0</td>\n",
       "      <td>646</td>\n",
       "      <td>Air Toxics Concentrations- Average Benzene Con...</td>\n",
       "      <td>Average Concentration</td>\n",
       "      <td>UHF42</td>\n",
       "      <td>301</td>\n",
       "      <td>Washington Heights</td>\n",
       "      <td>2005</td>\n",
       "      <td>4.1</td>\n",
       "    </tr>\n",
       "    <tr>\n",
       "      <th>25</th>\n",
       "      <td>130704.0</td>\n",
       "      <td>646</td>\n",
       "      <td>Air Toxics Concentrations- Average Benzene Con...</td>\n",
       "      <td>Average Concentration</td>\n",
       "      <td>UHF42</td>\n",
       "      <td>302</td>\n",
       "      <td>Central Harlem - Morningside Heights</td>\n",
       "      <td>2005</td>\n",
       "      <td>3.9</td>\n",
       "    </tr>\n",
       "    <tr>\n",
       "      <th>26</th>\n",
       "      <td>130705.0</td>\n",
       "      <td>646</td>\n",
       "      <td>Air Toxics Concentrations- Average Benzene Con...</td>\n",
       "      <td>Average Concentration</td>\n",
       "      <td>UHF42</td>\n",
       "      <td>303</td>\n",
       "      <td>East Harlem</td>\n",
       "      <td>2005</td>\n",
       "      <td>4.2</td>\n",
       "    </tr>\n",
       "    <tr>\n",
       "      <th>27</th>\n",
       "      <td>130706.0</td>\n",
       "      <td>646</td>\n",
       "      <td>Air Toxics Concentrations- Average Benzene Con...</td>\n",
       "      <td>Average Concentration</td>\n",
       "      <td>UHF42</td>\n",
       "      <td>304</td>\n",
       "      <td>Upper West Side</td>\n",
       "      <td>2005</td>\n",
       "      <td>3.9</td>\n",
       "    </tr>\n",
       "    <tr>\n",
       "      <th>28</th>\n",
       "      <td>130707.0</td>\n",
       "      <td>646</td>\n",
       "      <td>Air Toxics Concentrations- Average Benzene Con...</td>\n",
       "      <td>Average Concentration</td>\n",
       "      <td>UHF42</td>\n",
       "      <td>305</td>\n",
       "      <td>Upper East Side</td>\n",
       "      <td>2005</td>\n",
       "      <td>4.5</td>\n",
       "    </tr>\n",
       "    <tr>\n",
       "      <th>29</th>\n",
       "      <td>130708.0</td>\n",
       "      <td>646</td>\n",
       "      <td>Air Toxics Concentrations- Average Benzene Con...</td>\n",
       "      <td>Average Concentration</td>\n",
       "      <td>UHF42</td>\n",
       "      <td>306</td>\n",
       "      <td>Chelsea - Clinton</td>\n",
       "      <td>2005</td>\n",
       "      <td>4.9</td>\n",
       "    </tr>\n",
       "    <tr>\n",
       "      <th>...</th>\n",
       "      <td>...</td>\n",
       "      <td>...</td>\n",
       "      <td>...</td>\n",
       "      <td>...</td>\n",
       "      <td>...</td>\n",
       "      <td>...</td>\n",
       "      <td>...</td>\n",
       "      <td>...</td>\n",
       "      <td>...</td>\n",
       "    </tr>\n",
       "    <tr>\n",
       "      <th>2739</th>\n",
       "      <td>151731.0</td>\n",
       "      <td>645</td>\n",
       "      <td>Traffic Density- Annual Vehicle Miles Traveled...</td>\n",
       "      <td>Per 100 km2</td>\n",
       "      <td>UHF42</td>\n",
       "      <td>206</td>\n",
       "      <td>Borough Park</td>\n",
       "      <td>2005</td>\n",
       "      <td>1.1</td>\n",
       "    </tr>\n",
       "    <tr>\n",
       "      <th>2740</th>\n",
       "      <td>151732.0</td>\n",
       "      <td>645</td>\n",
       "      <td>Traffic Density- Annual Vehicle Miles Traveled...</td>\n",
       "      <td>Per 100 km2</td>\n",
       "      <td>UHF42</td>\n",
       "      <td>207</td>\n",
       "      <td>East Flatbush - Flatbush</td>\n",
       "      <td>2005</td>\n",
       "      <td>0.9</td>\n",
       "    </tr>\n",
       "    <tr>\n",
       "      <th>2741</th>\n",
       "      <td>151733.0</td>\n",
       "      <td>645</td>\n",
       "      <td>Traffic Density- Annual Vehicle Miles Traveled...</td>\n",
       "      <td>Per 100 km2</td>\n",
       "      <td>UHF42</td>\n",
       "      <td>208</td>\n",
       "      <td>Canarsie - Flatlands</td>\n",
       "      <td>2005</td>\n",
       "      <td>0.4</td>\n",
       "    </tr>\n",
       "    <tr>\n",
       "      <th>2742</th>\n",
       "      <td>151734.0</td>\n",
       "      <td>645</td>\n",
       "      <td>Traffic Density- Annual Vehicle Miles Traveled...</td>\n",
       "      <td>Per 100 km2</td>\n",
       "      <td>UHF42</td>\n",
       "      <td>209</td>\n",
       "      <td>Bensonhurst - Bay Ridge</td>\n",
       "      <td>2005</td>\n",
       "      <td>1.0</td>\n",
       "    </tr>\n",
       "    <tr>\n",
       "      <th>2743</th>\n",
       "      <td>151735.0</td>\n",
       "      <td>645</td>\n",
       "      <td>Traffic Density- Annual Vehicle Miles Traveled...</td>\n",
       "      <td>Per 100 km2</td>\n",
       "      <td>UHF42</td>\n",
       "      <td>210</td>\n",
       "      <td>Coney Island - Sheepshead Bay</td>\n",
       "      <td>2005</td>\n",
       "      <td>0.6</td>\n",
       "    </tr>\n",
       "    <tr>\n",
       "      <th>2744</th>\n",
       "      <td>151736.0</td>\n",
       "      <td>645</td>\n",
       "      <td>Traffic Density- Annual Vehicle Miles Traveled...</td>\n",
       "      <td>Per 100 km2</td>\n",
       "      <td>UHF42</td>\n",
       "      <td>211</td>\n",
       "      <td>Williamsburg - Bushwick</td>\n",
       "      <td>2005</td>\n",
       "      <td>0.5</td>\n",
       "    </tr>\n",
       "    <tr>\n",
       "      <th>2745</th>\n",
       "      <td>151737.0</td>\n",
       "      <td>645</td>\n",
       "      <td>Traffic Density- Annual Vehicle Miles Traveled...</td>\n",
       "      <td>Per 100 km2</td>\n",
       "      <td>UHF42</td>\n",
       "      <td>301</td>\n",
       "      <td>Washington Heights</td>\n",
       "      <td>2005</td>\n",
       "      <td>1.6</td>\n",
       "    </tr>\n",
       "    <tr>\n",
       "      <th>2746</th>\n",
       "      <td>151738.0</td>\n",
       "      <td>645</td>\n",
       "      <td>Traffic Density- Annual Vehicle Miles Traveled...</td>\n",
       "      <td>Per 100 km2</td>\n",
       "      <td>UHF42</td>\n",
       "      <td>302</td>\n",
       "      <td>Central Harlem - Morningside Heights</td>\n",
       "      <td>2005</td>\n",
       "      <td>0.9</td>\n",
       "    </tr>\n",
       "    <tr>\n",
       "      <th>2747</th>\n",
       "      <td>151739.0</td>\n",
       "      <td>645</td>\n",
       "      <td>Traffic Density- Annual Vehicle Miles Traveled...</td>\n",
       "      <td>Per 100 km2</td>\n",
       "      <td>UHF42</td>\n",
       "      <td>303</td>\n",
       "      <td>East Harlem</td>\n",
       "      <td>2005</td>\n",
       "      <td>2.1</td>\n",
       "    </tr>\n",
       "    <tr>\n",
       "      <th>2748</th>\n",
       "      <td>151740.0</td>\n",
       "      <td>645</td>\n",
       "      <td>Traffic Density- Annual Vehicle Miles Traveled...</td>\n",
       "      <td>Per 100 km2</td>\n",
       "      <td>UHF42</td>\n",
       "      <td>304</td>\n",
       "      <td>Upper West Side</td>\n",
       "      <td>2005</td>\n",
       "      <td>1.9</td>\n",
       "    </tr>\n",
       "    <tr>\n",
       "      <th>2749</th>\n",
       "      <td>151741.0</td>\n",
       "      <td>645</td>\n",
       "      <td>Traffic Density- Annual Vehicle Miles Traveled...</td>\n",
       "      <td>Per 100 km2</td>\n",
       "      <td>UHF42</td>\n",
       "      <td>305</td>\n",
       "      <td>Upper East Side</td>\n",
       "      <td>2005</td>\n",
       "      <td>2.9</td>\n",
       "    </tr>\n",
       "    <tr>\n",
       "      <th>2750</th>\n",
       "      <td>151742.0</td>\n",
       "      <td>645</td>\n",
       "      <td>Traffic Density- Annual Vehicle Miles Traveled...</td>\n",
       "      <td>Per 100 km2</td>\n",
       "      <td>UHF42</td>\n",
       "      <td>306</td>\n",
       "      <td>Chelsea - Clinton</td>\n",
       "      <td>2005</td>\n",
       "      <td>3.4</td>\n",
       "    </tr>\n",
       "    <tr>\n",
       "      <th>2751</th>\n",
       "      <td>151743.0</td>\n",
       "      <td>645</td>\n",
       "      <td>Traffic Density- Annual Vehicle Miles Traveled...</td>\n",
       "      <td>Per 100 km2</td>\n",
       "      <td>UHF42</td>\n",
       "      <td>307</td>\n",
       "      <td>Gramercy Park - Murray Hill</td>\n",
       "      <td>2005</td>\n",
       "      <td>4.4</td>\n",
       "    </tr>\n",
       "    <tr>\n",
       "      <th>2752</th>\n",
       "      <td>151744.0</td>\n",
       "      <td>645</td>\n",
       "      <td>Traffic Density- Annual Vehicle Miles Traveled...</td>\n",
       "      <td>Per 100 km2</td>\n",
       "      <td>UHF42</td>\n",
       "      <td>308</td>\n",
       "      <td>Greenwich Village - SoHo</td>\n",
       "      <td>2005</td>\n",
       "      <td>3.8</td>\n",
       "    </tr>\n",
       "    <tr>\n",
       "      <th>2753</th>\n",
       "      <td>151745.0</td>\n",
       "      <td>645</td>\n",
       "      <td>Traffic Density- Annual Vehicle Miles Traveled...</td>\n",
       "      <td>Per 100 km2</td>\n",
       "      <td>UHF42</td>\n",
       "      <td>309</td>\n",
       "      <td>Union Square - Lower East Side</td>\n",
       "      <td>2005</td>\n",
       "      <td>3.2</td>\n",
       "    </tr>\n",
       "    <tr>\n",
       "      <th>2754</th>\n",
       "      <td>151746.0</td>\n",
       "      <td>645</td>\n",
       "      <td>Traffic Density- Annual Vehicle Miles Traveled...</td>\n",
       "      <td>Per 100 km2</td>\n",
       "      <td>UHF42</td>\n",
       "      <td>310</td>\n",
       "      <td>Lower Manhattan</td>\n",
       "      <td>2005</td>\n",
       "      <td>1.6</td>\n",
       "    </tr>\n",
       "    <tr>\n",
       "      <th>2755</th>\n",
       "      <td>151747.0</td>\n",
       "      <td>645</td>\n",
       "      <td>Traffic Density- Annual Vehicle Miles Traveled...</td>\n",
       "      <td>Per 100 km2</td>\n",
       "      <td>UHF42</td>\n",
       "      <td>401</td>\n",
       "      <td>Long Island City - Astoria</td>\n",
       "      <td>2005</td>\n",
       "      <td>1.2</td>\n",
       "    </tr>\n",
       "    <tr>\n",
       "      <th>2756</th>\n",
       "      <td>151748.0</td>\n",
       "      <td>645</td>\n",
       "      <td>Traffic Density- Annual Vehicle Miles Traveled...</td>\n",
       "      <td>Per 100 km2</td>\n",
       "      <td>UHF42</td>\n",
       "      <td>402</td>\n",
       "      <td>West Queens</td>\n",
       "      <td>2005</td>\n",
       "      <td>2.0</td>\n",
       "    </tr>\n",
       "    <tr>\n",
       "      <th>2757</th>\n",
       "      <td>151749.0</td>\n",
       "      <td>645</td>\n",
       "      <td>Traffic Density- Annual Vehicle Miles Traveled...</td>\n",
       "      <td>Per 100 km2</td>\n",
       "      <td>UHF42</td>\n",
       "      <td>403</td>\n",
       "      <td>Flushing - Clearview</td>\n",
       "      <td>2005</td>\n",
       "      <td>1.2</td>\n",
       "    </tr>\n",
       "    <tr>\n",
       "      <th>2758</th>\n",
       "      <td>151750.0</td>\n",
       "      <td>645</td>\n",
       "      <td>Traffic Density- Annual Vehicle Miles Traveled...</td>\n",
       "      <td>Per 100 km2</td>\n",
       "      <td>UHF42</td>\n",
       "      <td>404</td>\n",
       "      <td>Bayside - Little Neck</td>\n",
       "      <td>2005</td>\n",
       "      <td>2.0</td>\n",
       "    </tr>\n",
       "    <tr>\n",
       "      <th>2759</th>\n",
       "      <td>151751.0</td>\n",
       "      <td>645</td>\n",
       "      <td>Traffic Density- Annual Vehicle Miles Traveled...</td>\n",
       "      <td>Per 100 km2</td>\n",
       "      <td>UHF42</td>\n",
       "      <td>405</td>\n",
       "      <td>Ridgewood - Forest Hills</td>\n",
       "      <td>2005</td>\n",
       "      <td>1.0</td>\n",
       "    </tr>\n",
       "    <tr>\n",
       "      <th>2760</th>\n",
       "      <td>151752.0</td>\n",
       "      <td>645</td>\n",
       "      <td>Traffic Density- Annual Vehicle Miles Traveled...</td>\n",
       "      <td>Per 100 km2</td>\n",
       "      <td>UHF42</td>\n",
       "      <td>406</td>\n",
       "      <td>Fresh Meadows</td>\n",
       "      <td>2005</td>\n",
       "      <td>2.1</td>\n",
       "    </tr>\n",
       "    <tr>\n",
       "      <th>2761</th>\n",
       "      <td>151753.0</td>\n",
       "      <td>645</td>\n",
       "      <td>Traffic Density- Annual Vehicle Miles Traveled...</td>\n",
       "      <td>Per 100 km2</td>\n",
       "      <td>UHF42</td>\n",
       "      <td>407</td>\n",
       "      <td>Southwest Queens</td>\n",
       "      <td>2005</td>\n",
       "      <td>1.4</td>\n",
       "    </tr>\n",
       "    <tr>\n",
       "      <th>2762</th>\n",
       "      <td>151754.0</td>\n",
       "      <td>645</td>\n",
       "      <td>Traffic Density- Annual Vehicle Miles Traveled...</td>\n",
       "      <td>Per 100 km2</td>\n",
       "      <td>UHF42</td>\n",
       "      <td>408</td>\n",
       "      <td>Jamaica</td>\n",
       "      <td>2005</td>\n",
       "      <td>0.6</td>\n",
       "    </tr>\n",
       "    <tr>\n",
       "      <th>2763</th>\n",
       "      <td>151755.0</td>\n",
       "      <td>645</td>\n",
       "      <td>Traffic Density- Annual Vehicle Miles Traveled...</td>\n",
       "      <td>Per 100 km2</td>\n",
       "      <td>UHF42</td>\n",
       "      <td>409</td>\n",
       "      <td>Southeast Queens</td>\n",
       "      <td>2005</td>\n",
       "      <td>0.5</td>\n",
       "    </tr>\n",
       "    <tr>\n",
       "      <th>2764</th>\n",
       "      <td>151756.0</td>\n",
       "      <td>645</td>\n",
       "      <td>Traffic Density- Annual Vehicle Miles Traveled...</td>\n",
       "      <td>Per 100 km2</td>\n",
       "      <td>UHF42</td>\n",
       "      <td>410</td>\n",
       "      <td>Rockaways</td>\n",
       "      <td>2005</td>\n",
       "      <td>0.2</td>\n",
       "    </tr>\n",
       "    <tr>\n",
       "      <th>2765</th>\n",
       "      <td>151757.0</td>\n",
       "      <td>645</td>\n",
       "      <td>Traffic Density- Annual Vehicle Miles Traveled...</td>\n",
       "      <td>Per 100 km2</td>\n",
       "      <td>UHF42</td>\n",
       "      <td>501</td>\n",
       "      <td>Port Richmond</td>\n",
       "      <td>2005</td>\n",
       "      <td>0.3</td>\n",
       "    </tr>\n",
       "    <tr>\n",
       "      <th>2766</th>\n",
       "      <td>151758.0</td>\n",
       "      <td>645</td>\n",
       "      <td>Traffic Density- Annual Vehicle Miles Traveled...</td>\n",
       "      <td>Per 100 km2</td>\n",
       "      <td>UHF42</td>\n",
       "      <td>502</td>\n",
       "      <td>Stapleton - St. George</td>\n",
       "      <td>2005</td>\n",
       "      <td>0.8</td>\n",
       "    </tr>\n",
       "    <tr>\n",
       "      <th>2767</th>\n",
       "      <td>151759.0</td>\n",
       "      <td>645</td>\n",
       "      <td>Traffic Density- Annual Vehicle Miles Traveled...</td>\n",
       "      <td>Per 100 km2</td>\n",
       "      <td>UHF42</td>\n",
       "      <td>503</td>\n",
       "      <td>Willowbrook</td>\n",
       "      <td>2005</td>\n",
       "      <td>0.8</td>\n",
       "    </tr>\n",
       "    <tr>\n",
       "      <th>2768</th>\n",
       "      <td>151760.0</td>\n",
       "      <td>645</td>\n",
       "      <td>Traffic Density- Annual Vehicle Miles Traveled...</td>\n",
       "      <td>Per 100 km2</td>\n",
       "      <td>UHF42</td>\n",
       "      <td>504</td>\n",
       "      <td>South Beach - Tottenville</td>\n",
       "      <td>2005</td>\n",
       "      <td>0.3</td>\n",
       "    </tr>\n",
       "  </tbody>\n",
       "</table>\n",
       "<p>2736 rows × 9 columns</p>\n",
       "</div>"
      ],
      "text/plain": [
       "      indicator_data_id  indicator_id  \\\n",
       "0              130728.0           646   \n",
       "1              130729.0           646   \n",
       "2              130730.0           646   \n",
       "3              130731.0           646   \n",
       "4              130732.0           646   \n",
       "5              130727.0           646   \n",
       "6              130685.0           646   \n",
       "7              130686.0           646   \n",
       "8              130687.0           646   \n",
       "9              130688.0           646   \n",
       "10             130689.0           646   \n",
       "11             130690.0           646   \n",
       "12             130691.0           646   \n",
       "13             130692.0           646   \n",
       "14             130693.0           646   \n",
       "15             130694.0           646   \n",
       "16             130695.0           646   \n",
       "17             130696.0           646   \n",
       "18             130697.0           646   \n",
       "19             130698.0           646   \n",
       "20             130699.0           646   \n",
       "21             130700.0           646   \n",
       "22             130701.0           646   \n",
       "23             130702.0           646   \n",
       "24             130703.0           646   \n",
       "25             130704.0           646   \n",
       "26             130705.0           646   \n",
       "27             130706.0           646   \n",
       "28             130707.0           646   \n",
       "29             130708.0           646   \n",
       "...                 ...           ...   \n",
       "2739           151731.0           645   \n",
       "2740           151732.0           645   \n",
       "2741           151733.0           645   \n",
       "2742           151734.0           645   \n",
       "2743           151735.0           645   \n",
       "2744           151736.0           645   \n",
       "2745           151737.0           645   \n",
       "2746           151738.0           645   \n",
       "2747           151739.0           645   \n",
       "2748           151740.0           645   \n",
       "2749           151741.0           645   \n",
       "2750           151742.0           645   \n",
       "2751           151743.0           645   \n",
       "2752           151744.0           645   \n",
       "2753           151745.0           645   \n",
       "2754           151746.0           645   \n",
       "2755           151747.0           645   \n",
       "2756           151748.0           645   \n",
       "2757           151749.0           645   \n",
       "2758           151750.0           645   \n",
       "2759           151751.0           645   \n",
       "2760           151752.0           645   \n",
       "2761           151753.0           645   \n",
       "2762           151754.0           645   \n",
       "2763           151755.0           645   \n",
       "2764           151756.0           645   \n",
       "2765           151757.0           645   \n",
       "2766           151758.0           645   \n",
       "2767           151759.0           645   \n",
       "2768           151760.0           645   \n",
       "\n",
       "                                                   name  \\\n",
       "0     Air Toxics Concentrations- Average Benzene Con...   \n",
       "1     Air Toxics Concentrations- Average Benzene Con...   \n",
       "2     Air Toxics Concentrations- Average Benzene Con...   \n",
       "3     Air Toxics Concentrations- Average Benzene Con...   \n",
       "4     Air Toxics Concentrations- Average Benzene Con...   \n",
       "5     Air Toxics Concentrations- Average Benzene Con...   \n",
       "6     Air Toxics Concentrations- Average Benzene Con...   \n",
       "7     Air Toxics Concentrations- Average Benzene Con...   \n",
       "8     Air Toxics Concentrations- Average Benzene Con...   \n",
       "9     Air Toxics Concentrations- Average Benzene Con...   \n",
       "10    Air Toxics Concentrations- Average Benzene Con...   \n",
       "11    Air Toxics Concentrations- Average Benzene Con...   \n",
       "12    Air Toxics Concentrations- Average Benzene Con...   \n",
       "13    Air Toxics Concentrations- Average Benzene Con...   \n",
       "14    Air Toxics Concentrations- Average Benzene Con...   \n",
       "15    Air Toxics Concentrations- Average Benzene Con...   \n",
       "16    Air Toxics Concentrations- Average Benzene Con...   \n",
       "17    Air Toxics Concentrations- Average Benzene Con...   \n",
       "18    Air Toxics Concentrations- Average Benzene Con...   \n",
       "19    Air Toxics Concentrations- Average Benzene Con...   \n",
       "20    Air Toxics Concentrations- Average Benzene Con...   \n",
       "21    Air Toxics Concentrations- Average Benzene Con...   \n",
       "22    Air Toxics Concentrations- Average Benzene Con...   \n",
       "23    Air Toxics Concentrations- Average Benzene Con...   \n",
       "24    Air Toxics Concentrations- Average Benzene Con...   \n",
       "25    Air Toxics Concentrations- Average Benzene Con...   \n",
       "26    Air Toxics Concentrations- Average Benzene Con...   \n",
       "27    Air Toxics Concentrations- Average Benzene Con...   \n",
       "28    Air Toxics Concentrations- Average Benzene Con...   \n",
       "29    Air Toxics Concentrations- Average Benzene Con...   \n",
       "...                                                 ...   \n",
       "2739  Traffic Density- Annual Vehicle Miles Traveled...   \n",
       "2740  Traffic Density- Annual Vehicle Miles Traveled...   \n",
       "2741  Traffic Density- Annual Vehicle Miles Traveled...   \n",
       "2742  Traffic Density- Annual Vehicle Miles Traveled...   \n",
       "2743  Traffic Density- Annual Vehicle Miles Traveled...   \n",
       "2744  Traffic Density- Annual Vehicle Miles Traveled...   \n",
       "2745  Traffic Density- Annual Vehicle Miles Traveled...   \n",
       "2746  Traffic Density- Annual Vehicle Miles Traveled...   \n",
       "2747  Traffic Density- Annual Vehicle Miles Traveled...   \n",
       "2748  Traffic Density- Annual Vehicle Miles Traveled...   \n",
       "2749  Traffic Density- Annual Vehicle Miles Traveled...   \n",
       "2750  Traffic Density- Annual Vehicle Miles Traveled...   \n",
       "2751  Traffic Density- Annual Vehicle Miles Traveled...   \n",
       "2752  Traffic Density- Annual Vehicle Miles Traveled...   \n",
       "2753  Traffic Density- Annual Vehicle Miles Traveled...   \n",
       "2754  Traffic Density- Annual Vehicle Miles Traveled...   \n",
       "2755  Traffic Density- Annual Vehicle Miles Traveled...   \n",
       "2756  Traffic Density- Annual Vehicle Miles Traveled...   \n",
       "2757  Traffic Density- Annual Vehicle Miles Traveled...   \n",
       "2758  Traffic Density- Annual Vehicle Miles Traveled...   \n",
       "2759  Traffic Density- Annual Vehicle Miles Traveled...   \n",
       "2760  Traffic Density- Annual Vehicle Miles Traveled...   \n",
       "2761  Traffic Density- Annual Vehicle Miles Traveled...   \n",
       "2762  Traffic Density- Annual Vehicle Miles Traveled...   \n",
       "2763  Traffic Density- Annual Vehicle Miles Traveled...   \n",
       "2764  Traffic Density- Annual Vehicle Miles Traveled...   \n",
       "2765  Traffic Density- Annual Vehicle Miles Traveled...   \n",
       "2766  Traffic Density- Annual Vehicle Miles Traveled...   \n",
       "2767  Traffic Density- Annual Vehicle Miles Traveled...   \n",
       "2768  Traffic Density- Annual Vehicle Miles Traveled...   \n",
       "\n",
       "                    Measure geo_type_name  geo_entity_id  \\\n",
       "0     Average Concentration       Borough              1   \n",
       "1     Average Concentration       Borough              2   \n",
       "2     Average Concentration       Borough              3   \n",
       "3     Average Concentration       Borough              4   \n",
       "4     Average Concentration       Borough              5   \n",
       "5     Average Concentration      Citywide              1   \n",
       "6     Average Concentration         UHF42            101   \n",
       "7     Average Concentration         UHF42            102   \n",
       "8     Average Concentration         UHF42            103   \n",
       "9     Average Concentration         UHF42            104   \n",
       "10    Average Concentration         UHF42            105   \n",
       "11    Average Concentration         UHF42            106   \n",
       "12    Average Concentration         UHF42            107   \n",
       "13    Average Concentration         UHF42            201   \n",
       "14    Average Concentration         UHF42            202   \n",
       "15    Average Concentration         UHF42            203   \n",
       "16    Average Concentration         UHF42            204   \n",
       "17    Average Concentration         UHF42            205   \n",
       "18    Average Concentration         UHF42            206   \n",
       "19    Average Concentration         UHF42            207   \n",
       "20    Average Concentration         UHF42            208   \n",
       "21    Average Concentration         UHF42            209   \n",
       "22    Average Concentration         UHF42            210   \n",
       "23    Average Concentration         UHF42            211   \n",
       "24    Average Concentration         UHF42            301   \n",
       "25    Average Concentration         UHF42            302   \n",
       "26    Average Concentration         UHF42            303   \n",
       "27    Average Concentration         UHF42            304   \n",
       "28    Average Concentration         UHF42            305   \n",
       "29    Average Concentration         UHF42            306   \n",
       "...                     ...           ...            ...   \n",
       "2739            Per 100 km2         UHF42            206   \n",
       "2740            Per 100 km2         UHF42            207   \n",
       "2741            Per 100 km2         UHF42            208   \n",
       "2742            Per 100 km2         UHF42            209   \n",
       "2743            Per 100 km2         UHF42            210   \n",
       "2744            Per 100 km2         UHF42            211   \n",
       "2745            Per 100 km2         UHF42            301   \n",
       "2746            Per 100 km2         UHF42            302   \n",
       "2747            Per 100 km2         UHF42            303   \n",
       "2748            Per 100 km2         UHF42            304   \n",
       "2749            Per 100 km2         UHF42            305   \n",
       "2750            Per 100 km2         UHF42            306   \n",
       "2751            Per 100 km2         UHF42            307   \n",
       "2752            Per 100 km2         UHF42            308   \n",
       "2753            Per 100 km2         UHF42            309   \n",
       "2754            Per 100 km2         UHF42            310   \n",
       "2755            Per 100 km2         UHF42            401   \n",
       "2756            Per 100 km2         UHF42            402   \n",
       "2757            Per 100 km2         UHF42            403   \n",
       "2758            Per 100 km2         UHF42            404   \n",
       "2759            Per 100 km2         UHF42            405   \n",
       "2760            Per 100 km2         UHF42            406   \n",
       "2761            Per 100 km2         UHF42            407   \n",
       "2762            Per 100 km2         UHF42            408   \n",
       "2763            Per 100 km2         UHF42            409   \n",
       "2764            Per 100 km2         UHF42            410   \n",
       "2765            Per 100 km2         UHF42            501   \n",
       "2766            Per 100 km2         UHF42            502   \n",
       "2767            Per 100 km2         UHF42            503   \n",
       "2768            Per 100 km2         UHF42            504   \n",
       "\n",
       "                           geo_entity_name year_description  data_valuemessage  \n",
       "0                                    Bronx             2005                2.8  \n",
       "1                                 Brooklyn             2005                2.8  \n",
       "2                                Manhattan             2005                4.7  \n",
       "3                                   Queens             2005                1.9  \n",
       "4                            Staten Island             2005                1.6  \n",
       "5                            New York City             2005                2.9  \n",
       "6                  Kingsbridge - Riverdale             2005                2.9  \n",
       "7                          Northeast Bronx             2005                2.8  \n",
       "8                       Fordham - Bronx Pk             2005                2.7  \n",
       "9                     Pelham - Throgs Neck             2005                2.7  \n",
       "10                        Crotona -Tremont             2005                3.0  \n",
       "11                High Bridge - Morrisania             2005                3.0  \n",
       "12                Hunts Point - Mott Haven             2005                2.8  \n",
       "13                              Greenpoint             2005                3.7  \n",
       "14              Downtown - Heights - Slope             2005                3.7  \n",
       "15      Bedford Stuyvesant - Crown Heights             2005                2.5  \n",
       "16                           East New York             2005                2.3  \n",
       "17                             Sunset Park             2005                3.2  \n",
       "18                            Borough Park             2005                2.5  \n",
       "19                East Flatbush - Flatbush             2005                2.3  \n",
       "20                    Canarsie - Flatlands             2005                2.4  \n",
       "21                 Bensonhurst - Bay Ridge             2005                2.8  \n",
       "22           Coney Island - Sheepshead Bay             2005                2.4  \n",
       "23                 Williamsburg - Bushwick             2005                2.8  \n",
       "24                      Washington Heights             2005                4.1  \n",
       "25    Central Harlem - Morningside Heights             2005                3.9  \n",
       "26                             East Harlem             2005                4.2  \n",
       "27                         Upper West Side             2005                3.9  \n",
       "28                         Upper East Side             2005                4.5  \n",
       "29                       Chelsea - Clinton             2005                4.9  \n",
       "...                                    ...              ...                ...  \n",
       "2739                          Borough Park             2005                1.1  \n",
       "2740              East Flatbush - Flatbush             2005                0.9  \n",
       "2741                  Canarsie - Flatlands             2005                0.4  \n",
       "2742               Bensonhurst - Bay Ridge             2005                1.0  \n",
       "2743         Coney Island - Sheepshead Bay             2005                0.6  \n",
       "2744               Williamsburg - Bushwick             2005                0.5  \n",
       "2745                    Washington Heights             2005                1.6  \n",
       "2746  Central Harlem - Morningside Heights             2005                0.9  \n",
       "2747                           East Harlem             2005                2.1  \n",
       "2748                       Upper West Side             2005                1.9  \n",
       "2749                       Upper East Side             2005                2.9  \n",
       "2750                     Chelsea - Clinton             2005                3.4  \n",
       "2751           Gramercy Park - Murray Hill             2005                4.4  \n",
       "2752              Greenwich Village - SoHo             2005                3.8  \n",
       "2753        Union Square - Lower East Side             2005                3.2  \n",
       "2754                       Lower Manhattan             2005                1.6  \n",
       "2755            Long Island City - Astoria             2005                1.2  \n",
       "2756                           West Queens             2005                2.0  \n",
       "2757                  Flushing - Clearview             2005                1.2  \n",
       "2758                 Bayside - Little Neck             2005                2.0  \n",
       "2759              Ridgewood - Forest Hills             2005                1.0  \n",
       "2760                         Fresh Meadows             2005                2.1  \n",
       "2761                      Southwest Queens             2005                1.4  \n",
       "2762                               Jamaica             2005                0.6  \n",
       "2763                      Southeast Queens             2005                0.5  \n",
       "2764                             Rockaways             2005                0.2  \n",
       "2765                         Port Richmond             2005                0.3  \n",
       "2766                Stapleton - St. George             2005                0.8  \n",
       "2767                           Willowbrook             2005                0.8  \n",
       "2768             South Beach - Tottenville             2005                0.3  \n",
       "\n",
       "[2736 rows x 9 columns]"
      ]
     },
     "execution_count": 10,
     "metadata": {},
     "output_type": "execute_result"
    }
   ],
   "source": [
    "# Remove the rows containing the missing values less than 5% \n",
    "\n",
    "# data_valuemessage    33\n",
    "\n",
    "df = df.dropna(axis=0)\n",
    "df"
   ]
  },
  {
   "cell_type": "code",
   "execution_count": 11,
   "metadata": {},
   "outputs": [
    {
     "name": "stdout",
     "output_type": "stream",
     "text": [
      "Shape: (2736, 9)\n"
     ]
    }
   ],
   "source": [
    "print(\"Shape:\", df.shape)"
   ]
  },
  {
   "cell_type": "code",
   "execution_count": 12,
   "metadata": {},
   "outputs": [
    {
     "data": {
      "text/plain": [
       "indicator_data_id    0\n",
       "indicator_id         0\n",
       "name                 0\n",
       "Measure              0\n",
       "geo_type_name        0\n",
       "geo_entity_id        0\n",
       "geo_entity_name      0\n",
       "year_description     0\n",
       "data_valuemessage    0\n",
       "dtype: int64"
      ]
     },
     "execution_count": 12,
     "metadata": {},
     "output_type": "execute_result"
    }
   ],
   "source": [
    "# Data Clean Up: It is now free of missing values\n",
    "np.sum(df.isnull(), axis=0)"
   ]
  },
  {
   "cell_type": "markdown",
   "metadata": {},
   "source": [
    "# Most relevant features\n",
    "name, measure, geo_entity_name, year_description, data_valuemessage"
   ]
  },
  {
   "cell_type": "markdown",
   "metadata": {},
   "source": [
    "## Descriptive statistics:\n",
    "- minimum\n",
    "- mean\n",
    "- median\n",
    "- maximum\n",
    "- standard deviation\n"
   ]
  },
  {
   "cell_type": "code",
   "execution_count": 13,
   "metadata": {},
   "outputs": [
    {
     "data": {
      "text/html": [
       "<div>\n",
       "<style scoped>\n",
       "    .dataframe tbody tr th:only-of-type {\n",
       "        vertical-align: middle;\n",
       "    }\n",
       "\n",
       "    .dataframe tbody tr th {\n",
       "        vertical-align: top;\n",
       "    }\n",
       "\n",
       "    .dataframe thead th {\n",
       "        text-align: right;\n",
       "    }\n",
       "</style>\n",
       "<table border=\"1\" class=\"dataframe\">\n",
       "  <thead>\n",
       "    <tr style=\"text-align: right;\">\n",
       "      <th></th>\n",
       "      <th>indicator_data_id</th>\n",
       "      <th>indicator_id</th>\n",
       "      <th>geo_entity_id</th>\n",
       "      <th>data_valuemessage</th>\n",
       "    </tr>\n",
       "  </thead>\n",
       "  <tbody>\n",
       "    <tr>\n",
       "      <th>count</th>\n",
       "      <td>2736.000000</td>\n",
       "      <td>2736.000000</td>\n",
       "      <td>2736.000000</td>\n",
       "      <td>2736.000000</td>\n",
       "    </tr>\n",
       "    <tr>\n",
       "      <th>mean</th>\n",
       "      <td>137107.800439</td>\n",
       "      <td>652.052632</td>\n",
       "      <td>253.934211</td>\n",
       "      <td>122.963048</td>\n",
       "    </tr>\n",
       "    <tr>\n",
       "      <th>std</th>\n",
       "      <td>9409.319910</td>\n",
       "      <td>7.480979</td>\n",
       "      <td>147.674515</td>\n",
       "      <td>405.787961</td>\n",
       "    </tr>\n",
       "    <tr>\n",
       "      <th>min</th>\n",
       "      <td>130355.000000</td>\n",
       "      <td>639.000000</td>\n",
       "      <td>1.000000</td>\n",
       "      <td>0.000000</td>\n",
       "    </tr>\n",
       "    <tr>\n",
       "      <th>25%</th>\n",
       "      <td>131008.750000</td>\n",
       "      <td>647.000000</td>\n",
       "      <td>107.000000</td>\n",
       "      <td>8.500000</td>\n",
       "    </tr>\n",
       "    <tr>\n",
       "      <th>50%</th>\n",
       "      <td>131446.500000</td>\n",
       "      <td>652.000000</td>\n",
       "      <td>301.000000</td>\n",
       "      <td>22.300000</td>\n",
       "    </tr>\n",
       "    <tr>\n",
       "      <th>75%</th>\n",
       "      <td>151424.250000</td>\n",
       "      <td>657.000000</td>\n",
       "      <td>402.000000</td>\n",
       "      <td>51.225000</td>\n",
       "    </tr>\n",
       "    <tr>\n",
       "      <th>max</th>\n",
       "      <td>154617.000000</td>\n",
       "      <td>667.000000</td>\n",
       "      <td>504.000000</td>\n",
       "      <td>2005.000000</td>\n",
       "    </tr>\n",
       "  </tbody>\n",
       "</table>\n",
       "</div>"
      ],
      "text/plain": [
       "       indicator_data_id  indicator_id  geo_entity_id  data_valuemessage\n",
       "count        2736.000000   2736.000000    2736.000000        2736.000000\n",
       "mean       137107.800439    652.052632     253.934211         122.963048\n",
       "std          9409.319910      7.480979     147.674515         405.787961\n",
       "min        130355.000000    639.000000       1.000000           0.000000\n",
       "25%        131008.750000    647.000000     107.000000           8.500000\n",
       "50%        131446.500000    652.000000     301.000000          22.300000\n",
       "75%        151424.250000    657.000000     402.000000          51.225000\n",
       "max        154617.000000    667.000000     504.000000        2005.000000"
      ]
     },
     "execution_count": 13,
     "metadata": {},
     "output_type": "execute_result"
    }
   ],
   "source": [
    "# Statistics of numerical features\n",
    "df.describe()"
   ]
  },
  {
   "cell_type": "markdown",
   "metadata": {},
   "source": [
    "### indicator_data_id:"
   ]
  },
  {
   "cell_type": "code",
   "execution_count": 14,
   "metadata": {},
   "outputs": [
    {
     "name": "stdout",
     "output_type": "stream",
     "text": [
      "Minimum: 130355.0\n",
      "Mean: 137107.8004385965\n",
      "Median: 131446.5\n",
      "Maximum: 154617.0\n",
      "Standard Deviation: 9409.31990970048\n"
     ]
    }
   ],
   "source": [
    "# Minimum\n",
    "df_min = df['indicator_data_id'].min()\n",
    "print(\"Minimum:\", df_min)\n",
    "\n",
    "# Mean\n",
    "df_mean = df['indicator_data_id'].mean()\n",
    "print(\"Mean:\", df_mean)\n",
    "\n",
    "# Median\n",
    "df_median = df['indicator_data_id'].median()\n",
    "print(\"Median:\", df_median)\n",
    "\n",
    "# Maximum\n",
    "df_max = df['indicator_data_id'].max()\n",
    "print(\"Maximum:\", df_max)\n",
    "\n",
    "# Standard Deviation\n",
    "df_std = df['indicator_data_id'].std()\n",
    "print(\"Standard Deviation:\", df_std)"
   ]
  },
  {
   "cell_type": "markdown",
   "metadata": {},
   "source": [
    "### indicator_id:"
   ]
  },
  {
   "cell_type": "code",
   "execution_count": 15,
   "metadata": {},
   "outputs": [
    {
     "name": "stdout",
     "output_type": "stream",
     "text": [
      "Minimum: 639\n",
      "Mean: 652.0526315789474\n",
      "Median: 652.0\n",
      "Maximum: 667\n",
      "Standard Deviation: 7.480979441311669\n"
     ]
    }
   ],
   "source": [
    "# Minimum\n",
    "df_min = df['indicator_id'].min()\n",
    "print(\"Minimum:\", df_min)\n",
    "\n",
    "# Mean\n",
    "df_mean = df['indicator_id'].mean()\n",
    "print(\"Mean:\", df_mean)\n",
    "\n",
    "# Median\n",
    "df_median = df['indicator_id'].median()\n",
    "print(\"Median:\", df_median)\n",
    "\n",
    "# Maximum\n",
    "df_max = df['indicator_id'].max()\n",
    "print(\"Maximum:\", df_max)\n",
    "\n",
    "# Standard Deviation\n",
    "df_std = df['indicator_id'].std()\n",
    "print(\"Standard Deviation:\", df_std)"
   ]
  },
  {
   "cell_type": "markdown",
   "metadata": {},
   "source": [
    "### geo_entity_id:"
   ]
  },
  {
   "cell_type": "code",
   "execution_count": 16,
   "metadata": {},
   "outputs": [
    {
     "name": "stdout",
     "output_type": "stream",
     "text": [
      "Minimum: 1\n",
      "Mean: 253.93421052631578\n",
      "Median: 301.0\n",
      "Maximum: 504\n",
      "Standard Deviation: 147.67451505851562\n"
     ]
    }
   ],
   "source": [
    "# Minimum\n",
    "df_min = df['geo_entity_id'].min()\n",
    "print(\"Minimum:\", df_min)\n",
    "\n",
    "# Mean\n",
    "df_mean = df['geo_entity_id'].mean()\n",
    "print(\"Mean:\", df_mean)\n",
    "\n",
    "# Median\n",
    "df_median = df['geo_entity_id'].median()\n",
    "print(\"Median:\", df_median)\n",
    "\n",
    "# Maximum\n",
    "df_max = df['geo_entity_id'].max()\n",
    "print(\"Maximum:\", df_max)\n",
    "\n",
    "# Standard Deviation\n",
    "df_std = df['geo_entity_id'].std()\n",
    "print(\"Standard Deviation:\", df_std)"
   ]
  },
  {
   "cell_type": "markdown",
   "metadata": {},
   "source": [
    "### data_valuemessage:"
   ]
  },
  {
   "cell_type": "code",
   "execution_count": 17,
   "metadata": {},
   "outputs": [
    {
     "name": "stdout",
     "output_type": "stream",
     "text": [
      "Minimum: 0.0\n",
      "Mean: 122.96304824561406\n",
      "Median: 22.3\n",
      "Maximum: 2005.0\n",
      "Standard Deviation: 405.7879611527648\n"
     ]
    }
   ],
   "source": [
    "# Minimum\n",
    "df_min = df['data_valuemessage'].min()\n",
    "print(\"Minimum:\", df_min)\n",
    "\n",
    "# Mean\n",
    "df_mean = df['data_valuemessage'].mean()\n",
    "print(\"Mean:\", df_mean)\n",
    "\n",
    "# Median\n",
    "df_median = df['data_valuemessage'].median()\n",
    "print(\"Median:\", df_median)\n",
    "\n",
    "# Maximum\n",
    "df_max = df['data_valuemessage'].max()\n",
    "print(\"Maximum:\", df_max)\n",
    "\n",
    "# Standard Deviation\n",
    "df_std = df['data_valuemessage'].std()\n",
    "print(\"Standard Deviation:\", df_std)"
   ]
  },
  {
   "cell_type": "markdown",
   "metadata": {},
   "source": [
    "## Histograms"
   ]
  },
  {
   "cell_type": "code",
   "execution_count": 18,
   "metadata": {},
   "outputs": [
    {
     "data": {
      "text/plain": [
       "Text(0, 0.5, 'Frequency')"
      ]
     },
     "execution_count": 18,
     "metadata": {},
     "output_type": "execute_result"
    },
    {
     "data": {
      "image/png": "[encoded data removed]",
      "text/plain": [
       "<Figure size 720x360 with 1 Axes>"
      ]
     },
     "metadata": {
      "needs_background": "light"
     },
     "output_type": "display_data"
    }
   ],
   "source": [
    "fig = plt.figure(figsize=(10, 5))\n",
    "ax1 = fig.add_subplot(1, 1, 1)\n",
    "df['indicator_data_id'].hist()\n",
    "ax1.set_title(\"Indicator Data ID\")\n",
    "ax1.set_ylabel(\"Frequency\")"
   ]
  },
  {
   "cell_type": "code",
   "execution_count": 19,
   "metadata": {},
   "outputs": [
    {
     "data": {
      "text/plain": [
       "Text(0, 0.5, 'Frequency')"
      ]
     },
     "execution_count": 19,
     "metadata": {},
     "output_type": "execute_result"
    },
    {
     "data": {
      "image/png": "[encoded data removed]",
      "text/plain": [
       "<Figure size 720x360 with 1 Axes>"
      ]
     },
     "metadata": {
      "needs_background": "light"
     },
     "output_type": "display_data"
    }
   ],
   "source": [
    "fig = plt.figure(figsize=(10, 5))\n",
    "ax1 = fig.add_subplot(1, 1, 1)\n",
    "df['indicator_id'].hist()\n",
    "ax1.set_title(\"Indicator ID\")\n",
    "ax1.set_ylabel(\"Frequency\")"
   ]
  },
  {
   "cell_type": "code",
   "execution_count": 20,
   "metadata": {},
   "outputs": [
    {
     "data": {
      "text/plain": [
       "Text(0, 0.5, 'Frequency')"
      ]
     },
     "execution_count": 20,
     "metadata": {},
     "output_type": "execute_result"
    },
    {
     "data": {
      "image/png": "[encoded data removed]",
      "text/plain": [
       "<Figure size 720x360 with 1 Axes>"
      ]
     },
     "metadata": {
      "needs_background": "light"
     },
     "output_type": "display_data"
    }
   ],
   "source": [
    "fig = plt.figure(figsize=(10, 5))\n",
    "ax1 = fig.add_subplot(1, 1, 1)\n",
    "df['geo_entity_id'].hist()\n",
    "ax1.set_title(\"Geo Entity ID\")\n",
    "ax1.set_ylabel(\"Frequency\")"
   ]
  },
  {
   "cell_type": "code",
   "execution_count": 21,
   "metadata": {},
   "outputs": [
    {
     "data": {
      "text/plain": [
       "Text(0, 0.5, 'Frequency')"
      ]
     },
     "execution_count": 21,
     "metadata": {},
     "output_type": "execute_result"
    },
    {
     "data": {
      "image/png": "[encoded data removed]",
      "text/plain": [
       "<Figure size 720x360 with 1 Axes>"
      ]
     },
     "metadata": {
      "needs_background": "light"
     },
     "output_type": "display_data"
    }
   ],
   "source": [
    "fig = plt.figure(figsize=(10, 5))\n",
    "ax1 = fig.add_subplot(1, 1, 1)\n",
    "df['data_valuemessage'].hist()\n",
    "ax1.set_title(\"Data Value Message\")\n",
    "ax1.set_ylabel(\"Frequency\")"
   ]
  },
  {
   "cell_type": "markdown",
   "metadata": {},
   "source": [
    "# Outliers"
   ]
  },
  {
   "cell_type": "code",
   "execution_count": 22,
   "metadata": {},
   "outputs": [
    {
     "name": "stdout",
     "output_type": "stream",
     "text": [
      "indicator_data_id    20415.500\n",
      "indicator_id            10.000\n",
      "geo_entity_id          295.000\n",
      "data_valuemessage       42.725\n",
      "dtype: float64\n"
     ]
    }
   ],
   "source": [
    "# Outliers for all columns\n",
    "\n",
    "Q1 = df.quantile(0.25)\n",
    "Q3 = df.quantile(0.75)\n",
    "IQR = Q3 - Q1\n",
    "print(IQR)"
   ]
  },
  {
   "cell_type": "markdown",
   "metadata": {},
   "source": [
    "## indicator_data_id"
   ]
  },
  {
   "cell_type": "code",
   "execution_count": 23,
   "metadata": {
    "scrolled": true
   },
   "outputs": [
    {
     "data": {
      "text/plain": [
       "130355.0    2\n",
       "130356.0    2\n",
       "130357.0    2\n",
       "130358.0    2\n",
       "130359.0    2\n",
       "130360.0    2\n",
       "130361.0    2\n",
       "130362.0    2\n",
       "130363.0    2\n",
       "130364.0    2\n",
       "130365.0    2\n",
       "130366.0    2\n",
       "130367.0    2\n",
       "130368.0    2\n",
       "130369.0    2\n",
       "130370.0    2\n",
       "130371.0    2\n",
       "130372.0    2\n",
       "130373.0    2\n",
       "130374.0    2\n",
       "130375.0    2\n",
       "130376.0    2\n",
       "130377.0    2\n",
       "130378.0    2\n",
       "130379.0    2\n",
       "130380.0    2\n",
       "130381.0    2\n",
       "130382.0    2\n",
       "130383.0    2\n",
       "130384.0    2\n",
       "           ..\n",
       "154584.0    1\n",
       "154585.0    1\n",
       "154586.0    1\n",
       "154587.0    1\n",
       "154588.0    1\n",
       "154589.0    1\n",
       "154590.0    1\n",
       "154591.0    1\n",
       "154592.0    1\n",
       "154593.0    1\n",
       "154594.0    1\n",
       "154595.0    1\n",
       "154596.0    1\n",
       "154597.0    1\n",
       "154598.0    1\n",
       "154599.0    1\n",
       "154601.0    1\n",
       "154602.0    1\n",
       "154603.0    1\n",
       "154604.0    1\n",
       "154605.0    1\n",
       "154607.0    1\n",
       "154608.0    1\n",
       "154609.0    1\n",
       "154610.0    1\n",
       "154611.0    1\n",
       "154614.0    1\n",
       "154615.0    1\n",
       "154616.0    1\n",
       "154617.0    1\n",
       "Name: indicator_data_id, Length: 1776, dtype: int64"
      ]
     },
     "execution_count": 23,
     "metadata": {},
     "output_type": "execute_result"
    }
   ],
   "source": [
    "# Identify values that are too small or too large\n",
    "df['indicator_data_id'].value_counts().sort_index()"
   ]
  },
  {
   "cell_type": "code",
   "execution_count": 24,
   "metadata": {},
   "outputs": [
    {
     "data": {
      "text/plain": [
       "<matplotlib.axes._subplots.AxesSubplot at 0x106d334a8>"
      ]
     },
     "execution_count": 24,
     "metadata": {},
     "output_type": "execute_result"
    },
    {
     "data": {
      "image/png": "[encoded data removed]",
      "text/plain": [
       "<Figure size 432x288 with 1 Axes>"
      ]
     },
     "metadata": {
      "needs_background": "light"
     },
     "output_type": "display_data"
    }
   ],
   "source": [
    "import seaborn as sns\n",
    "# Using a boxplot to visualize the outliers \n",
    "sns.boxplot(x=df['indicator_data_id'])"
   ]
  },
  {
   "cell_type": "code",
   "execution_count": 25,
   "metadata": {},
   "outputs": [
    {
     "name": "stdout",
     "output_type": "stream",
     "text": [
      "20415.5\n"
     ]
    }
   ],
   "source": [
    "# Using Interquartile Range (IQR) score to measure the statistical dispersion, IQR = Q3 − Q1.\n",
    "\n",
    "Q1 = df['indicator_data_id'].quantile(0.25)\n",
    "Q3 = df['indicator_data_id'].quantile(0.75)\n",
    "IQR = Q3 - Q1\n",
    "print(IQR)"
   ]
  },
  {
   "cell_type": "code",
   "execution_count": 26,
   "metadata": {},
   "outputs": [
    {
     "data": {
      "text/plain": [
       "(2736, 9)"
      ]
     },
     "execution_count": 26,
     "metadata": {},
     "output_type": "execute_result"
    }
   ],
   "source": [
    "df.shape # Before removing outliers"
   ]
  },
  {
   "cell_type": "code",
   "execution_count": 27,
   "metadata": {},
   "outputs": [],
   "source": [
    "# Remove outliers \n",
    "\n",
    "def remove_outlier(df, col):\n",
    "    Q1 = df[col].quantile(.25)\n",
    "    Q3 = df[col].quantile(.75)\n",
    "    IQR = Q3 - Q1\n",
    "    lowerBound = Q1 - (1.5 * IQR)\n",
    "    upperBound = Q3 + (1.5 * IQR)\n",
    "    df_out = df.loc[(df[col] > lowerBound) & (df[col] < upperBound)]\n",
    "    return df_out\n",
    "df = remove_outlier(df, 'indicator_data_id')"
   ]
  },
  {
   "cell_type": "code",
   "execution_count": 28,
   "metadata": {},
   "outputs": [
    {
     "data": {
      "text/plain": [
       "(2736, 9)"
      ]
     },
     "execution_count": 28,
     "metadata": {},
     "output_type": "execute_result"
    }
   ],
   "source": [
    "df.shape # After removing outliers"
   ]
  },
  {
   "cell_type": "markdown",
   "metadata": {},
   "source": [
    "<b> The shape of the data remained the same, because there weren't any necessary outliers to be removed for indicator_data_id. </b>"
   ]
  },
  {
   "cell_type": "code",
   "execution_count": 29,
   "metadata": {},
   "outputs": [
    {
     "data": {
      "text/plain": [
       "<matplotlib.axes._subplots.AxesSubplot at 0x1a1a9a8a90>"
      ]
     },
     "execution_count": 29,
     "metadata": {},
     "output_type": "execute_result"
    },
    {
     "data": {
      "image/png": "[encoded data removed]",
      "text/plain": [
       "<Figure size 432x288 with 1 Axes>"
      ]
     },
     "metadata": {
      "needs_background": "light"
     },
     "output_type": "display_data"
    }
   ],
   "source": [
    "df['indicator_data_id'].hist()"
   ]
  },
  {
   "cell_type": "markdown",
   "metadata": {},
   "source": [
    "## indicator_id"
   ]
  },
  {
   "cell_type": "code",
   "execution_count": 30,
   "metadata": {
    "scrolled": true
   },
   "outputs": [
    {
     "data": {
      "text/plain": [
       "639    192\n",
       "640     48\n",
       "641     48\n",
       "642     48\n",
       "643     96\n",
       "644     96\n",
       "645     96\n",
       "646     48\n",
       "647     48\n",
       "648    192\n",
       "650    192\n",
       "651    192\n",
       "652    192\n",
       "653    192\n",
       "655    192\n",
       "657    192\n",
       "659    192\n",
       "661    192\n",
       "662     48\n",
       "663     48\n",
       "664     48\n",
       "665     48\n",
       "666     48\n",
       "667     48\n",
       "Name: indicator_id, dtype: int64"
      ]
     },
     "execution_count": 30,
     "metadata": {},
     "output_type": "execute_result"
    }
   ],
   "source": [
    "# Identify values that are too small or too large\n",
    "df['indicator_id'].value_counts().sort_index()"
   ]
  },
  {
   "cell_type": "code",
   "execution_count": 31,
   "metadata": {},
   "outputs": [
    {
     "data": {
      "text/plain": [
       "<matplotlib.axes._subplots.AxesSubplot at 0x1a1aa70438>"
      ]
     },
     "execution_count": 31,
     "metadata": {},
     "output_type": "execute_result"
    },
    {
     "data": {
      "image/png": "[encoded data removed]",
      "text/plain": [
       "<Figure size 432x288 with 1 Axes>"
      ]
     },
     "metadata": {
      "needs_background": "light"
     },
     "output_type": "display_data"
    }
   ],
   "source": [
    "# Using a boxplot to visualize the outliers \n",
    "sns.boxplot(x=df['indicator_id'])"
   ]
  },
  {
   "cell_type": "code",
   "execution_count": 32,
   "metadata": {},
   "outputs": [
    {
     "name": "stdout",
     "output_type": "stream",
     "text": [
      "10.0\n"
     ]
    }
   ],
   "source": [
    "# Using Interquartile Range (IQR) score to measure the statistical dispersion, IQR = Q3 − Q1.\n",
    "\n",
    "Q1 = df['indicator_id'].quantile(0.25)\n",
    "Q3 = df['indicator_id'].quantile(0.75)\n",
    "IQR = Q3 - Q1\n",
    "print(IQR)"
   ]
  },
  {
   "cell_type": "code",
   "execution_count": 33,
   "metadata": {},
   "outputs": [
    {
     "data": {
      "text/plain": [
       "(2736, 9)"
      ]
     },
     "execution_count": 33,
     "metadata": {},
     "output_type": "execute_result"
    }
   ],
   "source": [
    "df.shape # Before removing outliers"
   ]
  },
  {
   "cell_type": "code",
   "execution_count": 34,
   "metadata": {},
   "outputs": [],
   "source": [
    "# Remove outliers \n",
    "\n",
    "def remove_outlier(df, col):\n",
    "    Q1 = df[col].quantile(.25)\n",
    "    Q3 = df[col].quantile(.75)\n",
    "    IQR = Q3 - Q1\n",
    "    lowerBound = Q1 - (1.5 * IQR)\n",
    "    upperBound = Q3 + (1.5 * IQR)\n",
    "    df_out = df.loc[(df[col] > lowerBound) & (df[col] < upperBound)]\n",
    "    return df_out\n",
    "df = remove_outlier(df, 'indicator_id')"
   ]
  },
  {
   "cell_type": "code",
   "execution_count": 35,
   "metadata": {},
   "outputs": [
    {
     "data": {
      "text/plain": [
       "(2736, 9)"
      ]
     },
     "execution_count": 35,
     "metadata": {},
     "output_type": "execute_result"
    }
   ],
   "source": [
    "df.shape # After removing outliers"
   ]
  },
  {
   "cell_type": "markdown",
   "metadata": {},
   "source": [
    "<b> The shape of the data remained the same, because there weren't any necessary outliers to be removed for indicator_id. </b>"
   ]
  },
  {
   "cell_type": "markdown",
   "metadata": {},
   "source": [
    "## geo_entity_id"
   ]
  },
  {
   "cell_type": "code",
   "execution_count": 36,
   "metadata": {
    "scrolled": true
   },
   "outputs": [
    {
     "data": {
      "text/plain": [
       "1      108\n",
       "2       54\n",
       "3       54\n",
       "4       54\n",
       "5       54\n",
       "101     57\n",
       "102     57\n",
       "103     57\n",
       "104     57\n",
       "105     57\n",
       "106     57\n",
       "107     57\n",
       "108      3\n",
       "109      3\n",
       "110      3\n",
       "111      3\n",
       "112      3\n",
       "201     54\n",
       "202     57\n",
       "203     57\n",
       "204     57\n",
       "205     54\n",
       "206     57\n",
       "207     54\n",
       "208     54\n",
       "209     57\n",
       "210     54\n",
       "211     54\n",
       "212      3\n",
       "301     57\n",
       "      ... \n",
       "304     57\n",
       "305     57\n",
       "306     57\n",
       "307     57\n",
       "308     57\n",
       "309     57\n",
       "310     57\n",
       "311      3\n",
       "312      3\n",
       "313      3\n",
       "314      3\n",
       "315      3\n",
       "316      3\n",
       "318      3\n",
       "401     57\n",
       "402     57\n",
       "403     57\n",
       "404     57\n",
       "405     54\n",
       "406     57\n",
       "407     57\n",
       "408     57\n",
       "409     57\n",
       "410     57\n",
       "413      3\n",
       "414      3\n",
       "501     57\n",
       "502     57\n",
       "503     54\n",
       "504     54\n",
       "Name: geo_entity_id, Length: 62, dtype: int64"
      ]
     },
     "execution_count": 36,
     "metadata": {},
     "output_type": "execute_result"
    }
   ],
   "source": [
    "# Identify values that are too small or too large\n",
    "df['geo_entity_id'].value_counts().sort_index()"
   ]
  },
  {
   "cell_type": "code",
   "execution_count": 37,
   "metadata": {},
   "outputs": [
    {
     "data": {
      "text/plain": [
       "<matplotlib.axes._subplots.AxesSubplot at 0x1a1abad780>"
      ]
     },
     "execution_count": 37,
     "metadata": {},
     "output_type": "execute_result"
    },
    {
     "data": {
      "image/png": "[encoded data removed]",
      "text/plain": [
       "<Figure size 432x288 with 1 Axes>"
      ]
     },
     "metadata": {
      "needs_background": "light"
     },
     "output_type": "display_data"
    }
   ],
   "source": [
    "# Using a boxplot to visualize the outliers \n",
    "sns.boxplot(x=df['geo_entity_id'])"
   ]
  },
  {
   "cell_type": "code",
   "execution_count": 38,
   "metadata": {},
   "outputs": [
    {
     "name": "stdout",
     "output_type": "stream",
     "text": [
      "295.0\n"
     ]
    }
   ],
   "source": [
    "# Using Interquartile Range (IQR) score to measure the statistical dispersion, IQR = Q3 − Q1.\n",
    "\n",
    "Q1 = df['geo_entity_id'].quantile(0.25)\n",
    "Q3 = df['geo_entity_id'].quantile(0.75)\n",
    "IQR = Q3 - Q1\n",
    "print(IQR)"
   ]
  },
  {
   "cell_type": "code",
   "execution_count": 39,
   "metadata": {},
   "outputs": [
    {
     "data": {
      "text/plain": [
       "(2736, 9)"
      ]
     },
     "execution_count": 39,
     "metadata": {},
     "output_type": "execute_result"
    }
   ],
   "source": [
    "df.shape # Before removing outliers"
   ]
  },
  {
   "cell_type": "code",
   "execution_count": 40,
   "metadata": {},
   "outputs": [],
   "source": [
    "# Remove outliers \n",
    "\n",
    "def remove_outlier(df, col):\n",
    "    Q1 = df[col].quantile(.25)\n",
    "    Q3 = df[col].quantile(.75)\n",
    "    IQR = Q3 - Q1\n",
    "    lowerBound = Q1 - (1.5 * IQR)\n",
    "    upperBound = Q3 + (1.5 * IQR)\n",
    "    df_out = df.loc[(df[col] > lowerBound) & (df[col] < upperBound)]\n",
    "    return df_out\n",
    "df = remove_outlier(df, 'geo_entity_id')"
   ]
  },
  {
   "cell_type": "code",
   "execution_count": 41,
   "metadata": {},
   "outputs": [
    {
     "data": {
      "text/plain": [
       "(2736, 9)"
      ]
     },
     "execution_count": 41,
     "metadata": {},
     "output_type": "execute_result"
    }
   ],
   "source": [
    "df.shape # After removing outliers"
   ]
  },
  {
   "cell_type": "markdown",
   "metadata": {},
   "source": [
    "<b> The shape of the data remained the same, because there weren't any necessary outliers to be removed for geo_entity_id. </b>"
   ]
  },
  {
   "cell_type": "markdown",
   "metadata": {},
   "source": [
    "## data_valuemessage"
   ]
  },
  {
   "cell_type": "code",
   "execution_count": 42,
   "metadata": {
    "scrolled": true
   },
   "outputs": [
    {
     "data": {
      "text/plain": [
       "0.0        15\n",
       "0.1        11\n",
       "0.2         4\n",
       "0.3         9\n",
       "0.4         4\n",
       "0.5         6\n",
       "0.6         4\n",
       "0.7         3\n",
       "0.8         8\n",
       "0.9        12\n",
       "1.0        15\n",
       "1.1         9\n",
       "1.2         9\n",
       "1.3        12\n",
       "1.4        11\n",
       "1.5         6\n",
       "1.6         6\n",
       "1.7         3\n",
       "1.8        11\n",
       "1.9         6\n",
       "2.0        10\n",
       "2.1         8\n",
       "2.2         9\n",
       "2.3        10\n",
       "2.4         9\n",
       "2.5         8\n",
       "2.6         6\n",
       "2.7        13\n",
       "2.8        23\n",
       "2.9         8\n",
       "         ... \n",
       "185.8       2\n",
       "189.1       2\n",
       "191.4       2\n",
       "192.7       2\n",
       "193.7       2\n",
       "195.4       2\n",
       "200.2       2\n",
       "202.0       2\n",
       "202.7       2\n",
       "204.8       1\n",
       "206.3       2\n",
       "209.9       2\n",
       "212.5       2\n",
       "224.8       2\n",
       "247.9       1\n",
       "249.3       2\n",
       "251.3       2\n",
       "257.1       2\n",
       "269.8       1\n",
       "269.9       2\n",
       "276.0       2\n",
       "278.6       2\n",
       "284.7       1\n",
       "291.1       2\n",
       "292.5       2\n",
       "299.4       2\n",
       "308.0       2\n",
       "354.2       2\n",
       "424.7       2\n",
       "2005.0    120\n",
       "Name: data_valuemessage, Length: 683, dtype: int64"
      ]
     },
     "execution_count": 42,
     "metadata": {},
     "output_type": "execute_result"
    }
   ],
   "source": [
    "# Identify values that are too small or too large\n",
    "df['data_valuemessage'].value_counts().sort_index()"
   ]
  },
  {
   "cell_type": "code",
   "execution_count": 43,
   "metadata": {},
   "outputs": [
    {
     "data": {
      "text/plain": [
       "<matplotlib.axes._subplots.AxesSubplot at 0x1a1ac83dd8>"
      ]
     },
     "execution_count": 43,
     "metadata": {},
     "output_type": "execute_result"
    },
    {
     "data": {
      "image/png": "[encoded data removed]",
      "text/plain": [
       "<Figure size 432x288 with 1 Axes>"
      ]
     },
     "metadata": {
      "needs_background": "light"
     },
     "output_type": "display_data"
    }
   ],
   "source": [
    "# Using a boxplot to visualize the outliers \n",
    "sns.boxplot(x=df['data_valuemessage'])"
   ]
  },
  {
   "cell_type": "code",
   "execution_count": 44,
   "metadata": {},
   "outputs": [
    {
     "name": "stdout",
     "output_type": "stream",
     "text": [
      "42.72500000000001\n"
     ]
    }
   ],
   "source": [
    "# Using Interquartile Range (IQR) score to measure the statistical dispersion, IQR = Q3 − Q1.\n",
    "\n",
    "Q1 = df['data_valuemessage'].quantile(0.25)\n",
    "Q3 = df['data_valuemessage'].quantile(0.75)\n",
    "IQR = Q3 - Q1\n",
    "print(IQR)"
   ]
  },
  {
   "cell_type": "code",
   "execution_count": 45,
   "metadata": {},
   "outputs": [
    {
     "data": {
      "text/plain": [
       "(2736, 9)"
      ]
     },
     "execution_count": 45,
     "metadata": {},
     "output_type": "execute_result"
    }
   ],
   "source": [
    "df.shape # Before removing outliers"
   ]
  },
  {
   "cell_type": "code",
   "execution_count": 46,
   "metadata": {},
   "outputs": [],
   "source": [
    "# Remove outliers \n",
    "\n",
    "def remove_outlier(df, col):\n",
    "    Q1 = df[col].quantile(.25)\n",
    "    Q3 = df[col].quantile(.75)\n",
    "    IQR = Q3 - Q1\n",
    "    lowerBound = Q1 - (1.5 * IQR)\n",
    "    upperBound = Q3 + (1.5 * IQR)\n",
    "    df_out = df.loc[(df[col] > lowerBound) & (df[col] < upperBound)]\n",
    "    return df_out\n",
    "df = remove_outlier(df, 'data_valuemessage')"
   ]
  },
  {
   "cell_type": "code",
   "execution_count": 47,
   "metadata": {},
   "outputs": [
    {
     "data": {
      "text/plain": [
       "(2436, 9)"
      ]
     },
     "execution_count": 47,
     "metadata": {},
     "output_type": "execute_result"
    }
   ],
   "source": [
    "df.shape # After removing outliers"
   ]
  },
  {
   "cell_type": "markdown",
   "metadata": {},
   "source": [
    "<b> The shape of the data changed after removing outliers for data_valuemessage, this is where the outliers were present. </b>"
   ]
  },
  {
   "cell_type": "markdown",
   "metadata": {},
   "source": [
    "### data_valuemessage Air Quality change over the years by borough\n"
   ]
  },
  {
   "cell_type": "code",
   "execution_count": 48,
   "metadata": {},
   "outputs": [
    {
     "data": {
      "text/plain": [
       "<matplotlib.axes._subplots.AxesSubplot at 0x1a1ac83630>"
      ]
     },
     "execution_count": 48,
     "metadata": {},
     "output_type": "execute_result"
    },
    {
     "data": {
      "image/png": "[encoded data removed]",
      "text/plain": [
       "<Figure size 432x288 with 1 Axes>"
      ]
     },
     "metadata": {
      "needs_background": "light"
     },
     "output_type": "display_data"
    }
   ],
   "source": [
    "# Extracting data_valuemessage compared with Air Quality Index in the Bronx\n",
    "Brox = df[df['geo_entity_name'] == 'Bronx'].groupby('year_description').sum()\n",
    "Brox['data_valuemessage'].sort_values().plot.bar()"
   ]
  },
  {
   "cell_type": "code",
   "execution_count": 49,
   "metadata": {},
   "outputs": [
    {
     "data": {
      "text/plain": [
       "<matplotlib.axes._subplots.AxesSubplot at 0x1a1ae27be0>"
      ]
     },
     "execution_count": 49,
     "metadata": {},
     "output_type": "execute_result"
    },
    {
     "data": {
      "image/png": "[encoded data removed]",
      "text/plain": [
       "<Figure size 432x288 with 1 Axes>"
      ]
     },
     "metadata": {
      "needs_background": "light"
     },
     "output_type": "display_data"
    }
   ],
   "source": [
    "# Extracting data_valuemessage compared with Air Quality Index in Brooklyn\n",
    "Brooklyn = df[df['geo_entity_name'] == 'Brooklyn'].groupby('year_description').sum()\n",
    "Brooklyn['data_valuemessage'].sort_values().plot.bar()"
   ]
  },
  {
   "cell_type": "code",
   "execution_count": 50,
   "metadata": {},
   "outputs": [
    {
     "data": {
      "text/plain": [
       "<matplotlib.axes._subplots.AxesSubplot at 0x1a1ae05588>"
      ]
     },
     "execution_count": 50,
     "metadata": {},
     "output_type": "execute_result"
    },
    {
     "data": {
      "image/png": "[encoded data removed]",
      "text/plain": [
       "<Figure size 432x288 with 1 Axes>"
      ]
     },
     "metadata": {
      "needs_background": "light"
     },
     "output_type": "display_data"
    }
   ],
   "source": [
    "# Extracting data_valuemessage compared with Air Quality Index in Queens\n",
    "Queens = df[df['geo_entity_name'] == 'Queens'].groupby('year_description').sum()\n",
    "Queens['data_valuemessage'].sort_values().plot.bar()"
   ]
  },
  {
   "cell_type": "code",
   "execution_count": 51,
   "metadata": {},
   "outputs": [
    {
     "data": {
      "text/plain": [
       "<matplotlib.axes._subplots.AxesSubplot at 0x1a1afd1390>"
      ]
     },
     "execution_count": 51,
     "metadata": {},
     "output_type": "execute_result"
    },
    {
     "data": {
      "image/png": "[encoded data removed]",
      "text/plain": [
       "<Figure size 432x288 with 1 Axes>"
      ]
     },
     "metadata": {
      "needs_background": "light"
     },
     "output_type": "display_data"
    }
   ],
   "source": [
    "# Extracting data_valuemessage compared with Air Quality Index in Staten Island\n",
    "StatenIsland = df[df['geo_entity_name'] == 'Staten Island'].groupby('year_description').sum()\n",
    "StatenIsland['data_valuemessage'].sort_values().plot.bar()"
   ]
  },
  {
   "cell_type": "code",
   "execution_count": 52,
   "metadata": {},
   "outputs": [
    {
     "data": {
      "text/plain": [
       "<matplotlib.axes._subplots.AxesSubplot at 0x1a1b0f0da0>"
      ]
     },
     "execution_count": 52,
     "metadata": {},
     "output_type": "execute_result"
    },
    {
     "data": {
      "image/png": "[encoded data removed]",
      "text/plain": [
       "<Figure size 432x288 with 1 Axes>"
      ]
     },
     "metadata": {
      "needs_background": "light"
     },
     "output_type": "display_data"
    }
   ],
   "source": [
    "# Extracting data_valuemessage compared with Air Quality Index in Manhattan\n",
    "Manhattan = df[df['geo_entity_name'] == 'Manhattan'].groupby('year_description').sum()\n",
    "Manhattan['data_valuemessage'].sort_values().plot.bar()"
   ]
  },
  {
   "cell_type": "code",
   "execution_count": 53,
   "metadata": {},
   "outputs": [
    {
     "data": {
      "text/plain": [
       "<matplotlib.axes._subplots.AxesSubplot at 0x1a1b0f9198>"
      ]
     },
     "execution_count": 53,
     "metadata": {},
     "output_type": "execute_result"
    },
    {
     "data": {
      "image/png": "[encoded data removed]",
      "text/plain": [
       "<Figure size 432x288 with 1 Axes>"
      ]
     },
     "metadata": {
      "needs_background": "light"
     },
     "output_type": "display_data"
    }
   ],
   "source": [
    "# Extracting data_valuemessage compared with Air Quality Index in New York City as a whole\n",
    "NYC = df[df['geo_entity_name'] == 'New York City'].groupby('year_description').sum()\n",
    "NYC['data_valuemessage'].sort_values().plot.bar()"
   ]
  },
  {
   "cell_type": "markdown",
   "metadata": {},
   "source": [
    "<b>Overall you can see an increase of air pollution as the years go by in each borough, NYC as whole."
   ]
  },
  {
   "cell_type": "markdown",
   "metadata": {},
   "source": [
    "<b>From this information, you can tell that the borough of Manhattan has the highest Air Quality index of 4.7."
   ]
  },
  {
   "cell_type": "markdown",
   "metadata": {},
   "source": [
    "# The following data represents the frequency of the causes and effects that has impacted the NYC population due to air pollution.\n",
    "\n",
    "## data_valuemessage compared with 'name' in all boroughs"
   ]
  },
  {
   "cell_type": "code",
   "execution_count": 54,
   "metadata": {},
   "outputs": [
    {
     "data": {
      "text/plain": [
       "<matplotlib.axes._subplots.AxesSubplot at 0x1a1b3100f0>"
      ]
     },
     "execution_count": 54,
     "metadata": {},
     "output_type": "execute_result"
    },
    {
     "data": {
      "image/png": "[encoded data removed]",
      "text/plain": [
       "<Figure size 432x288 with 1 Axes>"
      ]
     },
     "metadata": {
      "needs_background": "light"
     },
     "output_type": "display_data"
    }
   ],
   "source": [
    "Name_Manhattan = df[df['geo_entity_name'] == 'Manhattan'].groupby('name').sum()\n",
    "Name_Manhattan['data_valuemessage'].sort_values().plot.bar()"
   ]
  },
  {
   "cell_type": "markdown",
   "metadata": {},
   "source": [
    "<b>Attributable Deaths in Manhattan has the highest frequency due to Air Pollution."
   ]
  },
  {
   "cell_type": "code",
   "execution_count": 55,
   "metadata": {},
   "outputs": [
    {
     "data": {
      "text/plain": [
       "<matplotlib.axes._subplots.AxesSubplot at 0x1a1b47a550>"
      ]
     },
     "execution_count": 55,
     "metadata": {},
     "output_type": "execute_result"
    },
    {
     "data": {
      "image/png": "[encoded data removed]",
      "text/plain": [
       "<Figure size 432x288 with 1 Axes>"
      ]
     },
     "metadata": {
      "needs_background": "light"
     },
     "output_type": "display_data"
    }
   ],
   "source": [
    "Name_Bronx = df[df['geo_entity_name'] == 'Bronx'].groupby('name').sum()\n",
    "Name_Bronx['data_valuemessage'].sort_values().plot.bar()"
   ]
  },
  {
   "cell_type": "code",
   "execution_count": 56,
   "metadata": {},
   "outputs": [
    {
     "data": {
      "text/plain": [
       "<matplotlib.axes._subplots.AxesSubplot at 0x1a1950e128>"
      ]
     },
     "execution_count": 56,
     "metadata": {},
     "output_type": "execute_result"
    },
    {
     "data": {
      "image/png": "[encoded data removed]",
      "text/plain": [
       "<Figure size 432x288 with 1 Axes>"
      ]
     },
     "metadata": {
      "needs_background": "light"
     },
     "output_type": "display_data"
    }
   ],
   "source": [
    "Name_Queens = df[df['geo_entity_name'] == 'Queens'].groupby('name').sum()\n",
    "Name_Queens['data_valuemessage'].sort_values().plot.bar()"
   ]
  },
  {
   "cell_type": "code",
   "execution_count": 57,
   "metadata": {},
   "outputs": [
    {
     "data": {
      "text/plain": [
       "<matplotlib.axes._subplots.AxesSubplot at 0x1a19758160>"
      ]
     },
     "execution_count": 57,
     "metadata": {},
     "output_type": "execute_result"
    },
    {
     "data": {
      "image/png": "[encoded data removed]",
      "text/plain": [
       "<Figure size 432x288 with 1 Axes>"
      ]
     },
     "metadata": {
      "needs_background": "light"
     },
     "output_type": "display_data"
    }
   ],
   "source": [
    "Name_Brooklyn = df[df['geo_entity_name'] == 'Brooklyn'].groupby('name').sum()\n",
    "Name_Brooklyn['data_valuemessage'].sort_values().plot.bar()"
   ]
  },
  {
   "cell_type": "code",
   "execution_count": 58,
   "metadata": {},
   "outputs": [
    {
     "data": {
      "text/plain": [
       "<matplotlib.axes._subplots.AxesSubplot at 0x1a1990b3c8>"
      ]
     },
     "execution_count": 58,
     "metadata": {},
     "output_type": "execute_result"
    },
    {
     "data": {
      "image/png": "[encoded data removed]",
      "text/plain": [
       "<Figure size 432x288 with 1 Axes>"
      ]
     },
     "metadata": {
      "needs_background": "light"
     },
     "output_type": "display_data"
    }
   ],
   "source": [
    "Name_StatenIsland = df[df['geo_entity_name'] == 'Staten Island'].groupby('name').sum()\n",
    "Name_StatenIsland['data_valuemessage'].sort_values().plot.bar()"
   ]
  },
  {
   "cell_type": "code",
   "execution_count": 59,
   "metadata": {},
   "outputs": [
    {
     "data": {
      "text/plain": [
       "<matplotlib.axes._subplots.AxesSubplot at 0x1a19ab3b70>"
      ]
     },
     "execution_count": 59,
     "metadata": {},
     "output_type": "execute_result"
    },
    {
     "data": {
      "image/png": "[encoded data removed]",
      "text/plain": [
       "<Figure size 432x288 with 1 Axes>"
      ]
     },
     "metadata": {
      "needs_background": "light"
     },
     "output_type": "display_data"
    }
   ],
   "source": [
    "Name_NYC = df[df['geo_entity_name'] == 'New York City'].groupby('name').sum()\n",
    "Name_NYC['data_valuemessage'].sort_values().plot.bar()"
   ]
  },
  {
   "cell_type": "markdown",
   "metadata": {},
   "source": [
    "<b>Attributable Asthma ED Visits in the Bronx, Queens, Brooklyn and Staten Island have the highest frequency due to Air Pollution."
   ]
  },
  {
   "cell_type": "markdown",
   "metadata": {},
   "source": [
    "# The following data represents the frequency of the age range that has been most or least affected by air pollution.\n",
    "\n",
    "## data_valuemessage compared with measure in all boroughs\n",
    "## Measure = Air Quality measurements"
   ]
  },
  {
   "cell_type": "code",
   "execution_count": 60,
   "metadata": {},
   "outputs": [
    {
     "data": {
      "text/plain": [
       "<matplotlib.axes._subplots.AxesSubplot at 0x1a19c70828>"
      ]
     },
     "execution_count": 60,
     "metadata": {},
     "output_type": "execute_result"
    },
    {
     "data": {
      "image/png": "[encoded data removed]",
      "text/plain": [
       "<Figure size 432x288 with 1 Axes>"
      ]
     },
     "metadata": {
      "needs_background": "light"
     },
     "output_type": "display_data"
    }
   ],
   "source": [
    "rows = ['Average Concentration','Rate- Children 0 to 17 Yrs Old',\\\n",
    "        'Rate - Adults 30 Yrs and Older','Rate- 18 Yrs and Older',\\\n",
    "        'Rate- 40 Years and Older','Rate- Adults 20 Yrs and Older'] \n",
    "Measure_Manhattan = df[df['geo_entity_name'] == 'Manhattan'].groupby('Measure').sum()\n",
    "Measure_Manhattan.loc[rows,'data_valuemessage'].sort_values().plot.bar()\n",
    "# Measure_Manhattan['data_valuemessage'].sort_values().plot.bar()"
   ]
  },
  {
   "cell_type": "code",
   "execution_count": 61,
   "metadata": {},
   "outputs": [
    {
     "data": {
      "text/plain": [
       "<matplotlib.axes._subplots.AxesSubplot at 0x1a19c4e208>"
      ]
     },
     "execution_count": 61,
     "metadata": {},
     "output_type": "execute_result"
    },
    {
     "data": {
      "image/png": "[encoded data removed]",
      "text/plain": [
       "<Figure size 432x288 with 1 Axes>"
      ]
     },
     "metadata": {
      "needs_background": "light"
     },
     "output_type": "display_data"
    }
   ],
   "source": [
    "Measure_Bronx = df[df['geo_entity_name'] == 'Bronx'].groupby('Measure').sum()\n",
    "Measure_Bronx.loc[rows,'data_valuemessage'].sort_values().plot.bar()"
   ]
  },
  {
   "cell_type": "code",
   "execution_count": 62,
   "metadata": {},
   "outputs": [
    {
     "data": {
      "text/plain": [
       "<matplotlib.axes._subplots.AxesSubplot at 0x1a19ab3f60>"
      ]
     },
     "execution_count": 62,
     "metadata": {},
     "output_type": "execute_result"
    },
    {
     "data": {
      "image/png": "[encoded data removed]",
      "text/plain": [
       "<Figure size 432x288 with 1 Axes>"
      ]
     },
     "metadata": {
      "needs_background": "light"
     },
     "output_type": "display_data"
    }
   ],
   "source": [
    "Measure_Queens = df[df['geo_entity_name'] == 'Queens'].groupby('Measure').sum()\n",
    "Measure_Queens.loc[rows,'data_valuemessage'].sort_values().plot.bar()"
   ]
  },
  {
   "cell_type": "code",
   "execution_count": 63,
   "metadata": {},
   "outputs": [
    {
     "data": {
      "text/plain": [
       "<matplotlib.axes._subplots.AxesSubplot at 0x1a19fc2f98>"
      ]
     },
     "execution_count": 63,
     "metadata": {},
     "output_type": "execute_result"
    },
    {
     "data": {
      "image/png": "[encoded data removed]",
      "text/plain": [
       "<Figure size 432x288 with 1 Axes>"
      ]
     },
     "metadata": {
      "needs_background": "light"
     },
     "output_type": "display_data"
    }
   ],
   "source": [
    "Measure_Brooklyn = df[df['geo_entity_name'] == 'Brooklyn'].groupby('Measure').sum()\n",
    "Measure_Brooklyn.loc[rows,'data_valuemessage'].sort_values().plot.bar()"
   ]
  },
  {
   "cell_type": "code",
   "execution_count": 64,
   "metadata": {},
   "outputs": [],
   "source": [
    "# Measure_NYC = df[df['geo_entity_name'] == 'New York City'].groupby('Measure').sum()\n",
    "# Measure_NYC.loc[rows,'data_valuemessage'].sort_values().plot.bar()"
   ]
  },
  {
   "cell_type": "markdown",
   "metadata": {},
   "source": [
    "<b> Overall from this data, it is shown that the age range most affected by air pollution are children from 0 to teenagers who are 17 years old. "
   ]
  },
  {
   "cell_type": "markdown",
   "metadata": {},
   "source": [
    "# Bivariate Analysis\n",
    "\n",
    "For each of the four chosen descriptive feature:\n",
    "- Scatter plots of the descriptive feature against Air Quality Index (AQI) which is labeled as 'data_valuemessage'\n",
    "- Calculation of the correlation coefficient\n",
    "- Describe what you discover: positive correlation, negative correlation, no correlation"
   ]
  },
  {
   "cell_type": "code",
   "execution_count": 65,
   "metadata": {},
   "outputs": [
    {
     "data": {
      "text/plain": [
       "Text(0, 0.5, 'AQI Index')"
      ]
     },
     "execution_count": 65,
     "metadata": {},
     "output_type": "execute_result"
    },
    {
     "data": {
      "image/png": "[encoded data removed]",
      "text/plain": [
       "<Figure size 432x288 with 1 Axes>"
      ]
     },
     "metadata": {
      "needs_background": "light"
     },
     "output_type": "display_data"
    }
   ],
   "source": [
    "# name/types of causes and effects vs data_valuemessage\n",
    "plt.scatter(df['geo_entity_id'], df['data_valuemessage'], alpha=0.5)\n",
    "plt.title(\"Geographic Location ID vs AQI Index\")\n",
    "plt.xlabel('Frequency')\n",
    "plt.ylabel('AQI Index')"
   ]
  },
  {
   "cell_type": "code",
   "execution_count": 66,
   "metadata": {},
   "outputs": [
    {
     "data": {
      "text/plain": [
       "Text(0, 0.5, 'AQI Index')"
      ]
     },
     "execution_count": 66,
     "metadata": {},
     "output_type": "execute_result"
    },
    {
     "data": {
      "image/png": "[encoded data removed]",
      "text/plain": [
       "<Figure size 432x288 with 1 Axes>"
      ]
     },
     "metadata": {
      "needs_background": "light"
     },
     "output_type": "display_data"
    }
   ],
   "source": [
    "# name/types of causes and effects vs data_valuemessage\n",
    "plt.scatter(df['year_description'], df['data_valuemessage'], alpha=0.5)\n",
    "plt.title(\"Year vs AQI Index\")\n",
    "plt.xlabel('Frequency')\n",
    "plt.ylabel('AQI Index')"
   ]
  },
  {
   "cell_type": "code",
   "execution_count": 67,
   "metadata": {},
   "outputs": [
    {
     "data": {
      "text/html": [
       "<div>\n",
       "<style scoped>\n",
       "    .dataframe tbody tr th:only-of-type {\n",
       "        vertical-align: middle;\n",
       "    }\n",
       "\n",
       "    .dataframe tbody tr th {\n",
       "        vertical-align: top;\n",
       "    }\n",
       "\n",
       "    .dataframe thead th {\n",
       "        text-align: right;\n",
       "    }\n",
       "</style>\n",
       "<table border=\"1\" class=\"dataframe\">\n",
       "  <thead>\n",
       "    <tr style=\"text-align: right;\">\n",
       "      <th></th>\n",
       "      <th>indicator_data_id</th>\n",
       "      <th>indicator_id</th>\n",
       "      <th>geo_entity_id</th>\n",
       "      <th>data_valuemessage</th>\n",
       "    </tr>\n",
       "  </thead>\n",
       "  <tbody>\n",
       "    <tr>\n",
       "      <th>count</th>\n",
       "      <td>2436.000000</td>\n",
       "      <td>2436.000000</td>\n",
       "      <td>2436.000000</td>\n",
       "      <td>2436.000000</td>\n",
       "    </tr>\n",
       "    <tr>\n",
       "      <th>mean</th>\n",
       "      <td>136326.209770</td>\n",
       "      <td>652.482759</td>\n",
       "      <td>257.032020</td>\n",
       "      <td>26.538383</td>\n",
       "    </tr>\n",
       "    <tr>\n",
       "      <th>std</th>\n",
       "      <td>8838.810011</td>\n",
       "      <td>7.608929</td>\n",
       "      <td>149.649594</td>\n",
       "      <td>25.334253</td>\n",
       "    </tr>\n",
       "    <tr>\n",
       "      <th>min</th>\n",
       "      <td>130356.000000</td>\n",
       "      <td>639.000000</td>\n",
       "      <td>1.000000</td>\n",
       "      <td>0.000000</td>\n",
       "    </tr>\n",
       "    <tr>\n",
       "      <th>25%</th>\n",
       "      <td>130994.000000</td>\n",
       "      <td>648.000000</td>\n",
       "      <td>107.000000</td>\n",
       "      <td>6.575000</td>\n",
       "    </tr>\n",
       "    <tr>\n",
       "      <th>50%</th>\n",
       "      <td>131435.500000</td>\n",
       "      <td>652.000000</td>\n",
       "      <td>301.000000</td>\n",
       "      <td>18.900000</td>\n",
       "    </tr>\n",
       "    <tr>\n",
       "      <th>75%</th>\n",
       "      <td>134821.250000</td>\n",
       "      <td>659.000000</td>\n",
       "      <td>403.000000</td>\n",
       "      <td>38.225000</td>\n",
       "    </tr>\n",
       "    <tr>\n",
       "      <th>max</th>\n",
       "      <td>154608.000000</td>\n",
       "      <td>667.000000</td>\n",
       "      <td>504.000000</td>\n",
       "      <td>115.300000</td>\n",
       "    </tr>\n",
       "  </tbody>\n",
       "</table>\n",
       "</div>"
      ],
      "text/plain": [
       "       indicator_data_id  indicator_id  geo_entity_id  data_valuemessage\n",
       "count        2436.000000   2436.000000    2436.000000        2436.000000\n",
       "mean       136326.209770    652.482759     257.032020          26.538383\n",
       "std          8838.810011      7.608929     149.649594          25.334253\n",
       "min        130356.000000    639.000000       1.000000           0.000000\n",
       "25%        130994.000000    648.000000     107.000000           6.575000\n",
       "50%        131435.500000    652.000000     301.000000          18.900000\n",
       "75%        134821.250000    659.000000     403.000000          38.225000\n",
       "max        154608.000000    667.000000     504.000000         115.300000"
      ]
     },
     "execution_count": 67,
     "metadata": {},
     "output_type": "execute_result"
    }
   ],
   "source": [
    "# Statistics of numerical features\n",
    "df.describe()"
   ]
  },
  {
   "cell_type": "code",
   "execution_count": 68,
   "metadata": {},
   "outputs": [
    {
     "data": {
      "text/html": [
       "<div>\n",
       "<style scoped>\n",
       "    .dataframe tbody tr th:only-of-type {\n",
       "        vertical-align: middle;\n",
       "    }\n",
       "\n",
       "    .dataframe tbody tr th {\n",
       "        vertical-align: top;\n",
       "    }\n",
       "\n",
       "    .dataframe thead th {\n",
       "        text-align: right;\n",
       "    }\n",
       "</style>\n",
       "<table border=\"1\" class=\"dataframe\">\n",
       "  <thead>\n",
       "    <tr style=\"text-align: right;\">\n",
       "      <th></th>\n",
       "      <th>indicator_data_id</th>\n",
       "      <th>indicator_id</th>\n",
       "      <th>geo_entity_id</th>\n",
       "      <th>data_valuemessage</th>\n",
       "    </tr>\n",
       "  </thead>\n",
       "  <tbody>\n",
       "    <tr>\n",
       "      <th>indicator_data_id</th>\n",
       "      <td>1.000000</td>\n",
       "      <td>0.056875</td>\n",
       "      <td>-0.011977</td>\n",
       "      <td>-0.079708</td>\n",
       "    </tr>\n",
       "    <tr>\n",
       "      <th>indicator_id</th>\n",
       "      <td>0.056875</td>\n",
       "      <td>1.000000</td>\n",
       "      <td>-0.000117</td>\n",
       "      <td>-0.200672</td>\n",
       "    </tr>\n",
       "    <tr>\n",
       "      <th>geo_entity_id</th>\n",
       "      <td>-0.011977</td>\n",
       "      <td>-0.000117</td>\n",
       "      <td>1.000000</td>\n",
       "      <td>-0.081588</td>\n",
       "    </tr>\n",
       "    <tr>\n",
       "      <th>data_valuemessage</th>\n",
       "      <td>-0.079708</td>\n",
       "      <td>-0.200672</td>\n",
       "      <td>-0.081588</td>\n",
       "      <td>1.000000</td>\n",
       "    </tr>\n",
       "  </tbody>\n",
       "</table>\n",
       "</div>"
      ],
      "text/plain": [
       "                   indicator_data_id  indicator_id  geo_entity_id  \\\n",
       "indicator_data_id           1.000000      0.056875      -0.011977   \n",
       "indicator_id                0.056875      1.000000      -0.000117   \n",
       "geo_entity_id              -0.011977     -0.000117       1.000000   \n",
       "data_valuemessage          -0.079708     -0.200672      -0.081588   \n",
       "\n",
       "                   data_valuemessage  \n",
       "indicator_data_id          -0.079708  \n",
       "indicator_id               -0.200672  \n",
       "geo_entity_id              -0.081588  \n",
       "data_valuemessage           1.000000  "
      ]
     },
     "execution_count": 68,
     "metadata": {},
     "output_type": "execute_result"
    }
   ],
   "source": [
    "# For each numeric feature, calculate the correlation coefficient\n",
    "df.corr()"
   ]
  },
  {
   "cell_type": "code",
   "execution_count": 69,
   "metadata": {},
   "outputs": [
    {
     "name": "stdout",
     "output_type": "stream",
     "text": [
      "Correlation coefficient for indicator_data_id vs AQI : [[ 1.         -0.07970832]\n",
      " [-0.07970832  1.        ]]\n",
      "Correlation coefficient for indicator_id vs AQI : [[ 1.         -0.20067223]\n",
      " [-0.20067223  1.        ]]\n",
      "Correlation coefficient for geo location vs AQI : [[ 1.         -0.08158769]\n",
      " [-0.08158769  1.        ]]\n"
     ]
    }
   ],
   "source": [
    "print(\"Correlation coefficient for indicator_data_id vs AQI :\", \n",
    "np.corrcoef(df['indicator_data_id'], df['data_valuemessage']))\n",
    "\n",
    "print(\"Correlation coefficient for indicator_id vs AQI :\", \n",
    "np.corrcoef(df['indicator_id'], df['data_valuemessage']))\n",
    "\n",
    "print(\"Correlation coefficient for geo location vs AQI :\", \n",
    "np.corrcoef(df['geo_entity_id'], df['data_valuemessage']))"
   ]
  },
  {
   "cell_type": "code",
   "execution_count": 71,
   "metadata": {},
   "outputs": [
    {
     "data": {
      "text/plain": [
       "<matplotlib.axes._subplots.AxesSubplot at 0x1a1c1c2c50>"
      ]
     },
     "execution_count": 71,
     "metadata": {},
     "output_type": "execute_result"
    },
    {
     "data": {
      "image/png": "[encoded data removed]",
      "text/plain": [
       "<Figure size 864x720 with 2 Axes>"
      ]
     },
     "metadata": {
      "needs_background": "light"
     },
     "output_type": "display_data"
    }
   ],
   "source": [
    "# Correlation Matrix Heatmap\n",
    "corrmat = df.corr()\n",
    "fig, ax = plt.subplots(figsize=(12,10)) \n",
    "sns.heatmap(df.corr())"
   ]
  },
  {
   "cell_type": "markdown",
   "metadata": {},
   "source": [
    "<b>No strong correlations found in this dataset."
   ]
  },
  {
   "cell_type": "code",
   "execution_count": null,
   "metadata": {},
   "outputs": [],
   "source": []
  }
 ],
 "metadata": {
  "kernelspec": {
   "display_name": "Python 3",
   "language": "python",
   "name": "python3"
  },
  "language_info": {
   "codemirror_mode": {
    "name": "ipython",
    "version": 3
   },
   "file_extension": ".py",
   "mimetype": "text/x-python",
   "name": "python",
   "nbconvert_exporter": "python",
   "pygments_lexer": "ipython3",
   "version": "3.7.3"
  }
 },
 "nbformat": 4,
 "nbformat_minor": 2
}
