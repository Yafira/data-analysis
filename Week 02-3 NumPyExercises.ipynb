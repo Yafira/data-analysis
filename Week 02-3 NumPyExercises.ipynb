{
 "cells": [
  {
   "cell_type": "markdown",
   "metadata": {},
   "source": [
    "# Chapter 4: NumPy Basics: Arrays and Vectorized Computation"
   ]
  },
  {
   "cell_type": "code",
   "execution_count": 160,
   "metadata": {},
   "outputs": [],
   "source": [
    "import numpy as np"
   ]
  },
  {
   "cell_type": "markdown",
   "metadata": {},
   "source": [
    "## Dataset:80 Cereals - Nutrition data on 80cereal products\n",
    "\n",
    "The data file can be downloaded from [Kaggle.com](https://www.kaggle.com/crawford/80-cereals)\n",
    "\n",
    ">If you like to eat cereal, do yourself a favor and avoid this dataset at all costs. After seeing these data it will never be the same for me to eat Fruity Pebbles again. - Kaggle\n",
    "\n",
    "- Download the zip file from Kaggle (login required)\n",
    "- Unzip to get `cereal.csv` file\n",
    "- Move the csv file to a proper folder\n",
    "- Open the csv file using notepad and excel to examine its content"
   ]
  },
  {
   "cell_type": "code",
   "execution_count": 161,
   "metadata": {},
   "outputs": [
    {
     "name": "stdout",
     "output_type": "stream",
     "text": [
      "My current working directory: /Users/elqtrct/Google Drive/Coursework/CompSci/Data Analysis\n",
      "Make sure the csv file exists: ['cereal.csv']\n"
     ]
    }
   ],
   "source": [
    "import os\n",
    "print(\"My current working directory:\", os.getcwd())\n",
    "print(\"Make sure the csv file exists:\", os.listdir('/Users/elqtrct/Google Drive/Coursework/CompSci/Data Analysis/Data'))\n",
    "# my cereal file can be accessed as \"Data Analysis/Data/cereal.csv\""
   ]
  },
  {
   "cell_type": "code",
   "execution_count": 162,
   "metadata": {},
   "outputs": [],
   "source": [
    "# Load the csv file with np.loadtxt()\n",
    "# Spoiler alert: in the next chapter we will learn a more user-friendly\n",
    "# way of loading data.\n",
    "\n",
    "# How to use np.loadtxt()?\n",
    "# ?np.loadtxt() # Display documentation\n",
    "# ??np.loadtxt() # Display source code"
   ]
  },
  {
   "cell_type": "code",
   "execution_count": 163,
   "metadata": {},
   "outputs": [
    {
     "data": {
      "text/plain": [
       "array([[0., 1.],\n",
       "       [2., 3.]])"
      ]
     },
     "execution_count": 163,
     "metadata": {},
     "output_type": "execute_result"
    }
   ],
   "source": [
    "# Try an example from documentation\n",
    "from io import StringIO \n",
    "c = StringIO(u\"0 1\\n2 3\")\n",
    "np.loadtxt(c)"
   ]
  },
  {
   "cell_type": "code",
   "execution_count": 164,
   "metadata": {},
   "outputs": [
    {
     "name": "stdout",
     "output_type": "stream",
     "text": [
      "['name' 'mfr' 'type' 'calories' 'protein' 'fat' 'sodium' 'fiber' 'carbo'\n",
      " 'sugars' 'potass' 'vitamins' 'shelf' 'weight' 'cups' 'rating']\n"
     ]
    }
   ],
   "source": [
    "# Load cereal.csv as a numpy array named raw_data\n",
    "raw_data = np.loadtxt(\"/Users/elqtrct/Google Drive/Coursework/CompSci/Data Analysis/Data/cereal.csv\",\n",
    "                      dtype=str,\n",
    "                      delimiter=\",\")\n",
    "print(raw_data[0, :])"
   ]
  },
  {
   "cell_type": "code",
   "execution_count": 165,
   "metadata": {},
   "outputs": [
    {
     "name": "stdout",
     "output_type": "stream",
     "text": [
      "Shape: (78, 16)\n"
     ]
    }
   ],
   "source": [
    "# What is the shape of raw_data?\n",
    "print(\"Shape:\", raw_data.shape)"
   ]
  },
  {
   "cell_type": "code",
   "execution_count": 166,
   "metadata": {},
   "outputs": [
    {
     "name": "stdout",
     "output_type": "stream",
     "text": [
      "name, mfr, type, calories, protein, fat, sodium, fiber, carbo, sugars, potass, vitamins, shelf, weight, cups, rating\n"
     ]
    }
   ],
   "source": [
    "# Create a list of feature names (call it feature_names)\n",
    "feature_names = raw_data[0, :]\n",
    "# print(\"Feature names:\", raw_data[0, :])\n",
    "\n",
    "# Print a list in a nicer format:\n",
    "# Create a string that joins all values from the array\n",
    "feature_string = \", \".join(feature_names)\n",
    "print(feature_string)"
   ]
  },
  {
   "cell_type": "code",
   "execution_count": 167,
   "metadata": {},
   "outputs": [
    {
     "name": "stdout",
     "output_type": "stream",
     "text": [
      "Shape of data: (77, 16)\n"
     ]
    }
   ],
   "source": [
    "# Assign the rest to data\n",
    "data = raw_data[1:, :]\n",
    "# Print the shape of data\n",
    "print(\"Shape of data:\", data.shape)"
   ]
  },
  {
   "cell_type": "markdown",
   "metadata": {},
   "source": [
    "### Content\n",
    "What are the features?\n",
    "\n",
    "- Name: Name of cereal\n",
    "- mfr: Manufacturer of cereal\n",
    "    - A = American Home Food Products;\n",
    "    - G = General Mills\n",
    "    - K = Kelloggs\n",
    "    - N = Nabisco\n",
    "    - P = Post\n",
    "    - Q = Quaker Oats\n",
    "    - R = Ralston Purina\n",
    "- type:\n",
    "    - cold\n",
    "    - hot\n",
    "- calories: calories per serving\n",
    "- protein: grams of protein\n",
    "- fat: grams of fat\n",
    "- sodium: milligrams of sodium\n",
    "- fiber: grams of dietary fiber\n",
    "- carbo: grams of complex carbohydrates\n",
    "- sugars: grams of sugars\n",
    "- potass: milligrams of potassium\n",
    "- vitamins: vitamins and minerals - 0, 25, or 100, indicating the typical percentage of FDA recommended\n",
    "- shelf: display shelf (1, 2, or 3, counting from the floor)\n",
    "- weight: weight in ounces of one serving\n",
    "- cups: number of cups in one serving\n",
    "- rating: a rating of the cereals (Possibly from Consumer Reports?)"
   ]
  },
  {
   "cell_type": "markdown",
   "metadata": {},
   "source": [
    "Next, let's examine some important features"
   ]
  },
  {
   "cell_type": "code",
   "execution_count": 168,
   "metadata": {},
   "outputs": [
    {
     "name": "stdout",
     "output_type": "stream",
     "text": [
      "100% Bran\n",
      "100% Natural Bran\n",
      "All-Bran\n",
      "All-Bran with Extra Fiber\n",
      "Almond Delight\n",
      "Apple Cinnamon Cheerios\n",
      "Apple Jacks\n",
      "Basic 4\n",
      "Bran Chex\n",
      "Bran Flakes\n",
      "Cap'n'Crunch\n",
      "Cheerios\n",
      "Cinnamon Toast Crunch\n",
      "Clusters\n",
      "Cocoa Puffs\n",
      "Corn Chex\n",
      "Corn Flakes\n",
      "Corn Pops\n",
      "Count Chocula\n",
      "Cracklin' Oat Bran\n",
      "Cream of Wheat (Quick)\n",
      "Crispix\n",
      "Crispy Wheat & Raisins\n",
      "Double Chex\n",
      "Froot Loops\n",
      "Frosted Flakes\n",
      "Frosted Mini-Wheats\n",
      "Fruit & Fibre Dates; Walnuts; and Oats\n",
      "Fruitful Bran\n",
      "Fruity Pebbles\n",
      "Golden Crisp\n",
      "Golden Grahams\n",
      "Grape Nuts Flakes\n",
      "Grape-Nuts\n",
      "Great Grains Pecan\n",
      "Honey Graham Ohs\n",
      "Honey Nut Cheerios\n",
      "Honey-comb\n",
      "Just Right Crunchy  Nuggets\n",
      "Just Right Fruit & Nut\n",
      "Kix\n",
      "Life\n",
      "Lucky Charms\n",
      "Maypo\n",
      "Muesli Raisins; Dates; & Almonds\n",
      "Muesli Raisins; Peaches; & Pecans\n",
      "Mueslix Crispy Blend\n",
      "Multi-Grain Cheerios\n",
      "Nut&Honey Crunch\n",
      "Nutri-Grain Almond-Raisin\n",
      "Nutri-grain Wheat\n",
      "Oatmeal Raisin Crisp\n",
      "Post Nat. Raisin Bran\n",
      "Product 19\n",
      "Puffed Rice\n",
      "Puffed Wheat\n",
      "Quaker Oat Squares\n",
      "Quaker Oatmeal\n",
      "Raisin Bran\n",
      "Raisin Nut Bran\n",
      "Raisin Squares\n",
      "Rice Chex\n",
      "Rice Krispies\n",
      "Shredded Wheat\n",
      "Shredded Wheat 'n'Bran\n",
      "Shredded Wheat spoon size\n",
      "Smacks\n",
      "Special K\n",
      "Strawberry Fruit Wheats\n",
      "Total Corn Flakes\n",
      "Total Raisin Bran\n",
      "Total Whole Grain\n",
      "Triples\n",
      "Trix\n",
      "Wheat Chex\n",
      "Wheaties\n",
      "Wheaties Honey Gold\n"
     ]
    }
   ],
   "source": [
    "# ---------Names------------\n",
    "# Display the list of cereal names\n",
    "print(\"\\n\".join(data[:, 0]))"
   ]
  },
  {
   "cell_type": "code",
   "execution_count": 169,
   "metadata": {},
   "outputs": [
    {
     "name": "stdout",
     "output_type": "stream",
     "text": [
      "[1 3 2 7 5]\n",
      "[1 2 3 5 7]\n"
     ]
    }
   ],
   "source": [
    "# How to sort an numpy array?\n",
    "ary = np.array([1, 3, 2, 7, 5])\n",
    "print(ary)\n",
    "# ary = np.sort(ary)\n",
    "ary.sort()\n",
    "print(ary)"
   ]
  },
  {
   "cell_type": "code",
   "execution_count": 170,
   "metadata": {},
   "outputs": [
    {
     "name": "stdout",
     "output_type": "stream",
     "text": [
      "[[  1   4  23  19]\n",
      " [  5   2   6 -20]]\n",
      "sorting each row:\n",
      "[[  1   4  19  23]\n",
      " [-20   2   5   6]]\n",
      "sorting each column:\n",
      "[[  1   2   6 -20]\n",
      " [  5   4  23  19]]\n"
     ]
    }
   ],
   "source": [
    "matrix = np.array([[1, 4, 23, 19], \n",
    "                   [5, 2, 6, -20]])\n",
    "print(matrix)\n",
    "print(\"sorting each row:\")\n",
    "print(np.sort(matrix, axis=1)) # or: np.sort(matrix)\n",
    "print(\"sorting each column:\")\n",
    "print(np.sort(matrix, axis=0))"
   ]
  },
  {
   "cell_type": "code",
   "execution_count": 171,
   "metadata": {
    "scrolled": true
   },
   "outputs": [
    {
     "name": "stdout",
     "output_type": "stream",
     "text": [
      "Quaker Oat Squares\n",
      "Rice Chex\n",
      "Cream of Wheat (Quick)\n",
      "Post Nat. Raisin Bran\n",
      "Frosted Mini-Wheats\n",
      "Triples\n",
      "Mueslix Crispy Blend\n",
      "Froot Loops\n",
      "Corn Pops\n",
      "Raisin Bran\n",
      "Double Chex\n",
      "Crispy Wheat & Raisins\n",
      "Golden Grahams\n",
      "Oatmeal Raisin Crisp\n",
      "Fruity Pebbles\n",
      "Cinnamon Toast Crunch\n",
      "Basic 4\n",
      "Rice Krispies\n",
      "Trix\n",
      "100% Natural Bran\n",
      "Count Chocula\n",
      "Wheat Chex\n",
      "Nutri-Grain Almond-Raisin\n",
      "Strawberry Fruit Wheats\n",
      "Life\n",
      "Fruitful Bran\n",
      "Wheaties\n",
      "Cheerios\n",
      "Total Raisin Bran\n",
      "Muesli Raisins; Dates; & Almonds\n",
      "Total Whole Grain\n",
      "Product 19\n",
      "Shredded Wheat 'n'Bran\n",
      "Shredded Wheat\n",
      "Wheaties Honey Gold\n",
      "Cocoa Puffs\n",
      "All-Bran with Extra Fiber\n",
      "Quaker Oatmeal\n",
      "All-Bran\n",
      "Muesli Raisins; Peaches; & Pecans\n",
      "Maypo\n",
      "Honey Nut Cheerios\n",
      "Kix\n",
      "Corn Flakes\n",
      "Smacks\n",
      "Just Right Fruit & Nut\n",
      "Just Right Crunchy  Nuggets\n",
      "Crispix\n",
      "Cap'n'Crunch\n",
      "Total Corn Flakes\n",
      "Fruit & Fibre Dates; Walnuts; and Oats\n",
      "Bran Chex\n",
      "Nutri-grain Wheat\n",
      "Puffed Rice\n",
      "Clusters\n",
      "Corn Chex\n",
      "Grape-Nuts\n",
      "Multi-Grain Cheerios\n",
      "Great Grains Pecan\n",
      "Golden Crisp\n",
      "Almond Delight\n",
      "Cracklin' Oat Bran\n",
      "Raisin Squares\n",
      "100% Bran\n",
      "Lucky Charms\n",
      "Raisin Nut Bran\n",
      "Honey Graham Ohs\n",
      "Special K\n",
      "Grape Nuts Flakes\n",
      "Apple Cinnamon Cheerios\n",
      "Bran Flakes\n",
      "Nut&Honey Crunch\n",
      "Puffed Wheat\n",
      "Frosted Flakes\n",
      "Shredded Wheat spoon size\n",
      "Honey-comb\n",
      "Apple Jacks\n"
     ]
    }
   ],
   "source": [
    "# The names are nicely sorted. How to sort an array?\n",
    "\n",
    "# To make an example, let's shuffle the array first\n",
    "name_data = np.array(data[:, 0])\n",
    "example = np.array(name_data)\n",
    "np.random.shuffle(example)\n",
    "print(\"\\n\".join(example))"
   ]
  },
  {
   "cell_type": "code",
   "execution_count": 172,
   "metadata": {},
   "outputs": [
    {
     "name": "stdout",
     "output_type": "stream",
     "text": [
      "['100% Bran' '100% Natural Bran' 'All-Bran' 'All-Bran with Extra Fiber'\n",
      " 'Almond Delight' 'Apple Cinnamon Cheerios' 'Apple Jacks' 'Basic 4'\n",
      " 'Bran Chex' 'Bran Flakes' \"Cap'n'Crunch\" 'Cheerios'\n",
      " 'Cinnamon Toast Crunch' 'Clusters' 'Cocoa Puffs' 'Corn Chex'\n",
      " 'Corn Flakes' 'Corn Pops' 'Count Chocula' \"Cracklin' Oat Bran\"\n",
      " 'Cream of Wheat (Quick)' 'Crispix' 'Crispy Wheat & Raisins' 'Double Chex'\n",
      " 'Froot Loops' 'Frosted Flakes' 'Frosted Mini-Wheats'\n",
      " 'Fruit & Fibre Dates; Walnuts; and Oats' 'Fruitful Bran' 'Fruity Pebbles'\n",
      " 'Golden Crisp' 'Golden Grahams' 'Grape Nuts Flakes' 'Grape-Nuts'\n",
      " 'Great Grains Pecan' 'Honey Graham Ohs' 'Honey Nut Cheerios' 'Honey-comb'\n",
      " 'Just Right Crunchy  Nuggets' 'Just Right Fruit & Nut' 'Kix' 'Life'\n",
      " 'Lucky Charms' 'Maypo' 'Muesli Raisins; Dates; & Almonds'\n",
      " 'Muesli Raisins; Peaches; & Pecans' 'Mueslix Crispy Blend'\n",
      " 'Multi-Grain Cheerios' 'Nut&Honey Crunch' 'Nutri-Grain Almond-Raisin'\n",
      " 'Nutri-grain Wheat' 'Oatmeal Raisin Crisp' 'Post Nat. Raisin Bran'\n",
      " 'Product 19' 'Puffed Rice' 'Puffed Wheat' 'Quaker Oat Squares'\n",
      " 'Quaker Oatmeal' 'Raisin Bran' 'Raisin Nut Bran' 'Raisin Squares'\n",
      " 'Rice Chex' 'Rice Krispies' 'Shredded Wheat' \"Shredded Wheat 'n'Bran\"\n",
      " 'Shredded Wheat spoon size' 'Smacks' 'Special K'\n",
      " 'Strawberry Fruit Wheats' 'Total Corn Flakes' 'Total Raisin Bran'\n",
      " 'Total Whole Grain' 'Triples' 'Trix' 'Wheat Chex' 'Wheaties'\n",
      " 'Wheaties Honey Gold']\n"
     ]
    }
   ],
   "source": [
    "# Now use sort() to sort the array\n",
    "# print(np.sort(example)) # this creates a new sorted list\n",
    "example.sort()\n",
    "print(example)# this will sort the list itself"
   ]
  },
  {
   "cell_type": "code",
   "execution_count": 173,
   "metadata": {},
   "outputs": [
    {
     "data": {
      "text/plain": [
       "array(['name', 'mfr', 'type', 'calories', 'protein', 'fat', 'sodium',\n",
       "       'fiber', 'carbo', 'sugars', 'potass', 'vitamins', 'shelf',\n",
       "       'weight', 'cups', 'rating'], dtype='<U38')"
      ]
     },
     "execution_count": 173,
     "metadata": {},
     "output_type": "execute_result"
    }
   ],
   "source": [
    "feature_names"
   ]
  },
  {
   "cell_type": "code",
   "execution_count": 174,
   "metadata": {},
   "outputs": [
    {
     "name": "stdout",
     "output_type": "stream",
     "text": [
      "[ 6  9 13]\n",
      "[[ 1  2  6]\n",
      " [ 4  5  9]\n",
      " [ 7  8 13]]\n"
     ]
    }
   ],
   "source": [
    "my_data = np.array([[1, 2, 13],\n",
    "                    [4, 5, 6],\n",
    "                    [7, 8, 9]])\n",
    "last_col = np.array(my_data[:, 2]) # this creates a new copy of last column\n",
    "last_col = my_data[:, 2] # this simply refers to the last column of my_data\n",
    "last_col.sort()\n",
    "print(last_col)\n",
    "print(my_data)"
   ]
  },
  {
   "cell_type": "code",
   "execution_count": 175,
   "metadata": {},
   "outputs": [
    {
     "name": "stdout",
     "output_type": "stream",
     "text": [
      "(array([15]),)\n",
      "[68.402973 33.983679 59.425505 93.704912 34.384843 29.509541 33.174094\n",
      " 37.038562 49.120253 53.313813 18.042851 50.764999 19.823573 40.400208\n",
      " 22.736446 41.445019 45.863324 35.782791 22.396513 40.448772 64.533816\n",
      " 46.895644 36.176196 44.330856 32.207582 31.435973 58.345141 40.917047\n",
      " 41.015492 28.025765 35.252444 23.804043 52.076897 53.371007 45.811716\n",
      " 21.871292 31.072217 28.742414 36.523683 36.471512 39.241114 45.328074\n",
      " 26.734515 54.850917 37.136863 34.139765 30.313351 40.105965 29.924285\n",
      " 40.69232  59.642837 30.450843 37.840594 41.50354  60.756112 63.005645\n",
      " 49.511874 50.828392 39.259197 39.7034   55.333142 41.998933 40.560159\n",
      " 68.235885 74.472949 72.801787 31.230054 53.131324 59.363993 38.839746\n",
      " 28.592785 46.658844 39.106174 27.753301 49.787445 51.592193 36.187559]\n"
     ]
    }
   ],
   "source": [
    "# ------------- ratings ------------\n",
    "# What is the index of rating in feature_names?\n",
    "print(np.where(feature_names == \"rating\"))\n",
    "rating_data = data[:,15]\n",
    "#rating_data = np.array(data[:, 15]) # create a new numpy array with ratings\n",
    "# print(rating_data)\n",
    "# print(rating_data.dtype)\n",
    "# change the data type from string to float\n",
    "rating_data = rating_data.astype(float)\n",
    "print(rating_data)\n",
    "# rating_data_int = rating_data.astype(int)\n",
    "# print(rating_data_int)"
   ]
  },
  {
   "cell_type": "code",
   "execution_count": 176,
   "metadata": {},
   "outputs": [
    {
     "name": "stdout",
     "output_type": "stream",
     "text": [
      "maximum rating: 93.704912\n",
      "minimum rating: 18.042851\n",
      "average rating: 42.66570498701299\n",
      "(array([3]),)\n",
      "Product with highest rating: All-Bran with Extra Fiber\n",
      "(array([10]),)\n",
      "Product with lowest rating: Cap'n'Crunch\n"
     ]
    }
   ],
   "source": [
    "# Find the maximum rating\n",
    "print(\"maximum rating:\", np.max(rating_data))\n",
    "print(\"minimum rating:\", np.min(rating_data))\n",
    "print(\"average rating:\", np.mean(rating_data))\n",
    "\n",
    "# Find the index corresponding to the highest rating\n",
    "highest_rating = np.max(rating_data)\n",
    "highest_rating_index = np.where(rating_data == highest_rating)\n",
    "print(highest_rating_index)\n",
    "print(\"Product with highest rating:\", data[3, 0])\n",
    "# Find the index corresponding to the lowest rating\n",
    "lowest_rating = np.min(rating_data)\n",
    "lowest_rating_index = np.where(rating_data == lowest_rating)\n",
    "print(lowest_rating_index)\n",
    "print(\"Product with lowest rating:\", data[10,0])"
   ]
  },
  {
   "cell_type": "code",
   "execution_count": 177,
   "metadata": {},
   "outputs": [
    {
     "name": "stdout",
     "output_type": "stream",
     "text": [
      "[2 0 4 1 3]\n",
      "Indices for the two largest values: [1 3]\n",
      "Two largest values: [ 7 44]\n"
     ]
    }
   ],
   "source": [
    "# sort and argsort()\n",
    "# arr = np.random.rand(5)\n",
    "arr = np.array([1, 7, -3, 44, 3])\n",
    "arr_sorted_indices = arr.argsort()\n",
    "print(arr_sorted_indices)\n",
    "# use indices to find the two largest values:\n",
    "# reverse = arr_sorted_indices[::-1]\n",
    "# print(reverse)\n",
    "# arr[reverse[0:2]]\n",
    "largest_two_indices = arr_sorted_indices[-2:]\n",
    "print(\"Indices for the two largest values:\",\n",
    "      largest_two_indices)\n",
    "largest_two_values = arr[largest_two_indices]\n",
    "print(\"Two largest values:\", largest_two_values)\n",
    "# # find the second largest value in arr\n",
    "# print(\"Second largest:\", arr[arr.argsort()[-2]])\n",
    "# print(arr)"
   ]
  },
  {
   "cell_type": "code",
   "execution_count": 178,
   "metadata": {},
   "outputs": [
    {
     "name": "stdout",
     "output_type": "stream",
     "text": [
      "[3 9 7 4 2 1 5 6 0 8]\n",
      "[0.11428667 0.13451869]\n",
      "[0.83637407 0.65897838 0.49314811 0.11428667 0.35325452 0.68881374\n",
      " 0.78164432 0.23259502 0.97157546 0.13451869]\n"
     ]
    }
   ],
   "source": [
    "arr = np.random.rand(10)\n",
    "arr_argsort = np.argsort(arr)\n",
    "print(arr_argsort)\n",
    "# Find the two smallest values from arr\n",
    "indices_for_smallest_values = arr_argsort[:2]\n",
    "print(arr[indices_for_smallest_values])\n",
    "print(arr)"
   ]
  },
  {
   "cell_type": "code",
   "execution_count": 179,
   "metadata": {},
   "outputs": [
    {
     "name": "stdout",
     "output_type": "stream",
     "text": [
      "[10 12 35 18 14 31 42 73 29 70 37  5 48 46 51 36 66 25 24  6  1 45  4 30\n",
      " 17 22 76 39 38  7 44 52 69 72 40 58 59 47 13 19 62 49 27 28 15 53 61 23\n",
      " 41 34 16 71 21  8 56 74 11 57 75 32 67  9 33 43 60 26 68  2 50 54 55 20\n",
      " 63  0 65 64  3]\n",
      "[68.235885 68.402973 72.801787 74.472949 93.704912]\n",
      "['Shredded Wheat' '100% Bran' 'Shredded Wheat spoon size'\n",
      " \"Shredded Wheat 'n'Bran\" 'All-Bran with Extra Fiber']\n",
      "[10 12 35 18 14 31 42 73 29 70 37  5 48 46 51 36 66 25 24  6  1 45  4 30\n",
      " 17 22 76 39 38  7 44 52 69 72 40 58 59 47 13 19 62 49 27 28 15 53 61 23\n",
      " 41 34 16 71 21  8 56 74 11 57 75 32 67  9 33 43 60 26 68  2 50 54 55 20\n",
      " 63  0 65 64  3]\n",
      "[18.042851 19.823573 21.871292 22.396513 22.736446]\n",
      "[\"Cap'n'Crunch\" 'Cinnamon Toast Crunch' 'Honey Graham Ohs' 'Count Chocula'\n",
      " 'Cocoa Puffs']\n"
     ]
    }
   ],
   "source": [
    "# Sort the ratings using sort() and argsort()\n",
    "sorted_rating_indices = np.argsort(rating_data)\n",
    "print(sorted_rating_indices)\n",
    "\n",
    "# Find the top five ratings\n",
    "indices= sorted_rating_indices[-5:]\n",
    "print(rating_data[indices])\n",
    "# Find the top five highest-rated cereal products\n",
    "print(name_data[indices])\n",
    "\n",
    "# Find the top five lowest-rated cereal products\n",
    "sorted_rating_indices = np.argsort(rating_data)\n",
    "print(sorted_rating_indices)\n",
    "\n",
    "# Find the top five ratings\n",
    "indices= sorted_rating_indices[:5]\n",
    "print(rating_data[indices])\n",
    "# Find the top five highest-rated cereal products\n",
    "print(name_data[indices])\n"
   ]
  },
  {
   "cell_type": "code",
   "execution_count": 180,
   "metadata": {
    "scrolled": true
   },
   "outputs": [
    {
     "name": "stdout",
     "output_type": "stream",
     "text": [
      "(array([9]),)\n",
      "sugars data:\n",
      "[ 6.  8.  5.  0.  8. 10. 14.  8.  6.  5. 12.  1.  9.  7. 13.  3.  2. 12.\n",
      " 13.  7.  0.  3. 10.  5. 13. 11.  7. 10. 12. 12. 15.  9.  5.  3.  4. 11.\n",
      " 10. 11.  6.  9.  3.  6. 12.  3. 11. 11. 13.  6.  9.  7.  2. 10. 14.  3.\n",
      "  0.  0.  6. -1. 12.  8.  6.  2.  3.  0.  0.  0. 15.  3.  5.  3. 14.  3.\n",
      "  3. 12.  3.  3.  8.]\n"
     ]
    },
    {
     "data": {
      "text/plain": [
       "[<matplotlib.lines.Line2D at 0x12204b828>]"
      ]
     },
     "execution_count": 180,
     "metadata": {},
     "output_type": "execute_result"
    },
    {
     "data": {
      "image/png": "[encoded data removed]",
      "text/plain": [
       "<Figure size 432x288 with 1 Axes>"
      ]
     },
     "metadata": {
      "needs_background": "light"
     },
     "output_type": "display_data"
    }
   ],
   "source": [
    "# ------------- sugars -------------\n",
    "# What is the index of sugars in feature_names?\n",
    "print(np.where(feature_names == \"sugars\"))  # Output: 9\n",
    "sugars_data = data[:, 9].astype(float)\n",
    "print(\"sugars data:\")\n",
    "print(sugars_data)\n",
    "\n",
    "# Is there any correlation between sugars and rating?\n",
    "import matplotlib.pyplot as plt\n",
    "%matplotlib inline \n",
    "# A \"magic\" command so that figure is shown in this notebook\n",
    "plt.plot(rating_data,\n",
    "         sugars_data,\n",
    "         marker='o',\n",
    "         linestyle='')"
   ]
  },
  {
   "cell_type": "code",
   "execution_count": 181,
   "metadata": {},
   "outputs": [
    {
     "data": {
      "text/plain": [
       "[<matplotlib.lines.Line2D at 0x1223d2e48>]"
      ]
     },
     "execution_count": 181,
     "metadata": {},
     "output_type": "execute_result"
    },
    {
     "data": {
      "image/png": "[encoded data removed]",
      "text/plain": [
       "<Figure size 432x288 with 1 Axes>"
      ]
     },
     "metadata": {
      "needs_background": "light"
     },
     "output_type": "display_data"
    }
   ],
   "source": [
    "plt.plot(rating_data,\n",
    "         sugars_data,\n",
    "         marker='s', # {. o ^ s +}\n",
    "         c='black', # {b, g, r}\n",
    "         alpha=0.7, # transparency\n",
    "         linestyle='')"
   ]
  },
  {
   "cell_type": "code",
   "execution_count": 182,
   "metadata": {},
   "outputs": [
    {
     "name": "stdout",
     "output_type": "stream",
     "text": [
      "(array([13]),)\n",
      "[1.   1.   1.   1.   1.   1.   1.   1.33 1.   1.   1.   1.   1.   1.\n",
      " 1.   1.   1.   1.   1.   1.   1.   1.   1.   1.   1.   1.   1.   1.25\n",
      " 1.33 1.   1.   1.   1.   1.   1.   1.   1.   1.   1.   1.3  1.   1.\n",
      " 1.   1.   1.   1.   1.5  1.   1.   1.33 1.   1.25 1.33 1.   0.5  0.5\n",
      " 1.   1.   1.33 1.   1.   1.   1.   0.83 1.   1.   1.   1.   1.   1.\n",
      " 1.5  1.   1.   1.   1.   1.   1.  ]\n",
      "{0.5, 1.0, 1.5, 1.3, 1.33, 1.25, 0.83}\n",
      "Number of different weights: 7\n"
     ]
    }
   ],
   "source": [
    "# ------------- Weight -------------\n",
    "# What is the index of weight in feature_names?\n",
    "print(np.where(feature_names == \"weight\")) # output: 13\n",
    "weight_data = np.array(data[:, 13]).astype(float)\n",
    "print(weight_data)\n",
    "\n",
    "# How many different weights per serving are there?\n",
    "weight_set = set(weight_data)\n",
    "print(weight_set)\n",
    "print(\"Number of different weights:\", len(weight_set))"
   ]
  },
  {
   "cell_type": "markdown",
   "metadata": {},
   "source": [
    "## Measure nutrition by serving\n",
    "\n",
    "The following project is inspired by [This Kaggle kernel](https://www.kaggle.com/frankwwu/how-cereal-manufacturers-mislead-consumers)\n",
    "\n",
    "Manufacturers like to measure nutrition with serving. Every manufacturer chaotically defines the serving with different weights and cups. Thus, for consumers, comparing nutrition measured with different serving is very confusing in practice. Imagine you are comparing nutrition facts of different cereals in a grocery store and they are measured with different serving, you definitely need a calculator and a piece of paper."
   ]
  },
  {
   "cell_type": "code",
   "execution_count": 183,
   "metadata": {},
   "outputs": [
    {
     "name": "stdout",
     "output_type": "stream",
     "text": [
      "[ 6.          8.          5.          0.          8.         10.\n",
      " 14.          6.01503759  6.          5.         12.          1.\n",
      "  9.          7.         13.          3.          2.         12.\n",
      " 13.          7.          0.          3.         10.          5.\n",
      " 13.         11.          7.          8.          9.02255639 12.\n",
      " 15.          9.          5.          3.          4.         11.\n",
      " 10.         11.          6.          6.92307692  3.          6.\n",
      " 12.          3.         11.         11.          8.66666667  6.\n",
      "  9.          5.26315789  2.          8.         10.52631579  3.\n",
      "  0.          0.          6.         -1.          9.02255639  8.\n",
      "  6.          2.          3.          0.          0.          0.\n",
      " 15.          3.          5.          3.          9.33333333  3.\n",
      "  3.         12.          3.          3.          8.        ]\n"
     ]
    },
    {
     "data": {
      "text/plain": [
       "[<matplotlib.lines.Line2D at 0x122344c88>]"
      ]
     },
     "execution_count": 183,
     "metadata": {},
     "output_type": "execute_result"
    },
    {
     "data": {
      "image/png": "[encoded data removed]",
      "text/plain": [
       "<Figure size 432x288 with 1 Axes>"
      ]
     },
     "metadata": {
      "needs_background": "light"
     },
     "output_type": "display_data"
    }
   ],
   "source": [
    "# Divide sugars by weight\n",
    "sugars_adjusted = sugars_data / weight_data\n",
    "print(sugars_adjusted)\n",
    "plt.plot(rating_data,\n",
    "         sugars_adjusted,\n",
    "         c='b',\n",
    "         linestyle='',\n",
    "         marker='o')"
   ]
  },
  {
   "cell_type": "markdown",
   "metadata": {},
   "source": [
    "#### Arithmetic with NumPy arrays"
   ]
  },
  {
   "cell_type": "code",
   "execution_count": 184,
   "metadata": {},
   "outputs": [
    {
     "data": {
      "text/plain": [
       "array([[0., 0., 0.],\n",
       "       [0., 0., 0.]])"
      ]
     },
     "execution_count": 184,
     "metadata": {},
     "output_type": "execute_result"
    }
   ],
   "source": [
    "arr = np.array([[1., 2., 3.], [4., 5., 6.]])\n",
    "arr\n",
    "arr * arr\n",
    "arr - arr"
   ]
  },
  {
   "cell_type": "code",
   "execution_count": 185,
   "metadata": {},
   "outputs": [
    {
     "data": {
      "text/plain": [
       "array([[1.        , 1.41421356, 1.73205081],\n",
       "       [2.        , 2.23606798, 2.44948974]])"
      ]
     },
     "execution_count": 185,
     "metadata": {},
     "output_type": "execute_result"
    }
   ],
   "source": [
    "1 / arr\n",
    "arr ** 0.5"
   ]
  },
  {
   "cell_type": "code",
   "execution_count": 186,
   "metadata": {},
   "outputs": [
    {
     "data": {
      "text/plain": [
       "array([[False,  True, False],\n",
       "       [ True, False,  True]])"
      ]
     },
     "execution_count": 186,
     "metadata": {},
     "output_type": "execute_result"
    }
   ],
   "source": [
    "arr2 = np.array([[0., 4., 1.], [7., 2., 12.]])\n",
    "arr2\n",
    "arr2 > arr"
   ]
  },
  {
   "cell_type": "code",
   "execution_count": 187,
   "metadata": {},
   "outputs": [
    {
     "name": "stdout",
     "output_type": "stream",
     "text": [
      "15.0\n",
      "0.0\n"
     ]
    }
   ],
   "source": [
    "# What is the maximum and minimum amount of sugar in a unified serving?\n",
    "print(np.max(sugars_adjusted))\n",
    "print(np.min(sugars_adjusted[sugars_adjusted != -1]))"
   ]
  },
  {
   "cell_type": "markdown",
   "metadata": {},
   "source": [
    "### Create our own ratings\n",
    "\n",
    "- good-cereal-rating = protein + fiber + vitamins\n",
    "- bad-cereal-rating = fat + sodium + potass + sugars"
   ]
  },
  {
   "cell_type": "code",
   "execution_count": 188,
   "metadata": {},
   "outputs": [
    {
     "name": "stdout",
     "output_type": "stream",
     "text": [
      "[ 39.    5.   38.   43.   28.   28.5  28.   30.   31.   33.   26.   33.\n",
      "  26.   30.   26.   27.   28.   27.   26.   32.    4.   28.   29.   28.\n",
      "  28.   27.   31.   33.   33.   26.   27.   26.   31.   31.   31.   27.\n",
      "  29.5  26.  103.  105.   27.   31.   27.   29.   32.   32.   31.   29.\n",
      "  27.   31.   31.   29.5  34.  104.    1.    3.   31.    7.7  33.   30.5\n",
      "  29.   26.   27.    5.    7.    6.   28.   32.   30.  102.  107.  106.\n",
      "  27.   26.   31.   31.   28. ]\n"
     ]
    }
   ],
   "source": [
    "good_rating = data[:, 4].astype(float) + data[:, 7].astype(float) + data[:, 11].astype(float)\n",
    "print(good_rating)"
   ]
  },
  {
   "cell_type": "code",
   "execution_count": 189,
   "metadata": {},
   "outputs": [
    {
     "data": {
      "text/plain": [
       "[<matplotlib.lines.Line2D at 0x1225bf4a8>]"
      ]
     },
     "execution_count": 189,
     "metadata": {},
     "output_type": "execute_result"
    },
    {
     "data": {
      "image/png": "[encoded data removed]",
      "text/plain": [
       "<Figure size 432x288 with 1 Axes>"
      ]
     },
     "metadata": {
      "needs_background": "light"
     },
     "output_type": "display_data"
    }
   ],
   "source": [
    "plt.plot(rating_data, good_rating, 'g-^') # b is color, . is marker"
   ]
  },
  {
   "cell_type": "code",
   "execution_count": 190,
   "metadata": {},
   "outputs": [
    {
     "name": "stdout",
     "output_type": "stream",
     "text": [
      "{'P', 'Q', 'A', 'G', 'N', 'K', 'R'}\n",
      "8\n",
      "['100% Natural Bran' \"Cap'n'Crunch\" 'Honey Graham Ohs' 'Life'\n",
      " 'Puffed Rice' 'Puffed Wheat' 'Quaker Oat Squares' 'Quaker Oatmeal']\n",
      "P 9\n",
      "Q 8\n",
      "A 1\n",
      "G 22\n",
      "N 6\n",
      "K 23\n",
      "R 8\n",
      "['A' 'G' 'K' 'N' 'P' 'Q' 'R']\n",
      "[ 1 22 23  6  9  8  8]\n"
     ]
    }
   ],
   "source": [
    "# mfr: manufacturer\n",
    "# How many different mfr are there?\n",
    "np.where(feature_names == \"mfr\")\n",
    "set_mfr = set(data[:,1])\n",
    "print(set_mfr)\n",
    "len(set_mfr)\n",
    "\n",
    "# How many products are made by mfr \"Q\"?\n",
    "indices = np.where(data[:, 1] == \"Q\")\n",
    "print(len(indices[0]))\n",
    "\n",
    "# What are the products made by \"Q\"?\n",
    "print(name_data[indices])\n",
    "\n",
    "# How many products are there for each mfr?\n",
    "for i in set_mfr:\n",
    "    indices = np.where(data[:, 1] == i)\n",
    "    print(i, len(indices[0])) \n",
    "    \n",
    "# Actually, the frequencies can be obtain from np.unique\n",
    "mfr, mfr_freq = np.unique(data[:, 1], return_counts=True)\n",
    "print(mfr)\n",
    "print(mfr_freq)"
   ]
  },
  {
   "cell_type": "markdown",
   "metadata": {},
   "source": [
    "## More on NumPy Arrays\n",
    "- Create a numpy array\n",
    "- Change data type\n",
    "- Arithmetic\n",
    "- Boolean indexing\n",
    "- Fancy indexing\n",
    "- Reshape numpy arrays\n",
    "- Element-wise array functions\n",
    "- Statistical methods"
   ]
  },
  {
   "cell_type": "code",
   "execution_count": 191,
   "metadata": {},
   "outputs": [
    {
     "name": "stdout",
     "output_type": "stream",
     "text": [
      "array1: [ 6.   7.5  8.  10. ]\n",
      "array\n",
      " [[1 2 3 4]\n",
      " [5 6 7 8]]\n",
      "array3\n",
      "[1. 1. 1. 1. 1. 1. 1. 1. 1. 1.]\n",
      "[[0. 0. 0. 0. 0. 0.]\n",
      " [0. 0. 0. 0. 0. 0.]\n",
      " [0. 0. 0. 0. 0. 0.]]\n",
      "array5\n",
      "[ 0  1  2  3  4  5  6  7  8  9 10 11 12 13 14 15 16 17 18 19 20 21 22 23\n",
      " 24 25 26 27 28 29 30 31 32 33 34 35 36 37 38 39 40 41 42 43 44 45 46 47\n",
      " 48 49 50 51 52 53 54 55 56 57 58 59 60 61 62 63 64 65 66 67 68 69 70 71\n",
      " 72 73 74 75 76 77 78 79 80 81 82 83 84 85 86 87 88 89 90 91 92 93 94 95\n",
      " 96 97 98 99]\n",
      "[1 3 5 7 9]\n"
     ]
    }
   ],
   "source": [
    "# Create a numpy array\n",
    "# 1. Array [6, 7.5, 8, 10.0]\n",
    "array = np.array([6, 7.5, 8, 10.0])\n",
    "print(\"array1:\", array)\n",
    "# 2. Array [[1, 2, 3, 4], [5, 6, 7, 8]]\n",
    "array2 = np.array ([[1,2,3,4],[5,6,7,8]])\n",
    "print(\"array\\n\",array2)\n",
    "# 3. An array filled with 10 ones\n",
    "array3 = np.ones(10)\n",
    "print(\"array3\")\n",
    "print(array3)\n",
    "# 4. A 3-by-6 2D array filled with zeros. np.zeros()\n",
    "array4 = np.zeros(shape=(3,6))\n",
    "print(array4)\n",
    "# 5. Use np.arange() to create [0, ..., 99]\n",
    "# array5 = np.arange(50, 100, 10)\n",
    "array5 = np.arange(100)\n",
    "print(\"array5\")\n",
    "print(array5)\n",
    "\n",
    "# 6. Use np.arange() to create [1, 3, 5, 7, 9]\n",
    "array6 = np.arange(1,10,2)\n",
    "print(array6)"
   ]
  },
  {
   "cell_type": "code",
   "execution_count": 192,
   "metadata": {},
   "outputs": [
    {
     "name": "stdout",
     "output_type": "stream",
     "text": [
      "[[0.32243773 0.85424461 0.13798137]\n",
      " [0.48563721 0.23936463 0.81259171]]\n",
      "[[-0.48486099  0.82289017  0.20259462]\n",
      " [ 1.32638257  0.15743154  0.47625732]]\n",
      "[1.47484506 2.36560526 4.3670141  4.25771909 1.42798625 1.50833834\n",
      " 3.235991   1.19233317]\n",
      "[2 4 2 1 1 5 6 5 6 6]\n",
      "[1 1 5 3 6 1 6 2 6 6]\n",
      "float64\n",
      "[[0 0 0]\n",
      " [0 0 0]]\n"
     ]
    }
   ],
   "source": [
    "# Data type\n",
    "# Use np.random.rand() to create a 2*3 2D array of random numbers\n",
    "array7 = np.random.rand(2, 3) # random numbers are sampled uniformly\n",
    "                                # from [0, 1)\n",
    "array8 = np.random.randn(2, 3) # sampled from Gaussian distribution\n",
    "print(array7)\n",
    "print(array8)\n",
    "\n",
    "# draw 8 numbers randomly from [0, 10)\n",
    "array9 = np.random.rand(8) * 10\n",
    "print(array9)\n",
    "\n",
    "# Simulate a sequence of 10 dice roll (numbers are randomly\n",
    "# drawn from {1, 2, 3, 4, 5, 6})\n",
    "print((np.random.rand(10) * 6).astype(int) + 1)\n",
    "# ?np.random.randint()\n",
    "print(np.random.randint(1, high=7, size=10))\n",
    "\n",
    "# Find the data type of the array\n",
    "print(array7.dtype)\n",
    "\n",
    "# Convert the type to np.int32\n",
    "print(array7.astype(int))"
   ]
  },
  {
   "cell_type": "code",
   "execution_count": 193,
   "metadata": {
    "scrolled": false
   },
   "outputs": [
    {
     "name": "stdout",
     "output_type": "stream",
     "text": [
      "arr * arr:\n",
      " [[ 1.  4.  9.]\n",
      " [16. 25. 36.]]\n",
      "arr - arr:\n",
      " [[0. 0. 0.]\n",
      " [0. 0. 0.]]\n",
      "arr > 3:\n",
      " [[False False False]\n",
      " [ True  True  True]]\n"
     ]
    }
   ],
   "source": [
    "# Array arithmetic\n",
    "arr = np.array([[1., 2., 3.], [4., 5., 6.]])\n",
    "\n",
    "print(\"arr * arr:\\n\", arr * arr)\n",
    "\n",
    "print(\"arr - arr:\\n\", arr - arr)\n",
    "\n",
    "print(\"arr > 3:\\n\", (arr > 3))"
   ]
  },
  {
   "cell_type": "code",
   "execution_count": 194,
   "metadata": {},
   "outputs": [
    {
     "name": "stdout",
     "output_type": "stream",
     "text": [
      "[[ 74  86]\n",
      " [173 203]]\n"
     ]
    }
   ],
   "source": [
    "# Multiply two 2D arrays as matrices\n",
    "mat1 = np.array([[1, 2, 3],\n",
    "                 [4, 5, 6]])\n",
    "mat2 = np.array([[7, 9],\n",
    "                 [11, 13],\n",
    "                 [15, 17]])\n",
    "product = mat1.dot(mat2)\n",
    "print(product)"
   ]
  },
  {
   "cell_type": "code",
   "execution_count": 195,
   "metadata": {},
   "outputs": [],
   "source": [
    "# # Reshape numpy arrays\n",
    "# data = np.arange(12)\n",
    "# print(data)\n",
    "\n",
    "# # Reshape data to a 2*6 matrix\n",
    "# data = data.reshape([2, 6])\n",
    "# print(data)\n",
    "\n",
    "# data = data.reshape([3, 4])\n",
    "# print(data)\n",
    "# # Reshape data so that it has 4 rows\n",
    "# data = data.reshape([4, -1]) # -1 is a placeholder\n",
    "# print(data)\n",
    "\n",
    "# data = data.reshape([-1, 2])\n",
    "# print(data)\n",
    "\n",
    "# data = data.reshape(-1)\n",
    "# print(data)\n",
    "\n",
    "# # data = data.reshape([-1, -1]) # this gives an error\n",
    "# # Swap rows and columns\n",
    "# mat = np.array([[1, 5, 9],\n",
    "#                 [2, 6, 10],\n",
    "#                 [3, 7, 11],\n",
    "#                 [4, 8, 12]])\n",
    "# # transpose the matrix\n",
    "# mat = mat.T\n",
    "# print(mat)\n",
    "# mat = mat.reshape(12)\n",
    "# print(mat)"
   ]
  },
  {
   "cell_type": "code",
   "execution_count": 196,
   "metadata": {
    "scrolled": true
   },
   "outputs": [],
   "source": [
    "# # Boolean indexing\n",
    "# names = np.array(['Bob', 'Joe', 'Will', 'Bob', 'Will', 'Joe', 'Joe'])\n",
    "# print(\"name == 'Bob'\\n\", (names == 'Bob'))\n",
    "# where_bob = (names == 'Bob')\n",
    "# print(names[where_bob])\n",
    "\n",
    "# data = np.arange(28).reshape([7, 4])\n",
    "# print(\"data:\\n\", data)\n",
    "# print(\"data[names == 'Bob']\\n\", data[names == 'Bob'])\n",
    "\n",
    "# mask = ((names == 'Bob') | (names == 'Will'))\n",
    "# print(\"mask:\\n\", mask)\n",
    "# print(\"data[mask]:\\n\", data[mask])\n",
    "# print(\"data[~mask]:\\n\", data[~mask])"
   ]
  },
  {
   "cell_type": "code",
   "execution_count": 197,
   "metadata": {},
   "outputs": [
    {
     "name": "stdout",
     "output_type": "stream",
     "text": [
      "[[ 0  1  2  3  4  5  6  7  8  9]\n",
      " [10 11 12 13 14 15 16 17 18 19]\n",
      " [20 21 22 23 24 25 26 27 28 29]\n",
      " [30 31 32 33 34 35 36 37 38 39]\n",
      " [40 41 42 43 44 45 46 47 48 49]\n",
      " [50 51 52 53 54 55 56 57 58 59]\n",
      " [60 61 62 63 64 65 66 67 68 69]\n",
      " [70 71 72 73 74 75 76 77 78 79]\n",
      " [80 81 82 83 84 85 86 87 88 89]\n",
      " [90 91 92 93 94 95 96 97 98 99]]\n",
      "[[40 41 42 43 44 45 46 47 48 49]\n",
      " [30 31 32 33 34 35 36 37 38 39]\n",
      " [ 0  1  2  3  4  5  6  7  8  9]\n",
      " [60 61 62 63 64 65 66 67 68 69]]\n",
      "[[ 7  5  3]\n",
      " [17 15 13]\n",
      " [27 25 23]\n",
      " [37 35 33]\n",
      " [47 45 43]\n",
      " [57 55 53]\n",
      " [67 65 63]\n",
      " [77 75 73]\n",
      " [87 85 83]\n",
      " [97 95 93]]\n",
      "[ 0 11 22 33 44]\n",
      "[[ 0  1  2  3  4]\n",
      " [10 11 12 13 14]\n",
      " [20 21 22 23 24]\n",
      " [30 31 32 33 34]\n",
      " [40 41 42 43 44]]\n"
     ]
    }
   ],
   "source": [
    "# Fancy indexing\n",
    "arr = np.arange(100).reshape([10, 10])\n",
    "print(arr)\n",
    "# Extract the following rows (keep the order): [4, 3, 0, 6]\n",
    "rows = [4, 3, 0, 6]\n",
    "sub_arr = arr[rows]\n",
    "print(sub_arr)\n",
    "# Extract the following columns (keep the order): [-3, -5, -7]\n",
    "cols = [-3, -5, -7]\n",
    "sub_arr = arr[:, cols]\n",
    "print(sub_arr)\n",
    "# Extract the intersection of the first 5 rows and first 5 columns\n",
    "sub_arr = arr[[0,1,2,3,4],[0,1,2,3,4]]\n",
    "print(sub_arr)\n",
    "sub_arr = arr[:5][:, :5]\n",
    "print(sub_arr)"
   ]
  },
  {
   "cell_type": "code",
   "execution_count": 198,
   "metadata": {
    "scrolled": true
   },
   "outputs": [
    {
     "name": "stdout",
     "output_type": "stream",
     "text": [
      "[0.51498291 0.2505176  0.77117116 0.11548389 0.14142626 0.2498684\n",
      " 0.33099632 0.41395654 0.34716105 0.21316808 0.53646925 0.84922248\n",
      " 0.96820858 0.25246331 0.4506067  0.73401647 0.95237157 0.66576826\n",
      " 0.65567248 0.75602874 0.89914461 0.71483541 0.72254433 0.42344463\n",
      " 0.70978371 0.55424349 0.50570136 0.50102186 0.66438053 0.95667733\n",
      " 0.6910773  0.13574126 0.5327026  0.25681512 0.83720961 0.80849714\n",
      " 0.2623133  0.31857139 0.19955342 0.4907486  0.51494306 0.75947435\n",
      " 0.91266679 0.36622104 0.52875654 0.36759614 0.26910903 0.11451188\n",
      " 0.40897143 0.52161062 0.51188533 0.0096267  0.78699717 0.94540766\n",
      " 0.70135908 0.01851693 0.85460144 0.55021468 0.05197247 0.42766208\n",
      " 0.99266791 0.25324621 0.28599259 0.78254784 0.37781655 0.4103199\n",
      " 0.87056926 0.7578454  0.65534564 0.44231424 0.92787548 0.6828075\n",
      " 0.28340173 0.21725175 0.59905057 0.55205773 0.08895123 0.84365472\n",
      " 0.35293662 0.1905415  0.6891389  0.33958096 0.00532651 0.85982614\n",
      " 0.13062565 0.60092227 0.25972923 0.31067563 0.49654932 0.44935992\n",
      " 0.81265307 0.10485524 0.42030108 0.58086841 0.32085474 0.06877555\n",
      " 0.0740226  0.33093948 0.75795033 0.17803333]\n",
      "Mean: 0.4933485419587377\n",
      "49.33485419587377\n",
      "Standard deviation: 0.2675178447869552\n"
     ]
    }
   ],
   "source": [
    "# Create a list of 100 random number uniformly drawn between 0 and 1.\n",
    "arr = np.random.rand(100)\n",
    "print(arr)\n",
    "\n",
    "# Compute the mean\n",
    "mean = np.mean(arr)\n",
    "print('Mean:', mean)\n",
    "\n",
    "# Compute the sum\n",
    "sum = np.sum(arr)\n",
    "print(sum)\n",
    "\n",
    "# Compute the standard deviation\n",
    "std = np.std(arr)\n",
    "print(\"Standard deviation:\", std)"
   ]
  },
  {
   "cell_type": "markdown",
   "metadata": {},
   "source": [
    "# Homework 2\n",
    "1. Fat\n",
    "    - Calculate fat per ounce \n",
    "    - What is the maximum and minimum value for fat per ounce?\n",
    "2. Calories\n",
    "    - Calculate calories per ounce\n",
    "    - find the top 5 cereals with highest calories\n",
    "    - find the top 5 cereals with lowest calories\n",
    "3. Bad rating\n",
    "    - Calculate bad-cereal-rating for each cereal\n",
    "    - Plot Ratings vs. Bad-Cereal-Ratings.\n",
    "    - Do they agree each other?"
   ]
  },
  {
   "cell_type": "code",
   "execution_count": 199,
   "metadata": {
    "scrolled": true
   },
   "outputs": [
    {
     "name": "stdout",
     "output_type": "stream",
     "text": [
      "(array([5]),)\n",
      "Fat data: [1. 5. 1. 0. 2. 2. 0. 2. 1. 0. 2. 2. 3. 2. 1. 0. 0. 0. 1. 3. 0. 0. 1. 0.\n",
      " 1. 0. 0. 2. 0. 1. 0. 1. 1. 0. 3. 2. 1. 0. 1. 1. 1. 2. 1. 1. 3. 3. 2. 1.\n",
      " 1. 2. 0. 2. 1. 0. 0. 0. 1. 2. 1. 2. 0. 0. 0. 0. 0. 0. 1. 0. 0. 1. 1. 1.\n",
      " 1. 1. 1. 1. 1.]\n",
      "(array([13]),)\n",
      "Weight data: [1.   1.   1.   1.   1.   1.   1.   1.33 1.   1.   1.   1.   1.   1.\n",
      " 1.   1.   1.   1.   1.   1.   1.   1.   1.   1.   1.   1.   1.   1.25\n",
      " 1.33 1.   1.   1.   1.   1.   1.   1.   1.   1.   1.   1.3  1.   1.\n",
      " 1.   1.   1.   1.   1.5  1.   1.   1.33 1.   1.25 1.33 1.   0.5  0.5\n",
      " 1.   1.   1.33 1.   1.   1.   1.   0.83 1.   1.   1.   1.   1.   1.\n",
      " 1.5  1.   1.   1.   1.   1.   1.  ]\n",
      "Fat adjusted: [1.         5.         1.         0.         2.         2.\n",
      " 0.         1.5037594  1.         0.         2.         2.\n",
      " 3.         2.         1.         0.         0.         0.\n",
      " 1.         3.         0.         0.         1.         0.\n",
      " 1.         0.         0.         1.6        0.         1.\n",
      " 0.         1.         1.         0.         3.         2.\n",
      " 1.         0.         1.         0.76923077 1.         2.\n",
      " 1.         1.         3.         3.         1.33333333 1.\n",
      " 1.         1.5037594  0.         1.6        0.7518797  0.\n",
      " 0.         0.         1.         2.         0.7518797  2.\n",
      " 0.         0.         0.         0.         0.         0.\n",
      " 1.         0.         0.         1.         0.66666667 1.\n",
      " 1.         1.         1.         1.         1.        ]\n",
      "Maximum value for fat per ounce: 5.0\n",
      "Minimum value for fat per ounce: 0.0\n"
     ]
    }
   ],
   "source": [
    "# 1. Fat:\n",
    "# Calculate fat per ounce\n",
    "print(np.where(feature_names == \"fat\")) # output: 5\n",
    "fat_data = data[:, 5].astype(float)\n",
    "print(\"Fat data:\", fat_data)\n",
    "\n",
    "print(np.where(feature_names == \"weight\")) # output: 13\n",
    "weight_data = np.array(data[:, 13]).astype(float)\n",
    "print(\"Weight data:\", weight_data)\n",
    "\n",
    "fat_adjusted = fat_data / weight_data\n",
    "print(\"Fat adjusted:\", fat_adjusted)\n",
    "\n",
    "# Maximum value for fat per ounce:\n",
    "print(\"Maximum value for fat per ounce:\", np.max(fat_data)) # output: 5.0\n",
    "# Minimum value for fat per ounce:\n",
    "print(\"Minimum value for fat per ounce:\", np.min(fat_data)) # output: 0.0"
   ]
  },
  {
   "cell_type": "code",
   "execution_count": 200,
   "metadata": {},
   "outputs": [
    {
     "name": "stdout",
     "output_type": "stream",
     "text": [
      "(array([3]),)\n",
      "Calories data: [ 70. 120.  70.  50. 110. 110. 110. 130.  90.  90. 120. 110. 120. 110.\n",
      " 110. 110. 100. 110. 110. 110. 100. 110. 100. 100. 110. 110. 100. 120.\n",
      " 120. 110. 100. 110. 100. 110. 120. 120. 110. 110. 110. 140. 110. 100.\n",
      " 110. 100. 150. 150. 160. 100. 120. 140.  90. 130. 120. 100.  50.  50.\n",
      " 100. 100. 120. 100.  90. 110. 110.  80.  90.  90. 110. 110.  90. 110.\n",
      " 140. 100. 110. 110. 100. 100. 110.]\n",
      "(array([13]),)\n",
      "Weight data: [1.   1.   1.   1.   1.   1.   1.   1.33 1.   1.   1.   1.   1.   1.\n",
      " 1.   1.   1.   1.   1.   1.   1.   1.   1.   1.   1.   1.   1.   1.25\n",
      " 1.33 1.   1.   1.   1.   1.   1.   1.   1.   1.   1.   1.3  1.   1.\n",
      " 1.   1.   1.   1.   1.5  1.   1.   1.33 1.   1.25 1.33 1.   0.5  0.5\n",
      " 1.   1.   1.33 1.   1.   1.   1.   0.83 1.   1.   1.   1.   1.   1.\n",
      " 1.5  1.   1.   1.   1.   1.   1.  ]\n",
      "Calories adjusted: [ 70.         120.          70.          50.         110.\n",
      " 110.         110.          97.7443609   90.          90.\n",
      " 120.         110.         120.         110.         110.\n",
      " 110.         100.         110.         110.         110.\n",
      " 100.         110.         100.         100.         110.\n",
      " 110.         100.          96.          90.22556391 110.\n",
      " 100.         110.         100.         110.         120.\n",
      " 120.         110.         110.         110.         107.69230769\n",
      " 110.         100.         110.         100.         150.\n",
      " 150.         106.66666667 100.         120.         105.26315789\n",
      "  90.         104.          90.22556391 100.         100.\n",
      " 100.         100.         100.          90.22556391 100.\n",
      "  90.         110.         110.          96.38554217  90.\n",
      "  90.         110.         110.          90.         110.\n",
      "  93.33333333 100.         110.         110.         100.\n",
      " 100.         110.        ]\n",
      "Maximum value for calories per ounce: 160.0\n",
      "Minimum value for calories per ounce: 50.0\n",
      "[ 3 54 55  0  2 63 50 64 65 68 60  8  9 57 41 43 47 32 74 30 53 26 56 75\n",
      " 22 59 20 16 71 23 72 73 40 61 62 69 42 66 67 38 37  4  5  6 11 13 14 15\n",
      " 17 18 19 21 24 25 76 29 36 31 33 27  1 35 34 10 12 58 48 52 28  7 51 70\n",
      " 49 39 44 45 46]\n",
      "(array([46]),)\n",
      "Cereal with the highest amount of calories: Mueslix Crispy Blend\n",
      "(array([ 3, 54, 55]),)\n",
      "Cereals with the lowest amount of calories: All-Bran with Extra Fiber , Puffed Rice , Puffed Wheat\n",
      "Top 5 cereals with the highest calories:\n",
      "[140. 140. 150. 150. 160.]\n",
      "['Nutri-Grain Almond-Raisin' 'Just Right Fruit & Nut'\n",
      " 'Muesli Raisins; Dates; & Almonds' 'Muesli Raisins; Peaches; & Pecans'\n",
      " 'Mueslix Crispy Blend']\n",
      "Top 5 cereals with the lowest calories:\n",
      "[50. 50. 50. 70. 70.]\n",
      "['All-Bran with Extra Fiber' 'Puffed Rice' 'Puffed Wheat' '100% Bran'\n",
      " 'All-Bran']\n"
     ]
    }
   ],
   "source": [
    "# 2. Calories:\n",
    "# Calculate calories per ounce:\n",
    "print(np.where(feature_names == \"calories\")) # output: 3\n",
    "calories_data = np.array(data[:, 3]).astype(float)\n",
    "print(\"Calories data:\", calories_data)\n",
    "\n",
    "print(np.where(feature_names == \"weight\")) # output: 13\n",
    "weight_data = np.array(data[:, 13]).astype(float)\n",
    "print(\"Weight data:\", weight_data)\n",
    "calories_adjusted = calories_data / weight_data\n",
    "print(\"Calories adjusted:\", calories_adjusted)\n",
    "\n",
    "# Maximum value for calories per ounce:\n",
    "print(\"Maximum value for calories per ounce:\", np.max(calories_data))\n",
    "\n",
    "# Minimum value for calories per ounce:\n",
    "print(\"Minimum value for calories per ounce:\", np.min(calories_data))\n",
    "\n",
    "# Sort the ratings using sort() and argsort()   \n",
    "sorted_calories_indices = np.argsort(calories_data)\n",
    "print(sorted_calories_indices)\n",
    "\n",
    "# Find the index corresponding to the highest calories:\n",
    "highest_calories = np.max(calories_data)\n",
    "highest_calories_index = np.where(calories_data == highest_calories)\n",
    "print(highest_calories_index)\n",
    "print(\"Cereal with the highest amount of calories:\", data[46, 0])\n",
    "\n",
    "# Find the index corresponding to the lowest calories:\n",
    "lowest_calories = np.min(calories_data)\n",
    "lowest_calories_index = np.where(calories_data == lowest_calories)\n",
    "print(lowest_calories_index)\n",
    "print(\"Cereals with the lowest amount of calories:\", data[3, 0],\",\", data[54, 0],\",\", data[55, 0])\n",
    "\n",
    "# Find the top 5 cereals with the highest calories:\n",
    "indices = sorted_calories_indices[-5:]\n",
    "print(\"Top 5 cereals with the highest calories:\")\n",
    "print(calories_data[indices])\n",
    "print(name_data[indices])\n",
    "\n",
    "# Find the top 5 cereals with the lowest calories:\n",
    "print(\"Top 5 cereals with the lowest calories:\")\n",
    "indices = sorted_calories_indices[:5]\n",
    "print(calories_data[indices])\n",
    "print(name_data[indices])"
   ]
  },
  {
   "cell_type": "code",
   "execution_count": 201,
   "metadata": {},
   "outputs": [
    {
     "name": "stdout",
     "output_type": "stream",
     "text": [
      "[ 9.  16.  11.  11.  19.  13.5 13.  23.  17.  16.  16.  20.  18.  18.\n",
      " 15.  23.  22.  15.  15.  16.  23.  24.  15.  21.  14.  15.  16.  17.\n",
      " 17.  16.  12.  18.  19.  20.  19.  16.  13.5 15.  21.  24.  24.  16.\n",
      " 15.  19.  22.  22.  22.  17.  18.  26.  21.  18.5 15.  23.  16.  13.\n",
      " 18.   2.  17.  15.5 18.  24.  23.  17.  20.  21.  12.  17.  17.  25.\n",
      " 19.  20.  25.  16.  19.  19.  18. ]\n"
     ]
    }
   ],
   "source": [
    "# 3. Bad Rating:\n",
    "# Calculate bad-cereal-rating for each cereal\n",
    "bad_rating = data[:, 5].astype(float) + data[:, 8].astype(float) + data[:, 12].astype(float)\n",
    "print(bad_rating)"
   ]
  },
  {
   "cell_type": "code",
   "execution_count": 202,
   "metadata": {},
   "outputs": [
    {
     "data": {
      "text/plain": [
       "[<matplotlib.lines.Line2D at 0x1226f1cf8>]"
      ]
     },
     "execution_count": 202,
     "metadata": {},
     "output_type": "execute_result"
    },
    {
     "data": {
      "image/png": "[encoded data removed]",
      "text/plain": [
       "<Figure size 432x288 with 1 Axes>"
      ]
     },
     "metadata": {
      "needs_background": "light"
     },
     "output_type": "display_data"
    }
   ],
   "source": [
    "plt.plot(rating_data,\n",
    "         bad_rating,\n",
    "         c='magenta',\n",
    "         linestyle='',\n",
    "         marker='o')"
   ]
  }
 ],
 "metadata": {
  "kernelspec": {
   "display_name": "Python 3",
   "language": "python",
   "name": "python3"
  },
  "language_info": {
   "codemirror_mode": {
    "name": "ipython",
    "version": 3
   },
   "file_extension": ".py",
   "mimetype": "text/x-python",
   "name": "python",
   "nbconvert_exporter": "python",
   "pygments_lexer": "ipython3",
   "version": "3.7.3"
  }
 },
 "nbformat": 4,
 "nbformat_minor": 2
}
