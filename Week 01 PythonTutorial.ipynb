{
 "cells": [
  {
   "cell_type": "markdown",
   "metadata": {},
   "source": [
    "# Week 1: Python Tutorial\n",
    "\n",
    "Python is today's most popular programming language. It is easy to learn, and has several very powerful scientific computing libraries, making it a powerful environment for scientific computing.\n",
    "\n",
    "This tutorial will cover basic features of python and two of its libraries: numpy and matplotlib. "
   ]
  },
  {
   "cell_type": "markdown",
   "metadata": {},
   "source": [
    "## Basic Python\n",
    "\n",
    "There are two types of Python, 2.x and 3.x. There are subtal differences between them, most notably the print statements. For this class we will use Python 3.x version. You can check your Python version at the command line by running \"python --version\"."
   ]
  },
  {
   "cell_type": "code",
   "execution_count": 2,
   "metadata": {},
   "outputs": [
    {
     "data": {
      "text/plain": [
       "sys.version_info(major=3, minor=6, micro=3, releaselevel='final', serial=0)"
      ]
     },
     "execution_count": 2,
     "metadata": {},
     "output_type": "execute_result"
    }
   ],
   "source": [
    "# Check version using sys.version_info\n",
    "import sys\n",
    "sys.version_info"
   ]
  },
  {
   "cell_type": "markdown",
   "metadata": {},
   "source": [
    "### Basic data types\n",
    "\n",
    "#### Numbers\n",
    "\n",
    "Python is a dynamically typed language, and therefore the type of the variable is determined implicitly."
   ]
  },
  {
   "cell_type": "code",
   "execution_count": 4,
   "metadata": {},
   "outputs": [
    {
     "name": "stdout",
     "output_type": "stream",
     "text": [
      "7\n",
      "<class 'int'>\n"
     ]
    }
   ],
   "source": [
    "a = 7\n",
    "# print the value of a\n",
    "print(a)\n",
    "# print the type of a\n",
    "print(type(a))"
   ]
  },
  {
   "cell_type": "code",
   "execution_count": 5,
   "metadata": {},
   "outputs": [
    {
     "name": "stdout",
     "output_type": "stream",
     "text": [
      "8\n",
      "-13\n",
      "14\n",
      "1.4\n"
     ]
    }
   ],
   "source": [
    "# addition a+1\n",
    "print(a + 1)\n",
    "# Subtraction a-20\n",
    "print(a - 20)\n",
    "# Multiplication a*2\n",
    "print(a*2)\n",
    "# Division a/5\n",
    "print(a/5)"
   ]
  },
  {
   "cell_type": "code",
   "execution_count": 8,
   "metadata": {},
   "outputs": [
    {
     "name": "stdout",
     "output_type": "stream",
     "text": [
      "1\n",
      "2\n",
      "49\n"
     ]
    }
   ],
   "source": [
    "# Floor division a//5\n",
    "print((a//5))\n",
    "# Modulus - remainder of the division a/5\n",
    "print (a%5)\n",
    "# Exponentiation a**2\n",
    "print (a**2) "
   ]
  },
  {
   "cell_type": "code",
   "execution_count": 11,
   "metadata": {},
   "outputs": [
    {
     "name": "stdout",
     "output_type": "stream",
     "text": [
      "1000000000.0 1e-09\n"
     ]
    }
   ],
   "source": [
    "# scientific notation:\n",
    "a = 1e9 # assign 1,000,000,000 to a\n",
    "b = 1e-9 # assign 0.000 000 001 to b\n",
    "\n",
    "# print a and b\n",
    "print(a, b)"
   ]
  },
  {
   "cell_type": "code",
   "execution_count": 12,
   "metadata": {},
   "outputs": [
    {
     "name": "stdout",
     "output_type": "stream",
     "text": [
      "a =  2\n",
      "b =  1\n"
     ]
    }
   ],
   "source": [
    "# multiple assignments: assign a=1, b=2, c=3 in one statment\n",
    "a, b, c = 1, 2, 3\n",
    "\n",
    "# swap variables a and b\n",
    "a, b = b, a\n",
    "print(\"a = \", a)\n",
    "print(\"b = \", b)"
   ]
  },
  {
   "cell_type": "code",
   "execution_count": 14,
   "metadata": {},
   "outputs": [
    {
     "name": "stdout",
     "output_type": "stream",
     "text": [
      "3\n",
      "3.14\n",
      "3.14\n"
     ]
    }
   ],
   "source": [
    "# Change variable type\n",
    "num = 3.14\n",
    "\n",
    "# Change num to int\n",
    "print(int(num)) # int(num) converts num to an integer\n",
    "# Change num to str\n",
    "print(str(num))\n",
    "# Change num to float\n",
    "print(float(num))"
   ]
  },
  {
   "cell_type": "code",
   "execution_count": 16,
   "metadata": {},
   "outputs": [
    {
     "name": "stdout",
     "output_type": "stream",
     "text": [
      "a random integer between 1 and 10: 7\n",
      "a random element from list ['a', 'b', 'c']: c\n",
      "a random shuffle of list ['a', 'b', 'c']: ['c', 'a', 'b']\n"
     ]
    }
   ],
   "source": [
    "# Randomization\n",
    "import random\n",
    "print('a random integer between 1 and 10:', random.randint(1, 10))\n",
    "\n",
    "char_list = ['a', 'b', 'c']\n",
    "print(\"a random element from list ['a', 'b', 'c']:\", random.choice(char_list))\n",
    "random.shuffle(char_list)\n",
    "print(\"a random shuffle of list ['a', 'b', 'c']:\", char_list)"
   ]
  },
  {
   "cell_type": "markdown",
   "metadata": {},
   "source": [
    "#### Assignment operators"
   ]
  },
  {
   "cell_type": "code",
   "execution_count": 18,
   "metadata": {},
   "outputs": [
    {
     "name": "stdout",
     "output_type": "stream",
     "text": [
      "4.0\n",
      "5.0\n",
      "4.0\n",
      "8.0\n",
      "4.0\n",
      "16.0\n"
     ]
    }
   ],
   "source": [
    "print(a)\n",
    "# add 1 to a\n",
    "a += 1 # a = a + 1\n",
    "print(a)\n",
    "# subtract 1 from 1\n",
    "a -= 1 # a = a - 1\n",
    "print(a)\n",
    "# multiply a by 2\n",
    "a *= 2 # a = a * 2\n",
    "print(a)\n",
    "# divide a by 2\n",
    "a /= 2 # a = a / 2\n",
    "print(a)\n",
    "# square of a\n",
    "a **= 2 # a = a ** 2\n",
    "print(a)"
   ]
  },
  {
   "cell_type": "markdown",
   "metadata": {},
   "source": [
    "Note that unlike many languages, Python does not have unary increment (a++) or decrement (a--) operators."
   ]
  },
  {
   "cell_type": "code",
   "execution_count": 20,
   "metadata": {},
   "outputs": [
    {
     "ename": "SyntaxError",
     "evalue": "invalid syntax (<ipython-input-20-52df35a45b62>, line 2)",
     "output_type": "error",
     "traceback": [
      "\u001b[1;36m  File \u001b[1;32m\"<ipython-input-20-52df35a45b62>\"\u001b[1;36m, line \u001b[1;32m2\u001b[0m\n\u001b[1;33m    a--\u001b[0m\n\u001b[1;37m       ^\u001b[0m\n\u001b[1;31mSyntaxError\u001b[0m\u001b[1;31m:\u001b[0m invalid syntax\n"
     ]
    }
   ],
   "source": [
    "# This cell will give a error\n",
    "a++"
   ]
  },
  {
   "cell_type": "markdown",
   "metadata": {},
   "source": [
    "#### Logical operators\n",
    "\n",
    "Logical operators are and, or, not\n",
    "\n"
   ]
  },
  {
   "cell_type": "code",
   "execution_count": 21,
   "metadata": {},
   "outputs": [
    {
     "name": "stdout",
     "output_type": "stream",
     "text": [
      "t and f: False\n",
      "t or f: True\n",
      "not t: False\n",
      "not f: True\n"
     ]
    }
   ],
   "source": [
    "t, f = True, False\n",
    "# and: True if both the operands are true\n",
    "print(\"t and f:\", t and f)\n",
    "# or: True if either of the operands is true\n",
    "print(\"t or f:\", t or f)\n",
    "# not True if the operand is false\n",
    "print(\"not t:\", not t)\n",
    "print(\"not f:\", not f)"
   ]
  },
  {
   "cell_type": "code",
   "execution_count": 22,
   "metadata": {},
   "outputs": [
    {
     "name": "stdout",
     "output_type": "stream",
     "text": [
      "sqrt(2): 1.4142135623730951\n",
      "pi: 3.141592653589793\n",
      "sin(pi / 2): 1.0\n",
      "log(2): 0.6931471805599453\n"
     ]
    }
   ],
   "source": [
    "# Math functions\n",
    "from math import sqrt, pi, sin, log\n",
    "print('sqrt(2):', sqrt(2))\n",
    "print('pi:', pi)\n",
    "print('sin(pi / 2):', sin(pi / 2))\n",
    "print('log(2):', log(2))"
   ]
  },
  {
   "cell_type": "markdown",
   "metadata": {},
   "source": [
    "#### Comparison operators\n",
    "\n",
    "Comparison operators are used to compare values. It either returns True or False according to the condition.\n",
    "\n",
    "\\> : greater than\n",
    "\n",
    "< : less than\n",
    "\n",
    "==: equal to\n",
    "\n",
    "!=: not equal to\n",
    "\n",
    "\\>=: greater than or equal to\n",
    "\n",
    "<=: less than or equal to"
   ]
  },
  {
   "cell_type": "markdown",
   "metadata": {},
   "source": [
    "#### Strings"
   ]
  },
  {
   "cell_type": "code",
   "execution_count": 25,
   "metadata": {},
   "outputs": [
    {
     "name": "stdout",
     "output_type": "stream",
     "text": [
      "Hello world\n"
     ]
    }
   ],
   "source": [
    "# String literals can use either single quotes or double quotes.\n",
    "str1 = 'Hello'\n",
    "str2 = \"world\"\n",
    "print(str1, str2)"
   ]
  },
  {
   "cell_type": "code",
   "execution_count": 30,
   "metadata": {},
   "outputs": [
    {
     "name": "stdout",
     "output_type": "stream",
     "text": [
      "length of str1: 5\n",
      "str1 + str2: Helloworld\n",
      "a =         16 \t sqrt(a) =         4.0000000000\n"
     ]
    }
   ],
   "source": [
    "# length of a string: len()\n",
    "print('length of str1:', len(str1))\n",
    "# string concatenation: +\n",
    "print('str1 + str2:', str1 + str2)\n",
    "# string formatting:\n",
    "str4 = 'a = %10d \\t sqrt(a) = %20.10f' % (a, sqrt(a))\n",
    "print(str4)"
   ]
  },
  {
   "cell_type": "code",
   "execution_count": 44,
   "metadata": {},
   "outputs": [
    {
     "name": "stdout",
     "output_type": "stream",
     "text": [
      "thursday\n",
      "thursday     \n",
      "NY\n",
      "NY\n",
      "NY\n",
      "ny\n"
     ]
    }
   ],
   "source": [
    "# Useful string methods:\n",
    "# It can be confusing to work on a list of strings.\n",
    "# Use the following code as a reference\n",
    "str = 'thursday'\n",
    "str2 = 'thursday     '\n",
    "print(str)\n",
    "print(str2)\n",
    "state = 'NY'\n",
    "state2 = 'ny'\n",
    "list1 = [state, state2]\n",
    "for k in range(len(list1)):\n",
    "    list1[k] = list1[k].upper()\n",
    "for item in list1:\n",
    "    print(item)\n",
    "print(state)\n",
    "print(state2)"
   ]
  },
  {
   "cell_type": "code",
   "execution_count": 32,
   "metadata": {},
   "outputs": [
    {
     "name": "stdout",
     "output_type": "stream",
     "text": [
      "Thursday\n",
      "THURSDAY\n",
      "            thursday\n",
      "      thursday      \n",
      "thursDay\n",
      "thursday\n"
     ]
    }
   ],
   "source": [
    "# capitalize a string\n",
    "print(str.capitalize())\n",
    "# convert to uppercase\n",
    "print(str.upper())\n",
    "# right-justify a string\n",
    "print(str.rjust(20))\n",
    "# center a string\n",
    "print(str.center(20))\n",
    "# replace all instances of one substring with another\n",
    "print(str.replace('d', 'D'))\n",
    "# strip leading and trailing whitespace\n",
    "print('      thursday      '.strip())"
   ]
  },
  {
   "cell_type": "markdown",
   "metadata": {},
   "source": [
    "### Containers: lists, dictionaries, sets, and tuples\n",
    "\n",
    "#### Lists\n",
    "\n",
    "A list is the Python equivalent of an array, but it is resizeable and can contain elements of different types."
   ]
  },
  {
   "cell_type": "code",
   "execution_count": 50,
   "metadata": {},
   "outputs": [
    {
     "name": "stdout",
     "output_type": "stream",
     "text": [
      "xs: [0, 1.0, 'bs']\n",
      "xs: [0, 1, 2, 3, 4, 5]\n",
      "xs[1] is the second element: 1\n",
      "xs[-2] is the second-to-last element: 4\n",
      "5\n",
      "4\n",
      "3\n",
      "2\n"
     ]
    }
   ],
   "source": [
    "# Define xs to be a list containing 0 to 5\n",
    "xs = [0, 1, 2, 3, 4, 5]\n",
    "xs = [0, 1.0, 'bs']\n",
    "print('xs:', xs)\n",
    "# OR:\n",
    "xs = range(0, 6) # xs = range(0, 6, 2) creates [0, 2, 4]\n",
    "print('xs:', list(xs))\n",
    "\n",
    "# print the second element of xs\n",
    "print('xs[1] is the second element:', xs[1])\n",
    "# negative indices count from the end of the list\n",
    "print('xs[-2] is the second-to-last element:', xs[-2])\n",
    "\n",
    "# EXERCISE: use negative index to print the last element of the list\n",
    "print(xs[-1])\n",
    "print(xs[-2])\n",
    "print(xs[-3])\n",
    "print(xs[-4])"
   ]
  },
  {
   "cell_type": "code",
   "execution_count": 53,
   "metadata": {},
   "outputs": [
    {
     "name": "stdout",
     "output_type": "stream",
     "text": [
      "xs: [0, 1, 2, 3, 4, 5, 'hello', 12.34]\n",
      "xs after one pop(): [0, 1, 2, 3, 4, 5, 'hello']\n",
      "x: 12.34\n",
      "y: hello\n",
      "xs after two pop(): [0, 1, 2, 3, 4, 5]\n",
      "index of 4: 4\n"
     ]
    }
   ],
   "source": [
    "# append() and pop()\n",
    "xs = [0, 1, 2, 3, 4, 5]\n",
    "xs.append('hello')\n",
    "xs.append(12.34)\n",
    "print(\"xs:\", xs)\n",
    "x = xs.pop()\n",
    "print(\"xs after one pop():\", xs)\n",
    "y = xs.pop()\n",
    "print(\"x:\", x)\n",
    "print(\"y:\", y)\n",
    "print(\"xs after two pop():\", xs)\n",
    "\n",
    "print(\"index of 4:\", xs.index(4))"
   ]
  },
  {
   "cell_type": "markdown",
   "metadata": {},
   "source": [
    "#### slicing\n",
    "\n",
    "Python provides concise syntax to access sublists; this is known as slicing."
   ]
  },
  {
   "cell_type": "code",
   "execution_count": 65,
   "metadata": {},
   "outputs": [
    {
     "name": "stdout",
     "output_type": "stream",
     "text": [
      "xs: [0, 1, 10, 'a', 'b', 'c', 20]\n",
      "xs[1:4]: [1, 10, 'a']\n",
      "xs[3:]: ['a', 'b', 'c', 20]\n",
      "xs[:3]: [0, 1, 10]\n",
      "xs[2:-1]: [10, 'a', 'b', 'c']\n",
      "xs: [0, 1, 10, 20, 20]\n",
      "[0, 1, 10, 'a', 'b', 'c', 20, 20]\n"
     ]
    }
   ],
   "source": [
    "# Use Ctrl + / to commment / uncomment texts\n",
    "print(\"xs:\", xs)\n",
    "# get a slice from the first index to the second index (exclusive)\n",
    "print('xs[1:4]:', xs[1:4])\n",
    "# get a slice from an index to the end\n",
    "print('xs[3:]:', xs[3:])\n",
    "# get a slice from the start to an index\n",
    "print('xs[:3]:', xs[:3])\n",
    "# use negative index\n",
    "print('xs[2:-1]:', xs[2:-1])\n",
    "# assign a new sublist to a slice\n",
    "xs[2:6] = [10, 20] # the lengths do not need to be equal\n",
    "print(\"xs:\", xs)\n",
    "# insert a new list ['a', 'b', 'c'] between 3 and 4\n",
    "xs[3:3] = ['a', 'b', 'c']\n",
    "print(xs)"
   ]
  },
  {
   "cell_type": "markdown",
   "metadata": {},
   "source": [
    "#### Looping through a list"
   ]
  },
  {
   "cell_type": "code",
   "execution_count": 66,
   "metadata": {},
   "outputs": [
    {
     "name": "stdout",
     "output_type": "stream",
     "text": [
      "Alice\n",
      "Bob\n",
      "Cyd\n",
      "0: Alice\n",
      "1: Bob\n",
      "2: Cyd\n"
     ]
    }
   ],
   "source": [
    "names = ['Alice', 'Bob', 'Cyd']\n",
    "for name in names:\n",
    "    print(name)\n",
    "for idx, name in enumerate(names):\n",
    "    print('%d: %s' % (idx, name))"
   ]
  },
  {
   "cell_type": "markdown",
   "metadata": {},
   "source": [
    "#### List comprehensions\n",
    "\n",
    "When programming, we frequently want to transform one type of data into another. This can be done through list comprehensions"
   ]
  },
  {
   "cell_type": "code",
   "execution_count": 76,
   "metadata": {},
   "outputs": [
    {
     "name": "stdout",
     "output_type": "stream",
     "text": [
      "['ALICE', 'BOB', 'CYD']\n"
     ]
    }
   ],
   "source": [
    "names = ['Alice', 'Bob', 'Cyd']\n",
    "# Bring all strings in names to uppercase:\n",
    "# # Solution 1: create another list\n",
    "# new_names = []\n",
    "# for name in names:\n",
    "#     new_names.append(name.upper())\n",
    "# print(new_names)\n",
    "# # Solution 2: loop with index\n",
    "# for k in range(len(names)):\n",
    "#     names[k] = names[k].upper()\n",
    "# print(names)\n",
    "# Solution 3: use list comprehension (it is equivalent to solution 1, but faster)\n",
    "new_names = [name.upper() for name in names]\n",
    "print(new_names)"
   ]
  },
  {
   "cell_type": "code",
   "execution_count": 78,
   "metadata": {},
   "outputs": [
    {
     "name": "stdout",
     "output_type": "stream",
     "text": [
      "['Bob', 'Cyd']\n"
     ]
    }
   ],
   "source": [
    "names = ['Alice', 'Bob', 'Cyd']\n",
    "# # create a sublist containing only strings of length <= 3\n",
    "# new_names = []\n",
    "# for name in names:\n",
    "#     if len(name) <= 3:\n",
    "#         new_names.append(name)\n",
    "# print(new_names)\n",
    "# Solution 2:\n",
    "new_names = [name for name in names if len(name) <= 3]\n",
    "print(new_names)"
   ]
  },
  {
   "cell_type": "code",
   "execution_count": 1,
   "metadata": {},
   "outputs": [
    {
     "name": "stdout",
     "output_type": "stream",
     "text": [
      "cap_names: ['ALICE', 'BOB', 'CYD']\n",
      "cap_names2: ['BOB', 'CYD']\n"
     ]
    }
   ],
   "source": [
    "# create a new list with names from names in uppercase\n",
    "names = ['Alice', 'Bob', 'Cyd']\n",
    "cap_names = [name.upper() for name in names]\n",
    "print(\"cap_names:\", cap_names)\n",
    "# create a new list with names from cap_names of length no greater than 3\n",
    "cap_names2 = [name for name in cap_names if len(name) <= 3]\n",
    "print(\"cap_names2:\", cap_names2)"
   ]
  },
  {
   "cell_type": "code",
   "execution_count": 80,
   "metadata": {},
   "outputs": [
    {
     "name": "stdout",
     "output_type": "stream",
     "text": [
      "[0, 9, 25, 49]\n"
     ]
    }
   ],
   "source": [
    "# Exercise 1: square all values in a list\n",
    "list1 = [0, 3, 5, 7]\n",
    "\n",
    "# list2 = []\n",
    "# for num in list1:\n",
    "#     list2.append(num ** 2)\n",
    "# print(list2)\n",
    "\n",
    "# use list comprehensions\n",
    "list2 = [i**2 for i in list1 ]\n",
    "print(list2)"
   ]
  },
  {
   "cell_type": "code",
   "execution_count": 82,
   "metadata": {},
   "outputs": [
    {
     "name": "stdout",
     "output_type": "stream",
     "text": [
      "[-3, -7]\n"
     ]
    }
   ],
   "source": [
    "# Exercise 2: extract all negative numbers from a list\n",
    "list1 = [1, -3, 5, -7, 10]\n",
    "\n",
    "# list2 = []\n",
    "# for num in list1:\n",
    "#     if num < 0:\n",
    "#         list2.append(num)\n",
    "# print(list2)\n",
    "\n",
    "list2 = [i for i in list1 if i < 0]\n",
    "print(list2)"
   ]
  },
  {
   "cell_type": "code",
   "execution_count": 87,
   "metadata": {},
   "outputs": [
    {
     "name": "stdout",
     "output_type": "stream",
     "text": [
      "Is 2 in list1? True\n"
     ]
    }
   ],
   "source": [
    "# Use keyword \"in\" to check if a value is in a list\n",
    "list1 = [1, 2, 4, 5, 6]\n",
    "print(\"Is 2 in list1?\", (2 in list1))"
   ]
  },
  {
   "cell_type": "markdown",
   "metadata": {},
   "source": [
    "#### Dictionaries\n",
    "\n",
    "A dictionary stores (key,value) pairs."
   ]
  },
  {
   "cell_type": "code",
   "execution_count": 88,
   "metadata": {},
   "outputs": [
    {
     "name": "stdout",
     "output_type": "stream",
     "text": [
      "C\n",
      "Is Alice in the dictionary? True\n",
      "grade for Bob: B\n"
     ]
    }
   ],
   "source": [
    "d = {\"Alice\": 'A',\n",
    "     \"Bob\": 'B',\n",
    "     \"Cyd\": 'C'}\n",
    "# Find the value corresponding to \"Alice\"\n",
    "print(d[\"Cyd\"])\n",
    "# check if an element is in a dictionary\n",
    "print(\"Is Alice in the dictionary?\", 'Alice' in d)\n",
    "# Get an entry from a dictionay\n",
    "print(\"grade for Bob:\", d['Bob'])"
   ]
  },
  {
   "cell_type": "markdown",
   "metadata": {},
   "source": [
    "#### Sets\n",
    "\n",
    "A set is an unordered collection of distinct elements"
   ]
  },
  {
   "cell_type": "code",
   "execution_count": 89,
   "metadata": {},
   "outputs": [
    {
     "name": "stdout",
     "output_type": "stream",
     "text": [
      "s: {0, 1, 2, 3, 4, 5}\n"
     ]
    }
   ],
   "source": [
    "from math import sqrt\n",
    "s = {int(sqrt(x)) for x in range(30)}\n",
    "print('s:', s)"
   ]
  },
  {
   "cell_type": "code",
   "execution_count": 91,
   "metadata": {},
   "outputs": [
    {
     "name": "stdout",
     "output_type": "stream",
     "text": [
      "7\n",
      "{1, 2, 3, 4, 5, 6, 7}\n"
     ]
    }
   ],
   "source": [
    "list1 = [1,2, 3, 1, 5, 3, 5, 6, 7, 4, 5]\n",
    "# Question: how many distinct values are there?\n",
    "set1 = set(list1)\n",
    "print(len(set1))\n",
    "print(set1)"
   ]
  },
  {
   "cell_type": "code",
   "execution_count": 93,
   "metadata": {},
   "outputs": [
    {
     "name": "stdout",
     "output_type": "stream",
     "text": [
      "{1, 3, 5, 7}\n",
      "{1, 2, 3, 4, 5, 6, 7, 9, 11}\n"
     ]
    }
   ],
   "source": [
    "set1 = {1, 2, 3, 4, 5, 6, 7}\n",
    "set2 = {1, 3, 5, 7, 9, 11}\n",
    "print(set1.intersection(set2))\n",
    "print(set1.union(set2))"
   ]
  },
  {
   "cell_type": "markdown",
   "metadata": {},
   "source": [
    "#### Tuples\n",
    "A tuple is an ordered list of values. It can be used as keys in dictionaries and as elements of sets, while lists cannot."
   ]
  },
  {
   "cell_type": "code",
   "execution_count": 96,
   "metadata": {},
   "outputs": [
    {
     "name": "stdout",
     "output_type": "stream",
     "text": [
      "1\n",
      "5\n"
     ]
    }
   ],
   "source": [
    "point1 = (1, 5)\n",
    "point2 = (5, 1)\n",
    "print(point1[0])\n",
    "print(point1[1])"
   ]
  },
  {
   "cell_type": "code",
   "execution_count": 2,
   "metadata": {},
   "outputs": [
    {
     "name": "stdout",
     "output_type": "stream",
     "text": [
      "d[(5,6)]: 5\n"
     ]
    }
   ],
   "source": [
    "d = {(x, x+1): x for x in range(10)}\n",
    "print('d[(5,6)]:', d[(5,6)])"
   ]
  },
  {
   "cell_type": "markdown",
   "metadata": {},
   "source": [
    "### Functions\n",
    "Python functions are defined using the def keyword. "
   ]
  },
  {
   "cell_type": "code",
   "execution_count": 4,
   "metadata": {},
   "outputs": [
    {
     "name": "stdout",
     "output_type": "stream",
     "text": [
      "negative -10\n"
     ]
    }
   ],
   "source": [
    "# Write a sign() function that returns 'positive', 'negative', or 'zero', according to the \n",
    "# sign of the input argument\n",
    "def sign(x):\n",
    "    if x > 0:\n",
    "        return 'positive', x\n",
    "    elif x < 0:\n",
    "        return 'negative', x\n",
    "    else:\n",
    "        return 'zero', x\n",
    "\n",
    "word, val = sign(-10)\n",
    "print(word, val)\n",
    "    \n",
    "# for x in [-1, 0, 1]:\n",
    "#     print(sign(x))"
   ]
  },
  {
   "cell_type": "markdown",
   "metadata": {},
   "source": [
    "Python functions may take optional arguments:"
   ]
  },
  {
   "cell_type": "code",
   "execution_count": 3,
   "metadata": {},
   "outputs": [
    {
     "name": "stdout",
     "output_type": "stream",
     "text": [
      "Hello, Bob!\n",
      "HELLO, FRED!\n"
     ]
    }
   ],
   "source": [
    "def hello(name, loud=False):\n",
    "    if loud:\n",
    "        print('HELLO, %s!' % name.upper())\n",
    "    else: \n",
    "        print('Hello, %s!' % name)\n",
    "\n",
    "hello('Bob')\n",
    "hello('Fred', loud=True)"
   ]
  },
  {
   "cell_type": "markdown",
   "metadata": {},
   "source": [
    "### Classes"
   ]
  },
  {
   "cell_type": "code",
   "execution_count": 5,
   "metadata": {},
   "outputs": [
    {
     "name": "stdout",
     "output_type": "stream",
     "text": [
      "Name: Fred       | Grade: F\n"
     ]
    }
   ],
   "source": [
    "# A class Student with attributes name and grade, a constructor __init__, \n",
    "# and method print_info:\n",
    "class Student:\n",
    "    \n",
    "    def __init__(self, name, grade):\n",
    "        self.name = name\n",
    "        self.grade = grade\n",
    "        \n",
    "    def print_info(self):\n",
    "        print('Name: %-10s | Grade: %s' % (self.name, self.grade))\n",
    "        \n",
    "Fred = Student('Fred', 'F')\n",
    "Fred.print_info()"
   ]
  },
  {
   "cell_type": "markdown",
   "metadata": {},
   "source": [
    "## Numpy\n",
    "\n",
    "Numpy is the core library for scientific computing in Python. It provides a high-performance multidimensional array object, and tools for working with these arrays. "
   ]
  },
  {
   "cell_type": "code",
   "execution_count": 97,
   "metadata": {},
   "outputs": [
    {
     "name": "stdout",
     "output_type": "stream",
     "text": [
      "ary: [1 2 3]\n",
      "ary2:\n",
      "[[1 2 3]\n",
      " [4 5 6]]\n"
     ]
    }
   ],
   "source": [
    "# import the numpy library\n",
    "import numpy as np\n",
    "\n",
    "# define an 1D array\n",
    "ary = np.array([1, 2, 3])\n",
    "print('ary:', ary)\n",
    "# define a 2D array\n",
    "ary2 = np.array([\n",
    "    [1, 2, 3],\n",
    "    [4, 5, 6]\n",
    "])\n",
    "print('ary2:')\n",
    "print(ary2)"
   ]
  },
  {
   "cell_type": "code",
   "execution_count": 98,
   "metadata": {},
   "outputs": [
    {
     "name": "stdout",
     "output_type": "stream",
     "text": [
      "ary2.shape: (2, 3)\n"
     ]
    }
   ],
   "source": [
    "print('ary2.shape:', ary2.shape)"
   ]
  },
  {
   "cell_type": "code",
   "execution_count": 99,
   "metadata": {},
   "outputs": [
    {
     "name": "stdout",
     "output_type": "stream",
     "text": [
      "[[1 2 3]\n",
      " [4 5 6]]\n"
     ]
    }
   ],
   "source": [
    "ary3 = ary2.reshape([2, -1])\n",
    "print(ary3)"
   ]
  },
  {
   "cell_type": "code",
   "execution_count": 100,
   "metadata": {},
   "outputs": [
    {
     "name": "stdout",
     "output_type": "stream",
     "text": [
      "[[0. 0. 0.]\n",
      " [0. 0. 0.]]\n",
      "[[1. 1. 1.]\n",
      " [1. 1. 1.]]\n",
      "[[1. 0. 0.]\n",
      " [0. 1. 0.]\n",
      " [0. 0. 1.]]\n",
      "[[0.64657995 0.50003366]\n",
      " [0.88775874 0.03077603]]\n"
     ]
    }
   ],
   "source": [
    "# create an array of all zeros\n",
    "print(np.zeros((2, 3)))\n",
    "# create an array of all ones\n",
    "print(np.ones((2, 3)))\n",
    "# create an identity matrix\n",
    "print(np.eye(3))\n",
    "# create a Gaussian random matrix\n",
    "print(np.random.random((2,2)))"
   ]
  },
  {
   "cell_type": "code",
   "execution_count": 101,
   "metadata": {},
   "outputs": [
    {
     "name": "stdout",
     "output_type": "stream",
     "text": [
      "x:\n",
      "[[1 2]\n",
      " [3 4]]\n",
      "y:\n",
      "[[5 6]\n",
      " [7 8]]\n",
      "x + y:\n",
      "[[ 6  8]\n",
      " [10 12]]\n",
      "x - 1:\n",
      "[[0 1]\n",
      " [2 3]]\n",
      "x * y multiplies elements pairwise:\n",
      "[[ 5 12]\n",
      " [21 32]]\n",
      "x.dot(y) multiplies x and y as matrices:\n",
      "[[19 22]\n",
      " [43 50]]\n",
      "x.T transposes x:\n",
      "[[1 3]\n",
      " [2 4]]\n",
      "np.linalg.inv(x) computes the inverse of x:\n",
      "[[-2.   1. ]\n",
      " [ 1.5 -0.5]]\n",
      "x.dot(inv_x):\n",
      "[[1.00000000e+00 1.11022302e-16]\n",
      " [0.00000000e+00 1.00000000e+00]]\n"
     ]
    }
   ],
   "source": [
    "# Array math:\n",
    "x = np.array([[1,2], [3,4]])\n",
    "y = np.array([[5,6], [7,8]])\n",
    "print('x:')\n",
    "print(x)\n",
    "print('y:')\n",
    "print(y)\n",
    "# elementwise addition of x and y\n",
    "print('x + y:')\n",
    "print(x + y)\n",
    "# subtract all element of x by 1\n",
    "print('x - 1:')\n",
    "print(x - 1)\n",
    "# multiply x and y elementwise\n",
    "print('x * y multiplies elements pairwise:')\n",
    "print(x * y)\n",
    "# multiply x and y as matrices\n",
    "print('x.dot(y) multiplies x and y as matrices:')\n",
    "print(x.dot(y))\n",
    "# transpose of x\n",
    "print('x.T transposes x:')\n",
    "print(x.T)\n",
    "# matrix inverse of x\n",
    "print('np.linalg.inv(x) computes the inverse of x:')\n",
    "inv_x = np.linalg.inv(x)\n",
    "print(inv_x)\n",
    "print('x.dot(inv_x):')\n",
    "print(x.dot(inv_x))"
   ]
  },
  {
   "cell_type": "markdown",
   "metadata": {},
   "source": [
    "### Matplotlib\n",
    "\n",
    "Matplotlib is a plotting library. We will mainly use matplotlib.pyplot to plot graphs"
   ]
  },
  {
   "cell_type": "code",
   "execution_count": null,
   "metadata": {},
   "outputs": [],
   "source": [
    "x"
   ]
  },
  {
   "cell_type": "code",
   "execution_count": 102,
   "metadata": {},
   "outputs": [
    {
     "data": {
      "text/plain": [
       "[<matplotlib.lines.Line2D at 0x1bb8f7baf98>]"
      ]
     },
     "execution_count": 102,
     "metadata": {},
     "output_type": "execute_result"
    },
    {
     "data": {
      "image/png": "[encoded data removed]",
      "text/plain": [
       "<matplotlib.figure.Figure at 0x1bb8e30c4a8>"
      ]
     },
     "metadata": {},
     "output_type": "display_data"
    }
   ],
   "source": [
    "# import pyplot\n",
    "import matplotlib.pyplot as plt\n",
    "# include the following \"magic command\" will allow graphs shown in the notebook\n",
    "%matplotlib inline\n",
    "\n",
    "# Plot the graph of y=sin(x)\n",
    "x = np.arange(0, 3 * np.pi, 0.1) # sample many x coordinates\n",
    "y = np.sin(x)\n",
    "# y = [math.sin(z) for z in x]\n",
    "plt.plot(x, y)"
   ]
  },
  {
   "cell_type": "markdown",
   "metadata": {},
   "source": [
    "# Exercise 1\n",
    "\n",
    "1. Use variable “savings” to store the amount of bank savings (1000)\n",
    "2. Use variable “interest_multiplier” to store the multiplier 1.05\n",
    "3. Assign to variable “year1” the amount of money after 1 year.\n",
    "4. Print the result in the following sentence:\n",
    "\t“I started with \\\\$xxxx and now have \\\\$xxxx.”\n",
    "5. Assign to variable “year7” the amount of money after 7 years.\n",
    "6. Print the result in a sentence similar to d).\n",
    "7. Find the types of all variables used in this script."
   ]
  },
  {
   "cell_type": "code",
   "execution_count": 7,
   "metadata": {},
   "outputs": [
    {
     "name": "stdout",
     "output_type": "stream",
     "text": [
      "I started with $ 1000 and now have $ 1050.0 after 1 year.\n",
      "\n",
      "\n"
     ]
    }
   ],
   "source": [
    "savings = 1000 \n",
    "interest_multiplier = 1.05\n",
    "year1 = savings * interest_multiplier\n",
    "print(\"I started with $\", savings, \"and now have $\", year1, \"after 1 year.\", end='\\n\\n\\n')"
   ]
  },
  {
   "cell_type": "code",
   "execution_count": 8,
   "metadata": {},
   "outputs": [
    {
     "name": "stdout",
     "output_type": "stream",
     "text": [
      "I had $ 1050.0 after 1 year and now have $ 7350.0 after 7 years.\n",
      "\n",
      "\n"
     ]
    }
   ],
   "source": [
    "year7 = (savings * interest_multiplier)*7\n",
    "print(\"I had $\",year1, \"after 1 year and now have $\", year7, \"after 7 years.\", end='\\n\\n\\n')"
   ]
  },
  {
   "cell_type": "markdown",
   "metadata": {
    "scrolled": true
   },
   "source": [
    "# Exercise 2\n",
    "\n",
    "In the next cell, plot the graph of y = (x+1)^2 over interval [-2, 2]"
   ]
  },
  {
   "cell_type": "code",
   "execution_count": 9,
   "metadata": {},
   "outputs": [],
   "source": [
    "# import pyplot\n",
    "import matplotlib.pyplot as plt\n",
    "import numpy as np\n",
    "\n",
    "%matplotlib inline\n",
    "\n",
    "# Plot the graph of y = (x+1)^2 over interval [-2, 2]\n",
    "x = np.linspace(-2, 2, 100)\n",
    "y = (x+1)**2"
   ]
  },
  {
   "cell_type": "code",
   "execution_count": 10,
   "metadata": {},
   "outputs": [
    {
     "data": {
      "image/png": "[encoded data removed]",
      "text/plain": [
       "<Figure size 432x288 with 1 Axes>"
      ]
     },
     "metadata": {
      "needs_background": "light"
     },
     "output_type": "display_data"
    }
   ],
   "source": [
    "plt.plot(x, y, '-r', label='y=(x+1)^2')\n",
    "plt.title('Graph of y=(x+1)^2')\n",
    "plt.legend(loc='upper left')\n",
    "plt.grid()\n",
    "plt.show()"
   ]
  },
  {
   "cell_type": "markdown",
   "metadata": {
    "scrolled": true
   },
   "source": [
    "# Exercise 3:\n",
    "Plot the graph of sin(x) and cos(x) over interval [0, 3pi]. Add title, legend, and axis\n",
    "labels to the graph."
   ]
  },
  {
   "cell_type": "code",
   "execution_count": 11,
   "metadata": {},
   "outputs": [],
   "source": [
    "# import pyplot\n",
    "# import numpy\n",
    "import matplotlib.pyplot as plt\n",
    "import numpy as np\n",
    "\n",
    "%matplotlib inline\n",
    "\n",
    "# Plot the graph of sin(x) and cos(x) over interval [0, 3pi]\n",
    "x = np.arange(0, 3 * np.pi, 0.1) \n",
    "y = np.sin(x)\n",
    "z = np.cos(x)"
   ]
  },
  {
   "cell_type": "code",
   "execution_count": 12,
   "metadata": {
    "scrolled": true
   },
   "outputs": [
    {
     "data": {
      "image/png": "[encoded data removed]",
      "text/plain": [
       "<Figure size 432x288 with 1 Axes>"
      ]
     },
     "metadata": {
      "needs_background": "light"
     },
     "output_type": "display_data"
    }
   ],
   "source": [
    "plt.plot(x, y, x, z)\n",
    "plt.xlabel('x values from 0 to 3pi')\n",
    "plt.ylabel('sin(x) and cos(x)')\n",
    "plt.title('Plot of sin and cos from 0 to 3pi')\n",
    "plt.legend(['sin(x)', 'cos(x)'])\n",
    "plt.show()"
   ]
  }
 ],
 "metadata": {
  "kernelspec": {
   "display_name": "Python 3",
   "language": "python",
   "name": "python3"
  },
  "language_info": {
   "codemirror_mode": {
    "name": "ipython",
    "version": 3
   },
   "file_extension": ".py",
   "mimetype": "text/x-python",
   "name": "python",
   "nbconvert_exporter": "python",
   "pygments_lexer": "ipython3",
   "version": "3.7.3"
  }
 },
 "nbformat": 4,
 "nbformat_minor": 2
}
